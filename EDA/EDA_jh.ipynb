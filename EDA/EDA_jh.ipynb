{
  "nbformat": 4,
  "nbformat_minor": 0,
  "metadata": {
    "colab": {
      "name": "log_analysis_EDA_jh.ipynb",
      "provenance": [],
      "include_colab_link": true
    },
    "kernelspec": {
      "name": "python3",
      "display_name": "Python 3"
    },
    "language_info": {
      "name": "python"
    },
    "accelerator": "GPU"
  },
  "cells": [
    {
      "cell_type": "markdown",
      "metadata": {
        "id": "view-in-github",
        "colab_type": "text"
      },
      "source": [
        "<a href=\"https://colab.research.google.com/github/EnaJeong/LogInAndOut-log-severity-level-analysis/blob/jihoon/EDA/EDA_jh.ipynb\" target=\"_parent\"><img src=\"https://colab.research.google.com/assets/colab-badge.svg\" alt=\"Open In Colab\"/></a>"
      ]
    },
    {
      "cell_type": "code",
      "metadata": {
        "id": "0-ROcsH_V7OE"
      },
      "source": [
        "!pip install dataframe"
      ],
      "execution_count": null,
      "outputs": []
    },
    {
      "cell_type": "code",
      "metadata": {
        "id": "fDJrxvbo38KD"
      },
      "source": [
        "import os \n",
        "import pandas as pd\n",
        "\n",
        "import re\n",
        "import numpy as np\n",
        "import seaborn as sbn\n",
        "\n",
        "from matplotlib import pyplot as plt\n",
        "from sklearn.feature_extraction.text import CountVectorizer"
      ],
      "execution_count": null,
      "outputs": []
    },
    {
      "cell_type": "code",
      "metadata": {
        "colab": {
          "base_uri": "https://localhost:8080/"
        },
        "id": "sQ8u2-UPlUaM",
        "outputId": "afb7dd61-f0a2-4a22-e898-a27e46d61d76"
      },
      "source": [
        "# 데이터 전체 출력을 보기 위함\n",
        "pd.set_option('display.max_colwidth', -1)"
      ],
      "execution_count": null,
      "outputs": [
        {
          "output_type": "stream",
          "text": [
            "/usr/local/lib/python3.7/dist-packages/ipykernel_launcher.py:2: FutureWarning: Passing a negative integer is deprecated in version 1.0 and will not be supported in future version. Instead, use None to not limit the column width.\n",
            "  \n"
          ],
          "name": "stderr"
        }
      ]
    },
    {
      "cell_type": "code",
      "metadata": {
        "colab": {
          "base_uri": "https://localhost:8080/"
        },
        "id": "fmLD5luL4Caw",
        "outputId": "96bb2f06-1699-4b84-c666-0f58432c0e69"
      },
      "source": [
        "%%time\n",
        "data_path = os.path.join('data')\n",
        "\n",
        "train_df = pd.read_csv(os.path.join(data_path,'/content/drive/MyDrive/log_data/train.csv'))\n",
        "validation_df = pd.read_csv(os.path.join(data_path,'/content/drive/MyDrive/log_data/validation_sample.csv'))\n",
        "test_df = pd.read_csv(os.path.join(data_path,'/content/drive/MyDrive/log_data/test.csv'))\n",
        "submission_df = pd.read_csv(os.path.join(data_path,'/content/drive/MyDrive/log_data/sample_submission.csv'))"
      ],
      "execution_count": null,
      "outputs": [
        {
          "output_type": "stream",
          "text": [
            "CPU times: user 8.63 s, sys: 1.07 s, total: 9.7 s\n",
            "Wall time: 18.6 s\n"
          ],
          "name": "stdout"
        }
      ]
    },
    {
      "cell_type": "code",
      "metadata": {
        "colab": {
          "base_uri": "https://localhost:8080/"
        },
        "id": "jRRtqoBSTqv9",
        "outputId": "73d0b8e3-c6f5-47b9-a8b6-2c647fcc9762"
      },
      "source": [
        "train_df.info()"
      ],
      "execution_count": null,
      "outputs": [
        {
          "output_type": "stream",
          "text": [
            "<class 'pandas.core.frame.DataFrame'>\n",
            "RangeIndex: 472972 entries, 0 to 472971\n",
            "Data columns (total 3 columns):\n",
            " #   Column    Non-Null Count   Dtype \n",
            "---  ------    --------------   ----- \n",
            " 0   id        472972 non-null  int64 \n",
            " 1   level     472972 non-null  int64 \n",
            " 2   full_log  472972 non-null  object\n",
            "dtypes: int64(2), object(1)\n",
            "memory usage: 10.8+ MB\n"
          ],
          "name": "stdout"
        }
      ]
    },
    {
      "cell_type": "code",
      "metadata": {
        "colab": {
          "base_uri": "https://localhost:8080/"
        },
        "id": "mgC11Q4flAe0",
        "outputId": "94eeb3b7-e9fa-4bb1-c27b-780e5acbc8c0"
      },
      "source": [
        "train_df = train_df.astype(dtype={'full_log': 'string'})\n",
        "print(train_df.dtypes)"
      ],
      "execution_count": null,
      "outputs": [
        {
          "output_type": "stream",
          "text": [
            "id           int64\n",
            "level        int64\n",
            "full_log    string\n",
            "dtype: object\n"
          ],
          "name": "stdout"
        }
      ]
    },
    {
      "cell_type": "code",
      "metadata": {
        "colab": {
          "base_uri": "https://localhost:8080/"
        },
        "id": "q6SXHYPblyOJ",
        "outputId": "10355879-569f-46d6-f26c-4da1cc911aff"
      },
      "source": [
        "train_df.shape"
      ],
      "execution_count": null,
      "outputs": [
        {
          "output_type": "execute_result",
          "data": {
            "text/plain": [
              "(472972, 3)"
            ]
          },
          "metadata": {
            "tags": []
          },
          "execution_count": 25
        }
      ]
    },
    {
      "cell_type": "code",
      "metadata": {
        "colab": {
          "base_uri": "https://localhost:8080/"
        },
        "id": "6fU-sle6l1pu",
        "outputId": "db305df2-8ec1-404a-dedf-245f4456d60a"
      },
      "source": [
        "# 레벨별 데이터 확인 \n",
        "train_df['level'].value_counts().sort_index()"
      ],
      "execution_count": null,
      "outputs": [
        {
          "output_type": "execute_result",
          "data": {
            "text/plain": [
              "0    334065\n",
              "1    132517\n",
              "2    12    \n",
              "3    4141  \n",
              "4    10    \n",
              "5    2219  \n",
              "6    8     \n",
              "Name: level, dtype: int64"
            ]
          },
          "metadata": {
            "tags": []
          },
          "execution_count": 26
        }
      ]
    },
    {
      "cell_type": "code",
      "metadata": {
        "id": "dhLR5T8o2rMJ",
        "colab": {
          "base_uri": "https://localhost:8080/"
        },
        "outputId": "436ec41f-b300-4b78-e65d-86bef09498d9"
      },
      "source": [
        "# 등급 별 샘플 데이터프레임 추출\n",
        "sample_df = pd.DataFrame(columns=['id', 'level', 'full_log'])\n",
        "for i in train_df['level'].unique():\n",
        "    temp_df = train_df.query('level==@i').sample()\n",
        "    sample_df = pd.concat([sample_df, temp_df])\n",
        "sample_df.sort_values(by=['level'], axis=0, inplace=True)\n",
        "\n",
        "# 등급 별 full_log로 보기 \n",
        "for i in range(len(sample_df)):\n",
        "    print('level: ', i, '\\n',sample_df.iloc[i, 2])\n",
        "    print()"
      ],
      "execution_count": null,
      "outputs": [
        {
          "output_type": "stream",
          "text": [
            "level:  0 \n",
            " Jan 25 22:19:06 localhost logstash: [2021-01-25T22:19:06,207][ERROR][logstash.inputs.jdbc     ] Unable to connect to database. Tried 1 times {:error_message=>\"Java::ComMysqlJdbcExceptionsJdbc4::CommunicationsException: Communications link failure\\n\\nThe last packet sent successfully to the server was 0 milliseconds ago. The driver has not received any packets from the server.\"}\n",
            "\n",
            "level:  1 \n",
            " Jan 23 08:00:02 localhost sudo: pam_unix(sudo:session): session closed for user root\n",
            "\n",
            "level:  2 \n",
            " The average number of logs between 14:00 and 15:00 is 9734. We reached 26958.\n",
            "\n",
            "level:  3 \n",
            " Nov 18 14:04:03 sv260 sshd[8646]: Failed password for root from 61.41.101.142 port 42390 ssh2\n",
            "\n",
            "level:  4 \n",
            " Nov 8 20:25:42 sv260 sshd[37597]: Did not receive identification string from 192.168.0.181\n",
            "\n",
            "level:  5 \n",
            " oscap: msg: \"xccdf-result\", scan-id: \"0001605570454\", content: \"ssg-centos-7-ds.xml\", title: \"Set Password Minimum Length\", id: \"xccdf_org.ssgproject.content_rule_accounts_password_pam_minlen\", result: \"fail\", severity: \"medium\", description: \"The pam_pwquality module's minlen parameter controls requirements for minimum characters required in a password. Add minlen= after pam_pwquality to set minimum password length requirements.\", rationale: \"The shorter the password, the lower the number of possible combinations that need to be tested before the password is compromised. Password complexity, or strength, is a measure of the effectiveness of a password in resisting attempts at guessing and brute-force attacks. Password length is one factor of several that helps to determine strength and how long it takes to crack a password. Use of more characters in a password helps to exponentially increase the time and/or resources required to compromose the password.\" references: \"IA-5(1)(a) (http://nvlpubs.nist.gov/nistpubs/SpecialPublications/NIST.SP.800-53r4.pdf), 205 (http://iase.disa.mil/stigs/cci/Pages/index.aspx), SRG-OS-000078-GPOS-00046 (), Req-8.2.3 (https://www.pcisecuritystandards.org/documents/PCI_DSS_v3-1.pdf), 6.3.2 (https://benchmarks.cisecurity.org/tools2/linux/CIS_Red_Hat_Enterprise_Linux_7_Benchmark_v1.1.0.pdf)\", identifiers: \"\", oval-id: \"oval:ssg-accounts_password_pam_minlen:def:1\", benchmark-id: \"xccdf_org.ssgproject.content_benchmark_RHEL-7\", profile-id: \"xccdf_org.ssgproject.content_profile_pci-dss\", profile-title: \"PCI-DSS v3 Control Baseline for Red Hat Enterprise Linux 7\".\n",
            "\n",
            "level:  6 \n",
            " Feb  8 16:16:47 localhost kernel: device virbr0-nic entered promiscuous mode\n",
            "\n"
          ],
          "name": "stdout"
        }
      ]
    },
    {
      "cell_type": "code",
      "metadata": {
        "colab": {
          "base_uri": "https://localhost:8080/"
        },
        "id": "dphVHUbNn9HG",
        "outputId": "c5125269-0b07-4110-aa5d-9cdca5d8da0e"
      },
      "source": [
        "# 중복된 데이터 확인 \n",
        "train_df.duplicated(['full_log']).sum()"
      ],
      "execution_count": null,
      "outputs": [
        {
          "output_type": "execute_result",
          "data": {
            "text/plain": [
              "68836"
            ]
          },
          "metadata": {
            "tags": []
          },
          "execution_count": 48
        }
      ]
    },
    {
      "cell_type": "markdown",
      "metadata": {
        "id": "bCTDpR_vRNMg"
      },
      "source": [
        "# 레벨별 로그의 특징"
      ]
    },
    {
      "cell_type": "code",
      "metadata": {
        "colab": {
          "base_uri": "https://localhost:8080/",
          "height": 315
        },
        "id": "7Z4UjSVsK53Y",
        "outputId": "50d86260-cd7d-4f36-afbf-410137e37e84"
      },
      "source": [
        "#  \n",
        "print('level 6 data count: ', len(train_df[train_df['level']==6]))\n",
        "train_df[train_df['level']==6]"
      ],
      "execution_count": null,
      "outputs": [
        {
          "output_type": "stream",
          "text": [
            "level 6 data count:  8\n"
          ],
          "name": "stdout"
        },
        {
          "output_type": "execute_result",
          "data": {
            "text/html": [
              "<div>\n",
              "<style scoped>\n",
              "    .dataframe tbody tr th:only-of-type {\n",
              "        vertical-align: middle;\n",
              "    }\n",
              "\n",
              "    .dataframe tbody tr th {\n",
              "        vertical-align: top;\n",
              "    }\n",
              "\n",
              "    .dataframe thead th {\n",
              "        text-align: right;\n",
              "    }\n",
              "</style>\n",
              "<table border=\"1\" class=\"dataframe\">\n",
              "  <thead>\n",
              "    <tr style=\"text-align: right;\">\n",
              "      <th></th>\n",
              "      <th>id</th>\n",
              "      <th>level</th>\n",
              "      <th>full_log</th>\n",
              "    </tr>\n",
              "  </thead>\n",
              "  <tbody>\n",
              "    <tr>\n",
              "      <th>87783</th>\n",
              "      <td>87783</td>\n",
              "      <td>6</td>\n",
              "      <td>Jan 30 08:23:17 localhost sshd[18415]: Bad protocol version identification '\\003' from 78.128.113.18 port 1073</td>\n",
              "    </tr>\n",
              "    <tr>\n",
              "      <th>170386</th>\n",
              "      <td>170386</td>\n",
              "      <td>6</td>\n",
              "      <td>Feb  8 16:16:47 localhost kernel: device virbr0-nic entered promiscuous mode</td>\n",
              "    </tr>\n",
              "    <tr>\n",
              "      <th>213304</th>\n",
              "      <td>213304</td>\n",
              "      <td>6</td>\n",
              "      <td>Mar  8 15:29:30 localhost kernel: device enp2s0 entered promiscuous mode</td>\n",
              "    </tr>\n",
              "    <tr>\n",
              "      <th>221847</th>\n",
              "      <td>221847</td>\n",
              "      <td>6</td>\n",
              "      <td>Jan 29 11:28:59 localhost useradd[88679]: new group: name=test, GID=1001</td>\n",
              "    </tr>\n",
              "    <tr>\n",
              "      <th>223644</th>\n",
              "      <td>223644</td>\n",
              "      <td>6</td>\n",
              "      <td>Jan 22 15:18:49 localhost sshd[19015]: error: maximum authentication attempts exceeded for root from 192.168.0.197 port 61153 ssh2 [preauth]</td>\n",
              "    </tr>\n",
              "    <tr>\n",
              "      <th>361823</th>\n",
              "      <td>361823</td>\n",
              "      <td>6</td>\n",
              "      <td>Feb  2 17:22:58 localhost kernel: device virbr0-nic entered promiscuous mode</td>\n",
              "    </tr>\n",
              "    <tr>\n",
              "      <th>406796</th>\n",
              "      <td>406796</td>\n",
              "      <td>6</td>\n",
              "      <td>Feb  4 09:59:33 localhost kernel: device virbr0-nic entered promiscuous mode</td>\n",
              "    </tr>\n",
              "    <tr>\n",
              "      <th>429489</th>\n",
              "      <td>429489</td>\n",
              "      <td>6</td>\n",
              "      <td>Feb  4 09:59:43 localhost kernel: device enp2s0 entered promiscuous mode</td>\n",
              "    </tr>\n",
              "  </tbody>\n",
              "</table>\n",
              "</div>"
            ],
            "text/plain": [
              "            id  ...                                                                                                                                      full_log\n",
              "87783   87783   ...  Jan 30 08:23:17 localhost sshd[18415]: Bad protocol version identification '\\003' from 78.128.113.18 port 1073                              \n",
              "170386  170386  ...  Feb  8 16:16:47 localhost kernel: device virbr0-nic entered promiscuous mode                                                                \n",
              "213304  213304  ...  Mar  8 15:29:30 localhost kernel: device enp2s0 entered promiscuous mode                                                                    \n",
              "221847  221847  ...  Jan 29 11:28:59 localhost useradd[88679]: new group: name=test, GID=1001                                                                    \n",
              "223644  223644  ...  Jan 22 15:18:49 localhost sshd[19015]: error: maximum authentication attempts exceeded for root from 192.168.0.197 port 61153 ssh2 [preauth]\n",
              "361823  361823  ...  Feb  2 17:22:58 localhost kernel: device virbr0-nic entered promiscuous mode                                                                \n",
              "406796  406796  ...  Feb  4 09:59:33 localhost kernel: device virbr0-nic entered promiscuous mode                                                                \n",
              "429489  429489  ...  Feb  4 09:59:43 localhost kernel: device enp2s0 entered promiscuous mode                                                                    \n",
              "\n",
              "[8 rows x 3 columns]"
            ]
          },
          "metadata": {
            "tags": []
          },
          "execution_count": 46
        }
      ]
    },
    {
      "cell_type": "code",
      "metadata": {
        "colab": {
          "base_uri": "https://localhost:8080/",
          "height": 204
        },
        "id": "C4dkrU4bOllL",
        "outputId": "897af802-3874-4f5b-a1c2-0bbb1fb36ab6"
      },
      "source": [
        "train_df.loc[train_df['full_log'].str.contains('promiscuous')]"
      ],
      "execution_count": null,
      "outputs": [
        {
          "output_type": "execute_result",
          "data": {
            "text/html": [
              "<div>\n",
              "<style scoped>\n",
              "    .dataframe tbody tr th:only-of-type {\n",
              "        vertical-align: middle;\n",
              "    }\n",
              "\n",
              "    .dataframe tbody tr th {\n",
              "        vertical-align: top;\n",
              "    }\n",
              "\n",
              "    .dataframe thead th {\n",
              "        text-align: right;\n",
              "    }\n",
              "</style>\n",
              "<table border=\"1\" class=\"dataframe\">\n",
              "  <thead>\n",
              "    <tr style=\"text-align: right;\">\n",
              "      <th></th>\n",
              "      <th>id</th>\n",
              "      <th>level</th>\n",
              "      <th>full_log</th>\n",
              "    </tr>\n",
              "  </thead>\n",
              "  <tbody>\n",
              "    <tr>\n",
              "      <th>170386</th>\n",
              "      <td>170386</td>\n",
              "      <td>6</td>\n",
              "      <td>Feb  8 16:16:47 localhost kernel: device virbr0-nic entered promiscuous mode</td>\n",
              "    </tr>\n",
              "    <tr>\n",
              "      <th>213304</th>\n",
              "      <td>213304</td>\n",
              "      <td>6</td>\n",
              "      <td>Mar  8 15:29:30 localhost kernel: device enp2s0 entered promiscuous mode</td>\n",
              "    </tr>\n",
              "    <tr>\n",
              "      <th>361823</th>\n",
              "      <td>361823</td>\n",
              "      <td>6</td>\n",
              "      <td>Feb  2 17:22:58 localhost kernel: device virbr0-nic entered promiscuous mode</td>\n",
              "    </tr>\n",
              "    <tr>\n",
              "      <th>406796</th>\n",
              "      <td>406796</td>\n",
              "      <td>6</td>\n",
              "      <td>Feb  4 09:59:33 localhost kernel: device virbr0-nic entered promiscuous mode</td>\n",
              "    </tr>\n",
              "    <tr>\n",
              "      <th>429489</th>\n",
              "      <td>429489</td>\n",
              "      <td>6</td>\n",
              "      <td>Feb  4 09:59:43 localhost kernel: device enp2s0 entered promiscuous mode</td>\n",
              "    </tr>\n",
              "  </tbody>\n",
              "</table>\n",
              "</div>"
            ],
            "text/plain": [
              "            id  ...                                                                      full_log\n",
              "170386  170386  ...  Feb  8 16:16:47 localhost kernel: device virbr0-nic entered promiscuous mode\n",
              "213304  213304  ...  Mar  8 15:29:30 localhost kernel: device enp2s0 entered promiscuous mode    \n",
              "361823  361823  ...  Feb  2 17:22:58 localhost kernel: device virbr0-nic entered promiscuous mode\n",
              "406796  406796  ...  Feb  4 09:59:33 localhost kernel: device virbr0-nic entered promiscuous mode\n",
              "429489  429489  ...  Feb  4 09:59:43 localhost kernel: device enp2s0 entered promiscuous mode    \n",
              "\n",
              "[5 rows x 3 columns]"
            ]
          },
          "metadata": {
            "tags": []
          },
          "execution_count": 27
        }
      ]
    },
    {
      "cell_type": "code",
      "metadata": {
        "colab": {
          "base_uri": "https://localhost:8080/",
          "height": 359
        },
        "id": "6un-YDsAMemg",
        "outputId": "244c845d-3aec-4f4a-8b2c-a199f5a274f3"
      },
      "source": [
        "train_df[train_df['level']==4]"
      ],
      "execution_count": null,
      "outputs": [
        {
          "output_type": "execute_result",
          "data": {
            "text/html": [
              "<div>\n",
              "<style scoped>\n",
              "    .dataframe tbody tr th:only-of-type {\n",
              "        vertical-align: middle;\n",
              "    }\n",
              "\n",
              "    .dataframe tbody tr th {\n",
              "        vertical-align: top;\n",
              "    }\n",
              "\n",
              "    .dataframe thead th {\n",
              "        text-align: right;\n",
              "    }\n",
              "</style>\n",
              "<table border=\"1\" class=\"dataframe\">\n",
              "  <thead>\n",
              "    <tr style=\"text-align: right;\">\n",
              "      <th></th>\n",
              "      <th>id</th>\n",
              "      <th>level</th>\n",
              "      <th>full_log</th>\n",
              "    </tr>\n",
              "  </thead>\n",
              "  <tbody>\n",
              "    <tr>\n",
              "      <th>64919</th>\n",
              "      <td>64919</td>\n",
              "      <td>4</td>\n",
              "      <td>Nov 29 05:44:21 localhost sshd[6008]: Did not receive identification string from 211.253.243.66 port 57487</td>\n",
              "    </tr>\n",
              "    <tr>\n",
              "      <th>85354</th>\n",
              "      <td>85354</td>\n",
              "      <td>4</td>\n",
              "      <td>Nov 29 22:16:32 sv260 sshd[39585]: Did not receive identification string from 211.253.243.66</td>\n",
              "    </tr>\n",
              "    <tr>\n",
              "      <th>123069</th>\n",
              "      <td>123069</td>\n",
              "      <td>4</td>\n",
              "      <td>Nov 3 10:38:05 localhost sshd[76373]: Did not receive identification string from 192.168.0.195 port 3819</td>\n",
              "    </tr>\n",
              "    <tr>\n",
              "      <th>167164</th>\n",
              "      <td>167164</td>\n",
              "      <td>4</td>\n",
              "      <td>Nov 21 01:02:56 sv260 sshd[9196]: Did not receive identification string from 211.253.243.66</td>\n",
              "    </tr>\n",
              "    <tr>\n",
              "      <th>184483</th>\n",
              "      <td>184483</td>\n",
              "      <td>4</td>\n",
              "      <td>Nov 27 08:32:12 sv260 sshd[3110]: Did not receive identification string from 192.168.0.195</td>\n",
              "    </tr>\n",
              "    <tr>\n",
              "      <th>230131</th>\n",
              "      <td>230131</td>\n",
              "      <td>4</td>\n",
              "      <td>Nov 19 01:03:09 sv260 sshd[13841]: Did not receive identification string from 192.168.0.195</td>\n",
              "    </tr>\n",
              "    <tr>\n",
              "      <th>321526</th>\n",
              "      <td>321526</td>\n",
              "      <td>4</td>\n",
              "      <td>Nov 12 04:27:24 localhost sshd[98418]: Did not receive identification string from 61.41.101.142 port 8975</td>\n",
              "    </tr>\n",
              "    <tr>\n",
              "      <th>348055</th>\n",
              "      <td>348055</td>\n",
              "      <td>4</td>\n",
              "      <td>Jan 27 20:20:54 localhost sshd[5025]: Did not receive identification string from 35.184.222.44 port 46232</td>\n",
              "    </tr>\n",
              "    <tr>\n",
              "      <th>348684</th>\n",
              "      <td>348684</td>\n",
              "      <td>4</td>\n",
              "      <td>Nov 3 06:03:17 localhost sshd[4346]: Did not receive identification string from 192.168.0.181 port 82066</td>\n",
              "    </tr>\n",
              "    <tr>\n",
              "      <th>369842</th>\n",
              "      <td>369842</td>\n",
              "      <td>4</td>\n",
              "      <td>Nov 8 20:25:42 sv260 sshd[37597]: Did not receive identification string from 192.168.0.181</td>\n",
              "    </tr>\n",
              "  </tbody>\n",
              "</table>\n",
              "</div>"
            ],
            "text/plain": [
              "            id  ...                                                                                                    full_log\n",
              "64919   64919   ...  Nov 29 05:44:21 localhost sshd[6008]: Did not receive identification string from 211.253.243.66 port 57487\n",
              "85354   85354   ...  Nov 29 22:16:32 sv260 sshd[39585]: Did not receive identification string from 211.253.243.66              \n",
              "123069  123069  ...  Nov 3 10:38:05 localhost sshd[76373]: Did not receive identification string from 192.168.0.195 port 3819  \n",
              "167164  167164  ...  Nov 21 01:02:56 sv260 sshd[9196]: Did not receive identification string from 211.253.243.66               \n",
              "184483  184483  ...  Nov 27 08:32:12 sv260 sshd[3110]: Did not receive identification string from 192.168.0.195                \n",
              "230131  230131  ...  Nov 19 01:03:09 sv260 sshd[13841]: Did not receive identification string from 192.168.0.195               \n",
              "321526  321526  ...  Nov 12 04:27:24 localhost sshd[98418]: Did not receive identification string from 61.41.101.142 port 8975 \n",
              "348055  348055  ...  Jan 27 20:20:54 localhost sshd[5025]: Did not receive identification string from 35.184.222.44 port 46232 \n",
              "348684  348684  ...  Nov 3 06:03:17 localhost sshd[4346]: Did not receive identification string from 192.168.0.181 port 82066  \n",
              "369842  369842  ...  Nov 8 20:25:42 sv260 sshd[37597]: Did not receive identification string from 192.168.0.181                \n",
              "\n",
              "[10 rows x 3 columns]"
            ]
          },
          "metadata": {
            "tags": []
          },
          "execution_count": 28
        }
      ]
    },
    {
      "cell_type": "code",
      "metadata": {
        "colab": {
          "base_uri": "https://localhost:8080/",
          "height": 421
        },
        "id": "lOTHwFYRNqLo",
        "outputId": "86554863-5a1e-4c36-bf68-7f5489b4f060"
      },
      "source": [
        "train_df[train_df['level']==2]"
      ],
      "execution_count": null,
      "outputs": [
        {
          "output_type": "execute_result",
          "data": {
            "text/html": [
              "<div>\n",
              "<style scoped>\n",
              "    .dataframe tbody tr th:only-of-type {\n",
              "        vertical-align: middle;\n",
              "    }\n",
              "\n",
              "    .dataframe tbody tr th {\n",
              "        vertical-align: top;\n",
              "    }\n",
              "\n",
              "    .dataframe thead th {\n",
              "        text-align: right;\n",
              "    }\n",
              "</style>\n",
              "<table border=\"1\" class=\"dataframe\">\n",
              "  <thead>\n",
              "    <tr style=\"text-align: right;\">\n",
              "      <th></th>\n",
              "      <th>id</th>\n",
              "      <th>level</th>\n",
              "      <th>full_log</th>\n",
              "    </tr>\n",
              "  </thead>\n",
              "  <tbody>\n",
              "    <tr>\n",
              "      <th>39057</th>\n",
              "      <td>39057</td>\n",
              "      <td>2</td>\n",
              "      <td>The average number of logs between 10:00 and 11:00 is 5399. We reached 37090.</td>\n",
              "    </tr>\n",
              "    <tr>\n",
              "      <th>87600</th>\n",
              "      <td>87600</td>\n",
              "      <td>2</td>\n",
              "      <td>The average number of logs between 5:00 and 6:00 is 222. We reached 77946.</td>\n",
              "    </tr>\n",
              "    <tr>\n",
              "      <th>109510</th>\n",
              "      <td>109510</td>\n",
              "      <td>2</td>\n",
              "      <td>The average number of logs between 6:00 and 7:00 is 6420. We reached 28494.</td>\n",
              "    </tr>\n",
              "    <tr>\n",
              "      <th>262892</th>\n",
              "      <td>262892</td>\n",
              "      <td>2</td>\n",
              "      <td>The average number of logs between 21:00 and 22:00 is 5325. We reached 95.</td>\n",
              "    </tr>\n",
              "    <tr>\n",
              "      <th>294072</th>\n",
              "      <td>294072</td>\n",
              "      <td>2</td>\n",
              "      <td>The average number of logs between 5:00 and 6:00 is 8362. We reached 93476.</td>\n",
              "    </tr>\n",
              "    <tr>\n",
              "      <th>294127</th>\n",
              "      <td>294127</td>\n",
              "      <td>2</td>\n",
              "      <td>The average number of logs between 4:00 and 5:00 is 2806. We reached 11476.</td>\n",
              "    </tr>\n",
              "    <tr>\n",
              "      <th>343011</th>\n",
              "      <td>343011</td>\n",
              "      <td>2</td>\n",
              "      <td>The average number of logs between 14:00 and 15:00 is 9734. We reached 26958.</td>\n",
              "    </tr>\n",
              "    <tr>\n",
              "      <th>345903</th>\n",
              "      <td>345903</td>\n",
              "      <td>2</td>\n",
              "      <td>The average number of logs between 15:00 and 16:00 is 4411. We reached 9487.</td>\n",
              "    </tr>\n",
              "    <tr>\n",
              "      <th>365348</th>\n",
              "      <td>365348</td>\n",
              "      <td>2</td>\n",
              "      <td>Sep 18 11:02:59 localhost sudo:  apache : TTY=unknown ; PWD=/var/www/html/management ; USER=root ; COMMAND=/bin/curl -XGET localhost:9200/_cat/snapshots/esild_backup</td>\n",
              "    </tr>\n",
              "    <tr>\n",
              "      <th>376681</th>\n",
              "      <td>376681</td>\n",
              "      <td>2</td>\n",
              "      <td>The average number of logs between 2:00 and 3:00 is 9428. We reached 75572.</td>\n",
              "    </tr>\n",
              "    <tr>\n",
              "      <th>380583</th>\n",
              "      <td>380583</td>\n",
              "      <td>2</td>\n",
              "      <td>The average number of logs between 10:00 and 11:00 is 12612. We reached 31532.</td>\n",
              "    </tr>\n",
              "    <tr>\n",
              "      <th>400735</th>\n",
              "      <td>400735</td>\n",
              "      <td>2</td>\n",
              "      <td>The average number of logs between 13:00 and 14:00 is 2697. We reached 93028.</td>\n",
              "    </tr>\n",
              "  </tbody>\n",
              "</table>\n",
              "</div>"
            ],
            "text/plain": [
              "            id  ...                                                                                                                                                               full_log\n",
              "39057   39057   ...  The average number of logs between 10:00 and 11:00 is 5399. We reached 37090.                                                                                        \n",
              "87600   87600   ...  The average number of logs between 5:00 and 6:00 is 222. We reached 77946.                                                                                           \n",
              "109510  109510  ...  The average number of logs between 6:00 and 7:00 is 6420. We reached 28494.                                                                                          \n",
              "262892  262892  ...  The average number of logs between 21:00 and 22:00 is 5325. We reached 95.                                                                                           \n",
              "294072  294072  ...  The average number of logs between 5:00 and 6:00 is 8362. We reached 93476.                                                                                          \n",
              "294127  294127  ...  The average number of logs between 4:00 and 5:00 is 2806. We reached 11476.                                                                                          \n",
              "343011  343011  ...  The average number of logs between 14:00 and 15:00 is 9734. We reached 26958.                                                                                        \n",
              "345903  345903  ...  The average number of logs between 15:00 and 16:00 is 4411. We reached 9487.                                                                                         \n",
              "365348  365348  ...  Sep 18 11:02:59 localhost sudo:  apache : TTY=unknown ; PWD=/var/www/html/management ; USER=root ; COMMAND=/bin/curl -XGET localhost:9200/_cat/snapshots/esild_backup\n",
              "376681  376681  ...  The average number of logs between 2:00 and 3:00 is 9428. We reached 75572.                                                                                          \n",
              "380583  380583  ...  The average number of logs between 10:00 and 11:00 is 12612. We reached 31532.                                                                                       \n",
              "400735  400735  ...  The average number of logs between 13:00 and 14:00 is 2697. We reached 93028.                                                                                        \n",
              "\n",
              "[12 rows x 3 columns]"
            ]
          },
          "metadata": {
            "tags": []
          },
          "execution_count": 29
        }
      ]
    },
    {
      "cell_type": "code",
      "metadata": {
        "id": "NpDlQfYTUT3w"
      },
      "source": [
        "# 레벨별 데이터프레임으로 나눠줌\n",
        "level0_log = train_df[train_df['level'] == 0]\n",
        "level1_log = train_df[train_df['level'] == 1]\n",
        "level2_log = train_df[train_df['level'] == 2]\n",
        "level3_log = train_df[train_df['level'] == 3]\n",
        "level4_log = train_df[train_df['level'] == 4]\n",
        "level5_log = train_df[train_df['level'] == 5]\n",
        "level6_log = train_df[train_df['level'] == 6]"
      ],
      "execution_count": null,
      "outputs": []
    },
    {
      "cell_type": "code",
      "metadata": {
        "colab": {
          "base_uri": "https://localhost:8080/",
          "height": 419
        },
        "id": "FAh2jA5NJDRJ",
        "outputId": "1a690cad-c1f4-469b-94ef-b67f49e6f046"
      },
      "source": [
        "# level 5의 첫번째 단어만 출력\n",
        "level5_words = level5_log['full_log'].str.extract('^([^ ]+)(?: |$)')\n",
        "level5_words"
      ],
      "execution_count": null,
      "outputs": [
        {
          "output_type": "execute_result",
          "data": {
            "text/html": [
              "<div>\n",
              "<style scoped>\n",
              "    .dataframe tbody tr th:only-of-type {\n",
              "        vertical-align: middle;\n",
              "    }\n",
              "\n",
              "    .dataframe tbody tr th {\n",
              "        vertical-align: top;\n",
              "    }\n",
              "\n",
              "    .dataframe thead th {\n",
              "        text-align: right;\n",
              "    }\n",
              "</style>\n",
              "<table border=\"1\" class=\"dataframe\">\n",
              "  <thead>\n",
              "    <tr style=\"text-align: right;\">\n",
              "      <th></th>\n",
              "      <th>0</th>\n",
              "    </tr>\n",
              "  </thead>\n",
              "  <tbody>\n",
              "    <tr>\n",
              "      <th>590</th>\n",
              "      <td>ossec:</td>\n",
              "    </tr>\n",
              "    <tr>\n",
              "      <th>621</th>\n",
              "      <td>ossec:</td>\n",
              "    </tr>\n",
              "    <tr>\n",
              "      <th>794</th>\n",
              "      <td>File</td>\n",
              "    </tr>\n",
              "    <tr>\n",
              "      <th>870</th>\n",
              "      <td>ossec:</td>\n",
              "    </tr>\n",
              "    <tr>\n",
              "      <th>1076</th>\n",
              "      <td>level</td>\n",
              "    </tr>\n",
              "    <tr>\n",
              "      <th>...</th>\n",
              "      <td>...</td>\n",
              "    </tr>\n",
              "    <tr>\n",
              "      <th>471837</th>\n",
              "      <td>ossec:</td>\n",
              "    </tr>\n",
              "    <tr>\n",
              "      <th>471864</th>\n",
              "      <td>ossec:</td>\n",
              "    </tr>\n",
              "    <tr>\n",
              "      <th>472052</th>\n",
              "      <td>File</td>\n",
              "    </tr>\n",
              "    <tr>\n",
              "      <th>472400</th>\n",
              "      <td>ossec:</td>\n",
              "    </tr>\n",
              "    <tr>\n",
              "      <th>472662</th>\n",
              "      <td>ossec:</td>\n",
              "    </tr>\n",
              "  </tbody>\n",
              "</table>\n",
              "<p>2219 rows × 1 columns</p>\n",
              "</div>"
            ],
            "text/plain": [
              "             0\n",
              "590     ossec:\n",
              "621     ossec:\n",
              "794       File\n",
              "870     ossec:\n",
              "1076     level\n",
              "...        ...\n",
              "471837  ossec:\n",
              "471864  ossec:\n",
              "472052    File\n",
              "472400  ossec:\n",
              "472662  ossec:\n",
              "\n",
              "[2219 rows x 1 columns]"
            ]
          },
          "metadata": {
            "tags": []
          },
          "execution_count": 58
        }
      ]
    },
    {
      "cell_type": "code",
      "metadata": {
        "colab": {
          "base_uri": "https://localhost:8080/"
        },
        "id": "D_LyWmPdJDCe",
        "outputId": "4d17640b-53ab-4aec-e999-d83e909a6bd4"
      },
      "source": [
        "level5_words.value_counts()"
      ],
      "execution_count": null,
      "outputs": [
        {
          "output_type": "execute_result",
          "data": {
            "text/plain": [
              "ossec:      1289\n",
              "File         641\n",
              "oscap:       168\n",
              "level         65\n",
              "NTFS          25\n",
              "Trojaned      15\n",
              "Jan           14\n",
              "Nov            1\n",
              "Feb            1\n",
              "dtype: int64"
            ]
          },
          "metadata": {
            "tags": []
          },
          "execution_count": 59
        }
      ]
    },
    {
      "cell_type": "code",
      "metadata": {
        "colab": {
          "base_uri": "https://localhost:8080/"
        },
        "id": "q_PpBx95VYOf",
        "outputId": "e5eb71ba-6e79-47ea-fd46-2b6c37144e89"
      },
      "source": [
        "len(level5_log[level5_log['full_log'].str.contains('Feb')])"
      ],
      "execution_count": null,
      "outputs": [
        {
          "output_type": "execute_result",
          "data": {
            "text/plain": [
              "1"
            ]
          },
          "metadata": {
            "tags": []
          },
          "execution_count": 65
        }
      ]
    },
    {
      "cell_type": "code",
      "metadata": {
        "id": "cKIuORIDhu-D"
      },
      "source": [
        "sample_df_log5 = pd.DataFrame(columns=['id', 'level', 'full_log'])\n",
        "\n",
        "for i in level5_words[0].unique():\n",
        "    if len(level5_log[level5_log['full_log'].str.contains(i)]) > 3:\n",
        "        temp_df = level5_log[level5_log['full_log'].str.contains(i)].sample(3)\n",
        "    else:\n",
        "        n = len(level5_log[level5_log['full_log'].str.contains(i)])\n",
        "        temp_df = level5_log[level5_log['full_log'].str.contains(i)].sample(n)\n",
        "    sample_df_log5 = pd.concat([sample_df_log5, temp_df])\n"
      ],
      "execution_count": null,
      "outputs": []
    },
    {
      "cell_type": "code",
      "metadata": {
        "colab": {
          "base_uri": "https://localhost:8080/",
          "height": 1000
        },
        "id": "wtVhud4oQ2jH",
        "outputId": "18b68d09-9f74-4ea2-8da6-df7e980aa9ce"
      },
      "source": [
        "sample_df_log5"
      ],
      "execution_count": null,
      "outputs": [
        {
          "output_type": "execute_result",
          "data": {
            "text/html": [
              "<div>\n",
              "<style scoped>\n",
              "    .dataframe tbody tr th:only-of-type {\n",
              "        vertical-align: middle;\n",
              "    }\n",
              "\n",
              "    .dataframe tbody tr th {\n",
              "        vertical-align: top;\n",
              "    }\n",
              "\n",
              "    .dataframe thead th {\n",
              "        text-align: right;\n",
              "    }\n",
              "</style>\n",
              "<table border=\"1\" class=\"dataframe\">\n",
              "  <thead>\n",
              "    <tr style=\"text-align: right;\">\n",
              "      <th></th>\n",
              "      <th>id</th>\n",
              "      <th>level</th>\n",
              "      <th>full_log</th>\n",
              "    </tr>\n",
              "  </thead>\n",
              "  <tbody>\n",
              "    <tr>\n",
              "      <th>193877</th>\n",
              "      <td>193877</td>\n",
              "      <td>5</td>\n",
              "      <td>ossec: output: 'netstat listening ports':\\ntcp 211.253.243.71.49203 211.253.243.71.49182\\ntcp 211.253.243.71.49182 211.253.243.71.49203\\ntcp 211.253.243.71.49216 211.253.243.71.6000\\ntcp 211.253.243.71.6000 211.253.243.71.49188\\ntcp 211.253.243.71.6000 211.253.243.71.49187\\ntcp 127.0.0.1.49206 127.0.0.1.49205\\ntcp 127.0.0.1.49205 127.0.0.1.49206\\ntcp 211.253.243.71.49241 211.253.243.71.6000\\ntcp 211.253.243.71.49182 211.253.243.71.49236\\ntcp 211.253.243.71.6000 211.253.243.71.49181\\ntcp 211.253.243.71.49229 211.253.243.71.6000\\ntcp 211.253.243.71.49230 211.253.243.71.49182\\ntcp 211.253.243.71.57753 61.41.101.142.1514\\ntcp 211.253.243.71.6000 211.253.243.71.49202\\ntcp 211.253.243.71.6000 211.253.243.71.49201\\ntcp 211.253.243.71.49202 211.253.243.71.6000\\ntcp 211.253.243.71.6000 211.253.243.71.49200\\ntcp 211.253.243.71.49200 211.253.243.71.6000\\ntcp 211.253.243.71.49201 211.253.243.71.6000\\ntcp 211.253.243.71.22 61.41.101.142.52709\\ntcp 211.253.243.71.6000 211.253.243.71.49170\\ntcp 211.253.243.71.6000 211.253.243.71.49229\\ntcp 211.253.243.71.49182 211.253.243.71.49230\\ntcp 211.253.243.71.49182 211.253.243.71.49195\\ntcp 127.0.0.1.49198 127.0.0.1.49197\\ntcp 127.0.0.1.49197 127.0.0.1.49198\\ntcp 127.0.0.1.49226 127.0.0.1.49227\\ntcp 211.253.243.71.49235 211.253.243.71.6000\\ntcp 211.253.243.71.49194 211.253.243.71.6000\\ntcp 211.253.243.71.6000 211.253.243.71.49194\\ntcp 211.253.243.71.49195 211.253.243.71.49182\\ntcp 127.0.0.1.49227 127.0.0.1.49226\\ntcp 127.0.0.1.49233 127.0.0.1.49232\\ntcp 211.253.243.71.6000 211.253.243.71.49241\\ntcp 211.253.243.71.49170 211.253.243.71.6000\\ntcp 127.0.0.1.49232 127.0.0.1.49233\\ntcp 211.253.243.71.6000 211.253.243.71.49215\\ntcp 211.253.243.71.49215 211.253.243.71.6000\\ntcp 127.0.0.1.49238 127.0.0.1.49239\\ntcp 211.253.243.71.6000 211.253.243.71.49216\\ntcp 127.0.0.1.49239 127.0.0.1.49238\\ntcp 211.253.243.71.6000 211.253.243.71.49223\\ntcp 211.253.243.71.49224 211.253.243.71.49182\\ntcp 211.253.243.71.49182 211.253.243.71.49224\\ntcp 211.253.243.71.49181 211.253.243.71.6000\\ntcp 211.253.243.71.49236 211.253.243.71.49182\\ntcp 211.253.243.71.6000 211.253.243.71.49235\\ntcp 211.253.243.71.49223 211.253.243.71.6000\\ntcp 211.253.243.71.49188 211.253.243.71.6000\\ntcp 211.253.243.71.49187 211.253.243.71.6000\\ntcp 211.253.243.71.57990 211.253.243.71.1712\\nudp 127.0.0.1.49192 127.0.0.1.49192</td>\n",
              "    </tr>\n",
              "    <tr>\n",
              "      <th>41164</th>\n",
              "      <td>41164</td>\n",
              "      <td>5</td>\n",
              "      <td>ossec: output: 'netstat listening ports':\\ntcp 211.253.243.71.49391 61.41.101.142.1514\\ntcp 211.253.243.71.49177 211.253.243.71.6000\\ntcp 211.253.243.71.6000 211.253.243.71.49172\\ntcp 211.253.243.71.49172 211.253.243.71.6000\\ntcp 211.253.243.71.6000 211.253.243.71.49177\\ntcp 211.253.243.71.6000 211.253.243.71.49170\\ntcp 211.253.243.71.49170 211.253.243.71.6000\\ntcp 211.253.243.71.52969 211.253.243.71.1712\\nudp 127.0.0.1.49164 127.0.0.1.49164</td>\n",
              "    </tr>\n",
              "    <tr>\n",
              "      <th>374158</th>\n",
              "      <td>374158</td>\n",
              "      <td>5</td>\n",
              "      <td>ossec: output: 'netstat listening ports':\\ntcp *.* *.* CLOSED\\ntcp *.111 *.* LISTEN\\ntcp *.14248 *.* LISTEN\\ntcp *.16191 *.* LISTEN\\ntcp *.199 *.* LISTEN\\ntcp *.21 *.* LISTEN\\ntcp *.23 *.* LISTEN\\ntcp *.32770 *.* LISTEN\\ntcp *.32771 *.* LISTEN\\ntcp *.32773 *.* LISTEN\\ntcp *.32782 *.* LISTEN\\ntcp *.32785 *.* LISTEN\\ntcp *.32792 *.* LISTEN\\ntcp *.427 *.* LISTEN\\ntcp *.512 *.* LISTEN\\ntcp *.513 *.* LISTEN\\ntcp *.514 *.* LISTEN\\ntcp *.5335 *.* LISTEN\\ntcp *.5336 *.* LISTEN\\ntcp *.5988 *.* LISTEN\\ntcp *.5989 *.* LISTEN\\ntcp *.6181 *.* LISTEN\\ntcp *.657 *.* LISTEN\\ntcp *.6987 *.* LISTEN\\ntcp *.6988 *.* LISTEN\\ntcp *.9510 *.* LISTEN\\ntcp4 *.* *.* CLOSED\\ntcp4 *.13 *.* LISTEN\\ntcp4 *.1334 *.* LISTEN\\ntcp4 *.22 *.* LISTEN\\ntcp4 *.25 *.* LISTEN\\ntcp4 *.32768 *.* LISTEN\\ntcp4 *.32769 *.* LISTEN\\ntcp4 *.37 *.* LISTEN\\ntcp4 *.4000 *.* LISTEN\\ntcp4 *.6000 *.* LISTEN\\ntcp4 *.6112 *.* LISTEN\\ntcp4 127.0.0.1.45957 127.0.0.1.9515 TIME_WAIT\\ntcp4 127.0.0.1.9514 *.* LISTEN\\ntcp4 127.0.0.1.9515 *.* LISTEN\\ntcp4 211.253.243.72.33255 61.41.101.142.1514 ESTABLISHED\\ntcp6 *.22 *.* LISTEN\\ntcp6 *.6000 *.* LISTEN\\ntcp6 ::1.32783 ::1.32784 CLOSE_WAIT\\nudp *.111 *.* \\nudp *.14252 *.* \\nudp *.14253 *.* \\nudp *.161 *.* \\nudp *.2279 *.* \\nudp *.32776 *.* \\nudp *.32799 *.* \\nudp *.32813 *.* \\nudp *.33313 *.* \\nudp *.33395 *.* \\nudp *.38174 *.* \\nudp *.38176 *.* \\nudp *.38178 *.* \\nudp *.427 *.* \\nudp *.514 *.* \\nudp *.657 *.* \\nudp4 *.* *.* \\nudp4 *.* *.* \\nudp4 *.* *.* \\nudp4 *.* *.* \\nudp4 *.* *.* \\nudp4 *.13 *.* \\nudp4 *.177 *.* \\nudp4 *.32777 *.* \\nudp4 *.37 *.* \\nudp4 *.518 *.* \\nudp4 *.57312 *.*</td>\n",
              "    </tr>\n",
              "    <tr>\n",
              "      <th>106827</th>\n",
              "      <td>106827</td>\n",
              "      <td>5</td>\n",
              "      <td>File 'HKEY_LOCAL_MACHINE\\System\\CurrentControlSet\\Services\\mshidkmdf\\Enum' checksum changed.\\nOld md5sum was: 'dba0d88b9759881bc6c20d6fe684988d'\\nNew md5sum is : '623c55f2b4f1bac36416c676e6f1a8f8'\\nOld sha1sum was: '15b09b7703716d81f435ba14ae1d62e029fd4b47'\\nNew sha1sum is : '4de3932c96ea4d22d1e0609945354f11e4dda8d5'\\n</td>\n",
              "    </tr>\n",
              "    <tr>\n",
              "      <th>261920</th>\n",
              "      <td>261920</td>\n",
              "      <td>5</td>\n",
              "      <td>File '/var/www/html/management/ossec.conf' is owned by root and has written permissions to anyone.</td>\n",
              "    </tr>\n",
              "    <tr>\n",
              "      <th>389834</th>\n",
              "      <td>389834</td>\n",
              "      <td>5</td>\n",
              "      <td>File '/var/www/html/management/ossec.conf' is owned by root and has written permissions to anyone.</td>\n",
              "    </tr>\n",
              "    <tr>\n",
              "      <th>103835</th>\n",
              "      <td>103835</td>\n",
              "      <td>5</td>\n",
              "      <td>level : 3, log : Dynamic VPN license name installed, license limit total, count free Description An Access Manager license was installed successfully on this device.</td>\n",
              "    </tr>\n",
              "    <tr>\n",
              "      <th>127701</th>\n",
              "      <td>127701</td>\n",
              "      <td>5</td>\n",
              "      <td>level : 3, log : Unable to remove file 'filename': reason</td>\n",
              "    </tr>\n",
              "    <tr>\n",
              "      <th>263685</th>\n",
              "      <td>263685</td>\n",
              "      <td>5</td>\n",
              "      <td>level : 2, log : Usage: executable-name [-c] [-C] [-n] [-N] [-t[flags]] [-f config-file] [trace-file]</td>\n",
              "    </tr>\n",
              "    <tr>\n",
              "      <th>234605</th>\n",
              "      <td>234605</td>\n",
              "      <td>5</td>\n",
              "      <td>Trojaned version of file '/bin/netstat' detected. Signature used: 'bash|^/bin/sh|/dev/[^aik]|/prof|grep|addr\\.h' (Generic).</td>\n",
              "    </tr>\n",
              "    <tr>\n",
              "      <th>58077</th>\n",
              "      <td>58077</td>\n",
              "      <td>5</td>\n",
              "      <td>Trojaned version of file '/usr/bin/netstat' detected. Signature used: 'bash|^/bin/sh|/dev/[^aik]|/prof|grep|addr\\.h' (Generic).</td>\n",
              "    </tr>\n",
              "    <tr>\n",
              "      <th>322077</th>\n",
              "      <td>322077</td>\n",
              "      <td>5</td>\n",
              "      <td>Trojaned version of file '/usr/sbin/netstat' detected. Signature used: 'bash|^/bin/sh|/dev/[^aik]|/prof|grep|addr\\.h' (Generic).</td>\n",
              "    </tr>\n",
              "    <tr>\n",
              "      <th>397208</th>\n",
              "      <td>397208</td>\n",
              "      <td>5</td>\n",
              "      <td>oscap: msg: \"xccdf-result\", scan-id: \"0001602140591\", content: \"ssg-centos-7-ds.xml\", title: \"Ensure auditd Collects Unauthorized Access Attempts to Files (unsuccessful)\", id: \"xccdf_org.ssgproject.content_rule_audit_rules_unsuccessful_file_modification\", result: \"fail\", severity: \"medium\", description: \"At a minimum the audit system should collect unauthorized file accesses for all users and root. If the auditd daemon is configured to use the augenrules program to read audit rules during daemon startup (the default), add the following lines to a file with suffix .rules in the directory /etc/audit/rules.d: -a always,exit -F arch=b32 -S creat,open,openat,open_by_handle_at,truncate,ftruncate -F exit=-EACCES -F auid&gt;=1000 -F auid!=4294967295 -F key=access -a always,exit -F arch=b32 -S creat,open,openat,open_by_handle_at,truncate,ftruncate -F exit=-EPERM -F auid&gt;=1000 -F auid!=4294967295 -F key=access If the system is 64 bit then also add the following lines: -a always,exit -F arch=b64 -S creat,open,openat,open_by_handle_at,truncate,ftruncate -F exit=-EACCES -F auid&gt;=1000 -F auid!=4294967295 -F key=access -a always,exit -F arch=b64 -S creat,open,openat,open_by_handle_at,truncate,ftruncate -F exit=-EPERM -F auid&gt;=1000 -F auid!=4294967295 -F key=access If the auditd daemon is configured to use the auditctl utility to read audit rules during daemon startup, add the following lines to /etc/audit/audit.rules file: -a always,exit -F arch=b32 -S creat,open,openat,open_by_handle_at,truncate,ftruncate -F exit=-EACCES -F auid&gt;=1000 -F auid!=4294967295 -F key=access -a always,exit -F arch=b32 -S creat,open,openat,open_by_handle_at,truncate,ftruncate -F exit=-EPERM -F auid&gt;=1000 -F auid!=4294967295 -F key=access If the system is 64 bit then also add the following lines: -a always,exit -F arch=b64 -S creat,open,openat,open_by_handle_at,truncate,ftruncate -F exit=-EACCES -F auid&gt;=1000 -F auid!=4294967295 -F key=access -a always,exit -F arch=b64 -S creat,open,openat,open_by_handle_at,truncate,ftruncate -F exit=-EPERM -F auid&gt;=1000 -F auid!=4294967295 -F key=access\", rationale: \"Unsuccessful attempts to access files could be an indicator of malicious activity on a system. Auditing these events could serve as evidence of potential system compromise.\" references: \"AC-17(7) (http://nvlpubs.nist.gov/nistpubs/SpecialPublications/NIST.SP.800-53r4.pdf), AU-1(b) (http://nvlpubs.nist.gov/nistpubs/SpecialPublications/NIST.SP.800-53r4.pdf), AU-2(a) (http://nvlpubs.nist.gov/nistpubs/SpecialPublications/NIST.SP.800-53r4.pdf), AU-2(c) (http://nvlpubs.nist.gov/nistpubs/SpecialPublications/NIST.SP.800-53r4.pdf), AU-2(d) (http://nvlpubs.nist.gov/nistpubs/SpecialPublications/NIST.SP.800-53r4.pdf), AU-12(a) (http://nvlpubs.nist.gov/nistpubs/SpecialPublications/NIST.SP.800-53r4.pdf), AU-12(c) (http://nvlpubs.nist.gov/nistpubs/SpecialPublications/NIST.SP.800-53r4.pdf), IR-5 (http://nvlpubs.nist.gov/nistpubs/SpecialPublications/NIST.SP.800-53r4.pdf), 172 (http://iase.disa.mil/stigs/cci/Pages/index.aspx), 2884 (http://iase.disa.mil/stigs/cci/Pages/index.aspx), Req-10.2.4 (https://www.pcisecuritystandards.org/documents/PCI_DSS_v3-1.pdf), Req-10.2.1 (https://www.pcisecuritystandards.org/documents/PCI_DSS_v3-1.pdf), 5.2.10 (https://benchmarks.cisecurity.org/tools2/linux/CIS_Red_Hat_Enterprise_Linux_7_Benchmark_v1.1.0.pdf), 5.4.1.1 (https://www.fbi.gov/file-repository/cjis-security-policy-v5_5_20160601-2-1.pdf), 3.1.7 (http://nvlpubs.nist.gov/nistpubs/SpecialPublications/NIST.SP.800-171.pdf)\", identifiers: \"\", oval-id: \"oval:ssg-audit_rules_unsuccessful_file_modification:def:1\", benchmark-id: \"xccdf_org.ssgproject.content_benchmark_RHEL-7\", profile-id: \"xccdf_org.ssgproject.content_profile_common\", profile-title: \"Common Profile for General-Purpose Systems\".</td>\n",
              "    </tr>\n",
              "    <tr>\n",
              "      <th>170788</th>\n",
              "      <td>170788</td>\n",
              "      <td>5</td>\n",
              "      <td>oscap: msg: \"xccdf-result\", scan-id: \"0001600739632\", content: \"ssg-centos-7-ds.xml\", title: \"Set Password Minimum Length\", id: \"xccdf_org.ssgproject.content_rule_accounts_password_pam_minlen\", result: \"fail\", severity: \"medium\", description: \"The pam_pwquality module's minlen parameter controls requirements for minimum characters required in a password. Add minlen= after pam_pwquality to set minimum password length requirements.\", rationale: \"The shorter the password, the lower the number of possible combinations that need to be tested before the password is compromised. Password complexity, or strength, is a measure of the effectiveness of a password in resisting attempts at guessing and brute-force attacks. Password length is one factor of several that helps to determine strength and how long it takes to crack a password. Use of more characters in a password helps to exponentially increase the time and/or resources required to compromose the password.\" references: \"IA-5(1)(a) (http://nvlpubs.nist.gov/nistpubs/SpecialPublications/NIST.SP.800-53r4.pdf), 205 (http://iase.disa.mil/stigs/cci/Pages/index.aspx), SRG-OS-000078-GPOS-00046 (), Req-8.2.3 (https://www.pcisecuritystandards.org/documents/PCI_DSS_v3-1.pdf), 6.3.2 (https://benchmarks.cisecurity.org/tools2/linux/CIS_Red_Hat_Enterprise_Linux_7_Benchmark_v1.1.0.pdf)\", identifiers: \"\", oval-id: \"oval:ssg-accounts_password_pam_minlen:def:1\", benchmark-id: \"xccdf_org.ssgproject.content_benchmark_RHEL-7\", profile-id: \"xccdf_org.ssgproject.content_profile_pci-dss\", profile-title: \"PCI-DSS v3 Control Baseline for Red Hat Enterprise Linux 7\".</td>\n",
              "    </tr>\n",
              "    <tr>\n",
              "      <th>207529</th>\n",
              "      <td>207529</td>\n",
              "      <td>5</td>\n",
              "      <td>oscap: msg: \"xccdf-result\", scan-id: \"0001603265663\", content: \"ssg-centos-7-ds.xml\", title: \"Configure Periodic Execution of AIDE\", id: \"xccdf_org.ssgproject.content_rule_aide_periodic_cron_checking\", result: \"fail\", severity: \"medium\", description: \"At a minimum, AIDE should be configured to run a weekly scan. At most, AIDE should be run daily. To implement a daily execution of AIDE at 4:05am using cron, add the following line to /etc/crontab: 05 4 * * * root /usr/sbin/aide --check To implement a weekly execution of AIDE at 4:05am using cron, add the following line to /etc/crontab: 05 4 * * 0 root /usr/sbin/aide --check AIDE can be executed periodically through other means; this is merely one example.\", rationale: \"By default, AIDE does not install itself for periodic execution. Periodically running AIDE is necessary to reveal unexpected changes in installed files. Unauthorized changes to the baseline configuration could make the system vulnerable to various attacks or allow unauthorized access to the operating system. Changes to operating system configurations can have unintended side effects, some of which may be relevant to security. Detecting such changes and providing an automated response can help avoid unintended, negative consequences that could ultimately affect the security state of the operating system. The operating system's Information Management Officer (IMO)/Information System Security Officer (ISSO) and System Administrators (SAs) must be notified via email and/or monitoring system trap when there is an unauthorized modification of a configuration item.\" references: \"CM-3(d) (http://nvlpubs.nist.gov/nistpubs/SpecialPublications/NIST.SP.800-53r4.pdf), CM-3(e) (http://nvlpubs.nist.gov/nistpubs/SpecialPublications/NIST.SP.800-53r4.pdf), CM-3(5) (http://nvlpubs.nist.gov/nistpubs/SpecialPublications/NIST.SP.800-53r4.pdf), CM-6(d) (http://nvlpubs.nist.gov/nistpubs/SpecialPublications/NIST.SP.800-53r4.pdf), CM-6(3) (http://nvlpubs.nist.gov/nistpubs/SpecialPublications/NIST.SP.800-53r4.pdf), SC-28 (http://nvlpubs.nist.gov/nistpubs/SpecialPublications/NIST.SP.800-53r4.pdf), SI-7 (http://nvlpubs.nist.gov/nistpubs/SpecialPublications/NIST.SP.800-53r4.pdf), 1744 (http://iase.disa.mil/stigs/cci/Pages/index.aspx), Req-11.5 (https://www.pcisecuritystandards.org/documents/PCI_DSS_v3-1.pdf), 1.3.2 (https://benchmarks.cisecurity.org/tools2/linux/CIS_Red_Hat_Enterprise_Linux_7_Benchmark_v1.1.0.pdf), SRG-OS-000363-GPOS-00150 (http://iase.disa.mil/stigs/srgs/Pages/index.aspx), 5.10.1.3 (https://www.fbi.gov/file-repository/cjis-security-policy-v5_5_20160601-2-1.pdf)\", identifiers: \"\", oval-id: \"oval:ssg-aide_periodic_cron_checking:def:1\", benchmark-id: \"xccdf_org.ssgproject.content_benchmark_RHEL-7\", profile-id: \"xccdf_org.ssgproject.content_profile_pci-dss\", profile-title: \"PCI-DSS v3 Control Baseline for Red Hat Enterprise Linux 7\".</td>\n",
              "    </tr>\n",
              "    <tr>\n",
              "      <th>397997</th>\n",
              "      <td>397997</td>\n",
              "      <td>5</td>\n",
              "      <td>Jan 15 15:55:41 localhost yum[26878]: Installed: krb5-devel-1.15.1-50.el7.x86_64</td>\n",
              "    </tr>\n",
              "    <tr>\n",
              "      <th>370039</th>\n",
              "      <td>370039</td>\n",
              "      <td>5</td>\n",
              "      <td>Jan 15 15:55:38 localhost yum[26878]: Updated: e2fsprogs-libs-1.42.9-19.el7.x86_64</td>\n",
              "    </tr>\n",
              "    <tr>\n",
              "      <th>240572</th>\n",
              "      <td>240572</td>\n",
              "      <td>5</td>\n",
              "      <td>Jan 20 11:40:20 localhost yum[21452]: Erased: python3-pip-9.0.3-8.el7.noarch</td>\n",
              "    </tr>\n",
              "    <tr>\n",
              "      <th>96475</th>\n",
              "      <td>96475</td>\n",
              "      <td>5</td>\n",
              "      <td>NTFS Alternate data stream found: 'C:\\Program Files/rempl:Win32App_1'. Possible hidden content.</td>\n",
              "    </tr>\n",
              "    <tr>\n",
              "      <th>240182</th>\n",
              "      <td>240182</td>\n",
              "      <td>5</td>\n",
              "      <td>NTFS Alternate data stream found: 'C:\\Program Files/CUAssistant:Win32App_1'. Possible hidden content.</td>\n",
              "    </tr>\n",
              "    <tr>\n",
              "      <th>424513</th>\n",
              "      <td>424513</td>\n",
              "      <td>5</td>\n",
              "      <td>NTFS Alternate data stream found: 'C:\\Program Files/CUAssistant:Win32App_1'. Possible hidden content.</td>\n",
              "    </tr>\n",
              "    <tr>\n",
              "      <th>427128</th>\n",
              "      <td>427128</td>\n",
              "      <td>5</td>\n",
              "      <td>File '/etc/opt/resmon/log/api.log.old' checksum changed.\\nOld md5sum was: 'a75c2392b56de2d9333ad39ff0a8da3b'\\nNew md5sum is : 'e18b3c5a44eaaafcad4fe00ee2ca00e4'\\nOld sha1sum was: 'b381206e6f9e8bc497e5312e0496f05d78fc1c37'\\nNew sha1sum is : 'af33088ed9ce59cb5490f3840fd1661cae658331'\\nOld sha256sum was: 'dc11ced0df538c1f2185210c295dc3291e5add27db669180c95d152020a1774c'\\nNew sha256sum is : 'b0f0e680ae85336475aa9cc0b7307ae409d99e4492b38f0bfbb0e3c6e35fa70b'\\nOld modification time was: 'Sat Nov 21 18:45:40 2020', now it is 'Sun Nov 22 15:35:40 2020'\\n</td>\n",
              "    </tr>\n",
              "    <tr>\n",
              "      <th>205464</th>\n",
              "      <td>205464</td>\n",
              "      <td>5</td>\n",
              "      <td>File '/etc/objrepos/FRUB_SRC' checksum changed.\\nOld modification time was: 'Wed Nov 18 04:00:53 2020', now it is 'Wed Nov 18 10:42:41 2020'\\n</td>\n",
              "    </tr>\n",
              "    <tr>\n",
              "      <th>310567</th>\n",
              "      <td>310567</td>\n",
              "      <td>5</td>\n",
              "      <td>File '/etc/objrepos/SRCsubsys' checksum changed.\\nOld modification time was: 'Sat Jun 27 15:16:58 2020', now it is 'Wed Nov 18 10:42:30 2020'\\n</td>\n",
              "    </tr>\n",
              "    <tr>\n",
              "      <th>405278</th>\n",
              "      <td>405278</td>\n",
              "      <td>5</td>\n",
              "      <td>Feb  1 11:31:30 localhost yum[21756]: Installed: kernel-devel-3.10.0-1160.11.1.el7.x86_64</td>\n",
              "    </tr>\n",
              "  </tbody>\n",
              "</table>\n",
              "</div>"
            ],
            "text/plain": [
              "            id  ...                                                                                                                                                                                                                                                                                                                                                                                                                                                                                                                                                                                                                                                                                                                                                                                                                                                                                                                                                                                                                                                                                                                                                                                                                                                                                                                                                                                                                                                                                                                                                                                                                                                                                                                                                                                                                                                                                                                                                                                                                                                                                                                                                                                                                                                                                                                                                                                                                                                                                                                                                                                                                                                                                                                                                                                                                                                                                                                                                                                                                                                                                                                                                                                                                                                                                                                                                                                                                                                                                                                                                                                                                                                                                                                                                                                                                                                                                                                               full_log\n",
              "193877  193877  ...  ossec: output: 'netstat listening ports':\\ntcp 211.253.243.71.49203 211.253.243.71.49182\\ntcp 211.253.243.71.49182 211.253.243.71.49203\\ntcp 211.253.243.71.49216 211.253.243.71.6000\\ntcp 211.253.243.71.6000 211.253.243.71.49188\\ntcp 211.253.243.71.6000 211.253.243.71.49187\\ntcp 127.0.0.1.49206 127.0.0.1.49205\\ntcp 127.0.0.1.49205 127.0.0.1.49206\\ntcp 211.253.243.71.49241 211.253.243.71.6000\\ntcp 211.253.243.71.49182 211.253.243.71.49236\\ntcp 211.253.243.71.6000 211.253.243.71.49181\\ntcp 211.253.243.71.49229 211.253.243.71.6000\\ntcp 211.253.243.71.49230 211.253.243.71.49182\\ntcp 211.253.243.71.57753 61.41.101.142.1514\\ntcp 211.253.243.71.6000 211.253.243.71.49202\\ntcp 211.253.243.71.6000 211.253.243.71.49201\\ntcp 211.253.243.71.49202 211.253.243.71.6000\\ntcp 211.253.243.71.6000 211.253.243.71.49200\\ntcp 211.253.243.71.49200 211.253.243.71.6000\\ntcp 211.253.243.71.49201 211.253.243.71.6000\\ntcp 211.253.243.71.22 61.41.101.142.52709\\ntcp 211.253.243.71.6000 211.253.243.71.49170\\ntcp 211.253.243.71.6000 211.253.243.71.49229\\ntcp 211.253.243.71.49182 211.253.243.71.49230\\ntcp 211.253.243.71.49182 211.253.243.71.49195\\ntcp 127.0.0.1.49198 127.0.0.1.49197\\ntcp 127.0.0.1.49197 127.0.0.1.49198\\ntcp 127.0.0.1.49226 127.0.0.1.49227\\ntcp 211.253.243.71.49235 211.253.243.71.6000\\ntcp 211.253.243.71.49194 211.253.243.71.6000\\ntcp 211.253.243.71.6000 211.253.243.71.49194\\ntcp 211.253.243.71.49195 211.253.243.71.49182\\ntcp 127.0.0.1.49227 127.0.0.1.49226\\ntcp 127.0.0.1.49233 127.0.0.1.49232\\ntcp 211.253.243.71.6000 211.253.243.71.49241\\ntcp 211.253.243.71.49170 211.253.243.71.6000\\ntcp 127.0.0.1.49232 127.0.0.1.49233\\ntcp 211.253.243.71.6000 211.253.243.71.49215\\ntcp 211.253.243.71.49215 211.253.243.71.6000\\ntcp 127.0.0.1.49238 127.0.0.1.49239\\ntcp 211.253.243.71.6000 211.253.243.71.49216\\ntcp 127.0.0.1.49239 127.0.0.1.49238\\ntcp 211.253.243.71.6000 211.253.243.71.49223\\ntcp 211.253.243.71.49224 211.253.243.71.49182\\ntcp 211.253.243.71.49182 211.253.243.71.49224\\ntcp 211.253.243.71.49181 211.253.243.71.6000\\ntcp 211.253.243.71.49236 211.253.243.71.49182\\ntcp 211.253.243.71.6000 211.253.243.71.49235\\ntcp 211.253.243.71.49223 211.253.243.71.6000\\ntcp 211.253.243.71.49188 211.253.243.71.6000\\ntcp 211.253.243.71.49187 211.253.243.71.6000\\ntcp 211.253.243.71.57990 211.253.243.71.1712\\nudp 127.0.0.1.49192 127.0.0.1.49192                                                                                                                                                                                                                                                                                                                                                                                                                                                                                                                                                                                                                                                                                                                                                                                                                                                                                                                                                                                                                                                                                                                                                                                                                                                                                                                                                                                                                                                                                                 \n",
              "41164   41164   ...  ossec: output: 'netstat listening ports':\\ntcp 211.253.243.71.49391 61.41.101.142.1514\\ntcp 211.253.243.71.49177 211.253.243.71.6000\\ntcp 211.253.243.71.6000 211.253.243.71.49172\\ntcp 211.253.243.71.49172 211.253.243.71.6000\\ntcp 211.253.243.71.6000 211.253.243.71.49177\\ntcp 211.253.243.71.6000 211.253.243.71.49170\\ntcp 211.253.243.71.49170 211.253.243.71.6000\\ntcp 211.253.243.71.52969 211.253.243.71.1712\\nudp 127.0.0.1.49164 127.0.0.1.49164                                                                                                                                                                                                                                                                                                                                                                                                                                                                                                                                                                                                                                                                                                                                                                                                                                                                                                                                                                                                                                                                                                                                                                                                                                                                                                                                                                                                                                                                                                                                                                                                                                                                                                                                                                                                                                                                                                                                                                                                                                                                                                                                                                                                                                                                                                                                                                                                                                                                                                                                                                                                                                                                                                                                                                                                                                                                                                                                                                                                                                                                                                                                                                                                                                                                                                                                                                                                                                                                        \n",
              "374158  374158  ...  ossec: output: 'netstat listening ports':\\ntcp *.* *.* CLOSED\\ntcp *.111 *.* LISTEN\\ntcp *.14248 *.* LISTEN\\ntcp *.16191 *.* LISTEN\\ntcp *.199 *.* LISTEN\\ntcp *.21 *.* LISTEN\\ntcp *.23 *.* LISTEN\\ntcp *.32770 *.* LISTEN\\ntcp *.32771 *.* LISTEN\\ntcp *.32773 *.* LISTEN\\ntcp *.32782 *.* LISTEN\\ntcp *.32785 *.* LISTEN\\ntcp *.32792 *.* LISTEN\\ntcp *.427 *.* LISTEN\\ntcp *.512 *.* LISTEN\\ntcp *.513 *.* LISTEN\\ntcp *.514 *.* LISTEN\\ntcp *.5335 *.* LISTEN\\ntcp *.5336 *.* LISTEN\\ntcp *.5988 *.* LISTEN\\ntcp *.5989 *.* LISTEN\\ntcp *.6181 *.* LISTEN\\ntcp *.657 *.* LISTEN\\ntcp *.6987 *.* LISTEN\\ntcp *.6988 *.* LISTEN\\ntcp *.9510 *.* LISTEN\\ntcp4 *.* *.* CLOSED\\ntcp4 *.13 *.* LISTEN\\ntcp4 *.1334 *.* LISTEN\\ntcp4 *.22 *.* LISTEN\\ntcp4 *.25 *.* LISTEN\\ntcp4 *.32768 *.* LISTEN\\ntcp4 *.32769 *.* LISTEN\\ntcp4 *.37 *.* LISTEN\\ntcp4 *.4000 *.* LISTEN\\ntcp4 *.6000 *.* LISTEN\\ntcp4 *.6112 *.* LISTEN\\ntcp4 127.0.0.1.45957 127.0.0.1.9515 TIME_WAIT\\ntcp4 127.0.0.1.9514 *.* LISTEN\\ntcp4 127.0.0.1.9515 *.* LISTEN\\ntcp4 211.253.243.72.33255 61.41.101.142.1514 ESTABLISHED\\ntcp6 *.22 *.* LISTEN\\ntcp6 *.6000 *.* LISTEN\\ntcp6 ::1.32783 ::1.32784 CLOSE_WAIT\\nudp *.111 *.* \\nudp *.14252 *.* \\nudp *.14253 *.* \\nudp *.161 *.* \\nudp *.2279 *.* \\nudp *.32776 *.* \\nudp *.32799 *.* \\nudp *.32813 *.* \\nudp *.33313 *.* \\nudp *.33395 *.* \\nudp *.38174 *.* \\nudp *.38176 *.* \\nudp *.38178 *.* \\nudp *.427 *.* \\nudp *.514 *.* \\nudp *.657 *.* \\nudp4 *.* *.* \\nudp4 *.* *.* \\nudp4 *.* *.* \\nudp4 *.* *.* \\nudp4 *.* *.* \\nudp4 *.13 *.* \\nudp4 *.177 *.* \\nudp4 *.32777 *.* \\nudp4 *.37 *.* \\nudp4 *.518 *.* \\nudp4 *.57312 *.*                                                                                                                                                                                                                                                                                                                                                                                                                                                                                                                                                                                                                                                                                                                                                                                                                                                                                                                                                                                                                                                                                                                                                                                                                                                                                                                                                                                                                                                                                                                                                                                                                                                                                                                                                                                                                                                                                                                                                                                                                                                                                                                                                                                                                                                                          \n",
              "106827  106827  ...  File 'HKEY_LOCAL_MACHINE\\System\\CurrentControlSet\\Services\\mshidkmdf\\Enum' checksum changed.\\nOld md5sum was: 'dba0d88b9759881bc6c20d6fe684988d'\\nNew md5sum is : '623c55f2b4f1bac36416c676e6f1a8f8'\\nOld sha1sum was: '15b09b7703716d81f435ba14ae1d62e029fd4b47'\\nNew sha1sum is : '4de3932c96ea4d22d1e0609945354f11e4dda8d5'\\n                                                                                                                                                                                                                                                                                                                                                                                                                                                                                                                                                                                                                                                                                                                                                                                                                                                                                                                                                                                                                                                                                                                                                                                                                                                                                                                                                                                                                                                                                                                                                                                                                                                                                                                                                                                                                                                                                                                                                                                                                                                                                                                                                                                                                                                                                                                                                                                                                                                                                                                                                                                                                                                                                                                                                                                                                                                                                                                                                                                                                                                                                                                                                                                                                                                                                                                                                                                                                                                                                                                                                                                                     \n",
              "261920  261920  ...  File '/var/www/html/management/ossec.conf' is owned by root and has written permissions to anyone.                                                                                                                                                                                                                                                                                                                                                                                                                                                                                                                                                                                                                                                                                                                                                                                                                                                                                                                                                                                                                                                                                                                                                                                                                                                                                                                                                                                                                                                                                                                                                                                                                                                                                                                                                                                                                                                                                                                                                                                                                                                                                                                                                                                                                                                                                                                                                                                                                                                                                                                                                                                                                                                                                                                                                                                                                                                                                                                                                                                                                                                                                                                                                                                                                                                                                                                                                                                                                                                                                                                                                                                                                                                                                                                                                                                                                                   \n",
              "389834  389834  ...  File '/var/www/html/management/ossec.conf' is owned by root and has written permissions to anyone.                                                                                                                                                                                                                                                                                                                                                                                                                                                                                                                                                                                                                                                                                                                                                                                                                                                                                                                                                                                                                                                                                                                                                                                                                                                                                                                                                                                                                                                                                                                                                                                                                                                                                                                                                                                                                                                                                                                                                                                                                                                                                                                                                                                                                                                                                                                                                                                                                                                                                                                                                                                                                                                                                                                                                                                                                                                                                                                                                                                                                                                                                                                                                                                                                                                                                                                                                                                                                                                                                                                                                                                                                                                                                                                                                                                                                                   \n",
              "103835  103835  ...  level : 3, log : Dynamic VPN license name installed, license limit total, count free Description An Access Manager license was installed successfully on this device.                                                                                                                                                                                                                                                                                                                                                                                                                                                                                                                                                                                                                                                                                                                                                                                                                                                                                                                                                                                                                                                                                                                                                                                                                                                                                                                                                                                                                                                                                                                                                                                                                                                                                                                                                                                                                                                                                                                                                                                                                                                                                                                                                                                                                                                                                                                                                                                                                                                                                                                                                                                                                                                                                                                                                                                                                                                                                                                                                                                                                                                                                                                                                                                                                                                                                                                                                                                                                                                                                                                                                                                                                                                                                                                                                                \n",
              "127701  127701  ...  level : 3, log : Unable to remove file 'filename': reason                                                                                                                                                                                                                                                                                                                                                                                                                                                                                                                                                                                                                                                                                                                                                                                                                                                                                                                                                                                                                                                                                                                                                                                                                                                                                                                                                                                                                                                                                                                                                                                                                                                                                                                                                                                                                                                                                                                                                                                                                                                                                                                                                                                                                                                                                                                                                                                                                                                                                                                                                                                                                                                                                                                                                                                                                                                                                                                                                                                                                                                                                                                                                                                                                                                                                                                                                                                                                                                                                                                                                                                                                                                                                                                                                                                                                                                                            \n",
              "263685  263685  ...  level : 2, log : Usage: executable-name [-c] [-C] [-n] [-N] [-t[flags]] [-f config-file] [trace-file]                                                                                                                                                                                                                                                                                                                                                                                                                                                                                                                                                                                                                                                                                                                                                                                                                                                                                                                                                                                                                                                                                                                                                                                                                                                                                                                                                                                                                                                                                                                                                                                                                                                                                                                                                                                                                                                                                                                                                                                                                                                                                                                                                                                                                                                                                                                                                                                                                                                                                                                                                                                                                                                                                                                                                                                                                                                                                                                                                                                                                                                                                                                                                                                                                                                                                                                                                                                                                                                                                                                                                                                                                                                                                                                                                                                                                                \n",
              "234605  234605  ...  Trojaned version of file '/bin/netstat' detected. Signature used: 'bash|^/bin/sh|/dev/[^aik]|/prof|grep|addr\\.h' (Generic).                                                                                                                                                                                                                                                                                                                                                                                                                                                                                                                                                                                                                                                                                                                                                                                                                                                                                                                                                                                                                                                                                                                                                                                                                                                                                                                                                                                                                                                                                                                                                                                                                                                                                                                                                                                                                                                                                                                                                                                                                                                                                                                                                                                                                                                                                                                                                                                                                                                                                                                                                                                                                                                                                                                                                                                                                                                                                                                                                                                                                                                                                                                                                                                                                                                                                                                                                                                                                                                                                                                                                                                                                                                                                                                                                                                                          \n",
              "58077   58077   ...  Trojaned version of file '/usr/bin/netstat' detected. Signature used: 'bash|^/bin/sh|/dev/[^aik]|/prof|grep|addr\\.h' (Generic).                                                                                                                                                                                                                                                                                                                                                                                                                                                                                                                                                                                                                                                                                                                                                                                                                                                                                                                                                                                                                                                                                                                                                                                                                                                                                                                                                                                                                                                                                                                                                                                                                                                                                                                                                                                                                                                                                                                                                                                                                                                                                                                                                                                                                                                                                                                                                                                                                                                                                                                                                                                                                                                                                                                                                                                                                                                                                                                                                                                                                                                                                                                                                                                                                                                                                                                                                                                                                                                                                                                                                                                                                                                                                                                                                                                                      \n",
              "322077  322077  ...  Trojaned version of file '/usr/sbin/netstat' detected. Signature used: 'bash|^/bin/sh|/dev/[^aik]|/prof|grep|addr\\.h' (Generic).                                                                                                                                                                                                                                                                                                                                                                                                                                                                                                                                                                                                                                                                                                                                                                                                                                                                                                                                                                                                                                                                                                                                                                                                                                                                                                                                                                                                                                                                                                                                                                                                                                                                                                                                                                                                                                                                                                                                                                                                                                                                                                                                                                                                                                                                                                                                                                                                                                                                                                                                                                                                                                                                                                                                                                                                                                                                                                                                                                                                                                                                                                                                                                                                                                                                                                                                                                                                                                                                                                                                                                                                                                                                                                                                                                                                     \n",
              "397208  397208  ...  oscap: msg: \"xccdf-result\", scan-id: \"0001602140591\", content: \"ssg-centos-7-ds.xml\", title: \"Ensure auditd Collects Unauthorized Access Attempts to Files (unsuccessful)\", id: \"xccdf_org.ssgproject.content_rule_audit_rules_unsuccessful_file_modification\", result: \"fail\", severity: \"medium\", description: \"At a minimum the audit system should collect unauthorized file accesses for all users and root. If the auditd daemon is configured to use the augenrules program to read audit rules during daemon startup (the default), add the following lines to a file with suffix .rules in the directory /etc/audit/rules.d: -a always,exit -F arch=b32 -S creat,open,openat,open_by_handle_at,truncate,ftruncate -F exit=-EACCES -F auid>=1000 -F auid!=4294967295 -F key=access -a always,exit -F arch=b32 -S creat,open,openat,open_by_handle_at,truncate,ftruncate -F exit=-EPERM -F auid>=1000 -F auid!=4294967295 -F key=access If the system is 64 bit then also add the following lines: -a always,exit -F arch=b64 -S creat,open,openat,open_by_handle_at,truncate,ftruncate -F exit=-EACCES -F auid>=1000 -F auid!=4294967295 -F key=access -a always,exit -F arch=b64 -S creat,open,openat,open_by_handle_at,truncate,ftruncate -F exit=-EPERM -F auid>=1000 -F auid!=4294967295 -F key=access If the auditd daemon is configured to use the auditctl utility to read audit rules during daemon startup, add the following lines to /etc/audit/audit.rules file: -a always,exit -F arch=b32 -S creat,open,openat,open_by_handle_at,truncate,ftruncate -F exit=-EACCES -F auid>=1000 -F auid!=4294967295 -F key=access -a always,exit -F arch=b32 -S creat,open,openat,open_by_handle_at,truncate,ftruncate -F exit=-EPERM -F auid>=1000 -F auid!=4294967295 -F key=access If the system is 64 bit then also add the following lines: -a always,exit -F arch=b64 -S creat,open,openat,open_by_handle_at,truncate,ftruncate -F exit=-EACCES -F auid>=1000 -F auid!=4294967295 -F key=access -a always,exit -F arch=b64 -S creat,open,openat,open_by_handle_at,truncate,ftruncate -F exit=-EPERM -F auid>=1000 -F auid!=4294967295 -F key=access\", rationale: \"Unsuccessful attempts to access files could be an indicator of malicious activity on a system. Auditing these events could serve as evidence of potential system compromise.\" references: \"AC-17(7) (http://nvlpubs.nist.gov/nistpubs/SpecialPublications/NIST.SP.800-53r4.pdf), AU-1(b) (http://nvlpubs.nist.gov/nistpubs/SpecialPublications/NIST.SP.800-53r4.pdf), AU-2(a) (http://nvlpubs.nist.gov/nistpubs/SpecialPublications/NIST.SP.800-53r4.pdf), AU-2(c) (http://nvlpubs.nist.gov/nistpubs/SpecialPublications/NIST.SP.800-53r4.pdf), AU-2(d) (http://nvlpubs.nist.gov/nistpubs/SpecialPublications/NIST.SP.800-53r4.pdf), AU-12(a) (http://nvlpubs.nist.gov/nistpubs/SpecialPublications/NIST.SP.800-53r4.pdf), AU-12(c) (http://nvlpubs.nist.gov/nistpubs/SpecialPublications/NIST.SP.800-53r4.pdf), IR-5 (http://nvlpubs.nist.gov/nistpubs/SpecialPublications/NIST.SP.800-53r4.pdf), 172 (http://iase.disa.mil/stigs/cci/Pages/index.aspx), 2884 (http://iase.disa.mil/stigs/cci/Pages/index.aspx), Req-10.2.4 (https://www.pcisecuritystandards.org/documents/PCI_DSS_v3-1.pdf), Req-10.2.1 (https://www.pcisecuritystandards.org/documents/PCI_DSS_v3-1.pdf), 5.2.10 (https://benchmarks.cisecurity.org/tools2/linux/CIS_Red_Hat_Enterprise_Linux_7_Benchmark_v1.1.0.pdf), 5.4.1.1 (https://www.fbi.gov/file-repository/cjis-security-policy-v5_5_20160601-2-1.pdf), 3.1.7 (http://nvlpubs.nist.gov/nistpubs/SpecialPublications/NIST.SP.800-171.pdf)\", identifiers: \"\", oval-id: \"oval:ssg-audit_rules_unsuccessful_file_modification:def:1\", benchmark-id: \"xccdf_org.ssgproject.content_benchmark_RHEL-7\", profile-id: \"xccdf_org.ssgproject.content_profile_common\", profile-title: \"Common Profile for General-Purpose Systems\".\n",
              "170788  170788  ...  oscap: msg: \"xccdf-result\", scan-id: \"0001600739632\", content: \"ssg-centos-7-ds.xml\", title: \"Set Password Minimum Length\", id: \"xccdf_org.ssgproject.content_rule_accounts_password_pam_minlen\", result: \"fail\", severity: \"medium\", description: \"The pam_pwquality module's minlen parameter controls requirements for minimum characters required in a password. Add minlen= after pam_pwquality to set minimum password length requirements.\", rationale: \"The shorter the password, the lower the number of possible combinations that need to be tested before the password is compromised. Password complexity, or strength, is a measure of the effectiveness of a password in resisting attempts at guessing and brute-force attacks. Password length is one factor of several that helps to determine strength and how long it takes to crack a password. Use of more characters in a password helps to exponentially increase the time and/or resources required to compromose the password.\" references: \"IA-5(1)(a) (http://nvlpubs.nist.gov/nistpubs/SpecialPublications/NIST.SP.800-53r4.pdf), 205 (http://iase.disa.mil/stigs/cci/Pages/index.aspx), SRG-OS-000078-GPOS-00046 (), Req-8.2.3 (https://www.pcisecuritystandards.org/documents/PCI_DSS_v3-1.pdf), 6.3.2 (https://benchmarks.cisecurity.org/tools2/linux/CIS_Red_Hat_Enterprise_Linux_7_Benchmark_v1.1.0.pdf)\", identifiers: \"\", oval-id: \"oval:ssg-accounts_password_pam_minlen:def:1\", benchmark-id: \"xccdf_org.ssgproject.content_benchmark_RHEL-7\", profile-id: \"xccdf_org.ssgproject.content_profile_pci-dss\", profile-title: \"PCI-DSS v3 Control Baseline for Red Hat Enterprise Linux 7\".                                                                                                                                                                                                                                                                                                                                                                                                                                                                                                                                                                                                                                                                                                                                                                                                                                                                                                                                                                                                                                                                                                                                                                                                                                                                                                                                                                                                                                                                                                                                                                                                                                                                                                                                                                                                                                                                                                                                                                                                                                                                                                                                                                                                                                                        \n",
              "207529  207529  ...  oscap: msg: \"xccdf-result\", scan-id: \"0001603265663\", content: \"ssg-centos-7-ds.xml\", title: \"Configure Periodic Execution of AIDE\", id: \"xccdf_org.ssgproject.content_rule_aide_periodic_cron_checking\", result: \"fail\", severity: \"medium\", description: \"At a minimum, AIDE should be configured to run a weekly scan. At most, AIDE should be run daily. To implement a daily execution of AIDE at 4:05am using cron, add the following line to /etc/crontab: 05 4 * * * root /usr/sbin/aide --check To implement a weekly execution of AIDE at 4:05am using cron, add the following line to /etc/crontab: 05 4 * * 0 root /usr/sbin/aide --check AIDE can be executed periodically through other means; this is merely one example.\", rationale: \"By default, AIDE does not install itself for periodic execution. Periodically running AIDE is necessary to reveal unexpected changes in installed files. Unauthorized changes to the baseline configuration could make the system vulnerable to various attacks or allow unauthorized access to the operating system. Changes to operating system configurations can have unintended side effects, some of which may be relevant to security. Detecting such changes and providing an automated response can help avoid unintended, negative consequences that could ultimately affect the security state of the operating system. The operating system's Information Management Officer (IMO)/Information System Security Officer (ISSO) and System Administrators (SAs) must be notified via email and/or monitoring system trap when there is an unauthorized modification of a configuration item.\" references: \"CM-3(d) (http://nvlpubs.nist.gov/nistpubs/SpecialPublications/NIST.SP.800-53r4.pdf), CM-3(e) (http://nvlpubs.nist.gov/nistpubs/SpecialPublications/NIST.SP.800-53r4.pdf), CM-3(5) (http://nvlpubs.nist.gov/nistpubs/SpecialPublications/NIST.SP.800-53r4.pdf), CM-6(d) (http://nvlpubs.nist.gov/nistpubs/SpecialPublications/NIST.SP.800-53r4.pdf), CM-6(3) (http://nvlpubs.nist.gov/nistpubs/SpecialPublications/NIST.SP.800-53r4.pdf), SC-28 (http://nvlpubs.nist.gov/nistpubs/SpecialPublications/NIST.SP.800-53r4.pdf), SI-7 (http://nvlpubs.nist.gov/nistpubs/SpecialPublications/NIST.SP.800-53r4.pdf), 1744 (http://iase.disa.mil/stigs/cci/Pages/index.aspx), Req-11.5 (https://www.pcisecuritystandards.org/documents/PCI_DSS_v3-1.pdf), 1.3.2 (https://benchmarks.cisecurity.org/tools2/linux/CIS_Red_Hat_Enterprise_Linux_7_Benchmark_v1.1.0.pdf), SRG-OS-000363-GPOS-00150 (http://iase.disa.mil/stigs/srgs/Pages/index.aspx), 5.10.1.3 (https://www.fbi.gov/file-repository/cjis-security-policy-v5_5_20160601-2-1.pdf)\", identifiers: \"\", oval-id: \"oval:ssg-aide_periodic_cron_checking:def:1\", benchmark-id: \"xccdf_org.ssgproject.content_benchmark_RHEL-7\", profile-id: \"xccdf_org.ssgproject.content_profile_pci-dss\", profile-title: \"PCI-DSS v3 Control Baseline for Red Hat Enterprise Linux 7\".                                                                                                                                                                                                                                                                                                                                                                                                                                                                                                                                                                                                                                                                                                                                                                                                                                                                                                                                   \n",
              "397997  397997  ...  Jan 15 15:55:41 localhost yum[26878]: Installed: krb5-devel-1.15.1-50.el7.x86_64                                                                                                                                                                                                                                                                                                                                                                                                                                                                                                                                                                                                                                                                                                                                                                                                                                                                                                                                                                                                                                                                                                                                                                                                                                                                                                                                                                                                                                                                                                                                                                                                                                                                                                                                                                                                                                                                                                                                                                                                                                                                                                                                                                                                                                                                                                                                                                                                                                                                                                                                                                                                                                                                                                                                                                                                                                                                                                                                                                                                                                                                                                                                                                                                                                                                                                                                                                                                                                                                                                                                                                                                                                                                                                                                                                                                                                                     \n",
              "370039  370039  ...  Jan 15 15:55:38 localhost yum[26878]: Updated: e2fsprogs-libs-1.42.9-19.el7.x86_64                                                                                                                                                                                                                                                                                                                                                                                                                                                                                                                                                                                                                                                                                                                                                                                                                                                                                                                                                                                                                                                                                                                                                                                                                                                                                                                                                                                                                                                                                                                                                                                                                                                                                                                                                                                                                                                                                                                                                                                                                                                                                                                                                                                                                                                                                                                                                                                                                                                                                                                                                                                                                                                                                                                                                                                                                                                                                                                                                                                                                                                                                                                                                                                                                                                                                                                                                                                                                                                                                                                                                                                                                                                                                                                                                                                                                                                   \n",
              "240572  240572  ...  Jan 20 11:40:20 localhost yum[21452]: Erased: python3-pip-9.0.3-8.el7.noarch                                                                                                                                                                                                                                                                                                                                                                                                                                                                                                                                                                                                                                                                                                                                                                                                                                                                                                                                                                                                                                                                                                                                                                                                                                                                                                                                                                                                                                                                                                                                                                                                                                                                                                                                                                                                                                                                                                                                                                                                                                                                                                                                                                                                                                                                                                                                                                                                                                                                                                                                                                                                                                                                                                                                                                                                                                                                                                                                                                                                                                                                                                                                                                                                                                                                                                                                                                                                                                                                                                                                                                                                                                                                                                                                                                                                                                                         \n",
              "96475   96475   ...  NTFS Alternate data stream found: 'C:\\Program Files/rempl:Win32App_1'. Possible hidden content.                                                                                                                                                                                                                                                                                                                                                                                                                                                                                                                                                                                                                                                                                                                                                                                                                                                                                                                                                                                                                                                                                                                                                                                                                                                                                                                                                                                                                                                                                                                                                                                                                                                                                                                                                                                                                                                                                                                                                                                                                                                                                                                                                                                                                                                                                                                                                                                                                                                                                                                                                                                                                                                                                                                                                                                                                                                                                                                                                                                                                                                                                                                                                                                                                                                                                                                                                                                                                                                                                                                                                                                                                                                                                                                                                                                                                                      \n",
              "240182  240182  ...  NTFS Alternate data stream found: 'C:\\Program Files/CUAssistant:Win32App_1'. Possible hidden content.                                                                                                                                                                                                                                                                                                                                                                                                                                                                                                                                                                                                                                                                                                                                                                                                                                                                                                                                                                                                                                                                                                                                                                                                                                                                                                                                                                                                                                                                                                                                                                                                                                                                                                                                                                                                                                                                                                                                                                                                                                                                                                                                                                                                                                                                                                                                                                                                                                                                                                                                                                                                                                                                                                                                                                                                                                                                                                                                                                                                                                                                                                                                                                                                                                                                                                                                                                                                                                                                                                                                                                                                                                                                                                                                                                                                                                \n",
              "424513  424513  ...  NTFS Alternate data stream found: 'C:\\Program Files/CUAssistant:Win32App_1'. Possible hidden content.                                                                                                                                                                                                                                                                                                                                                                                                                                                                                                                                                                                                                                                                                                                                                                                                                                                                                                                                                                                                                                                                                                                                                                                                                                                                                                                                                                                                                                                                                                                                                                                                                                                                                                                                                                                                                                                                                                                                                                                                                                                                                                                                                                                                                                                                                                                                                                                                                                                                                                                                                                                                                                                                                                                                                                                                                                                                                                                                                                                                                                                                                                                                                                                                                                                                                                                                                                                                                                                                                                                                                                                                                                                                                                                                                                                                                                \n",
              "427128  427128  ...  File '/etc/opt/resmon/log/api.log.old' checksum changed.\\nOld md5sum was: 'a75c2392b56de2d9333ad39ff0a8da3b'\\nNew md5sum is : 'e18b3c5a44eaaafcad4fe00ee2ca00e4'\\nOld sha1sum was: 'b381206e6f9e8bc497e5312e0496f05d78fc1c37'\\nNew sha1sum is : 'af33088ed9ce59cb5490f3840fd1661cae658331'\\nOld sha256sum was: 'dc11ced0df538c1f2185210c295dc3291e5add27db669180c95d152020a1774c'\\nNew sha256sum is : 'b0f0e680ae85336475aa9cc0b7307ae409d99e4492b38f0bfbb0e3c6e35fa70b'\\nOld modification time was: 'Sat Nov 21 18:45:40 2020', now it is 'Sun Nov 22 15:35:40 2020'\\n                                                                                                                                                                                                                                                                                                                                                                                                                                                                                                                                                                                                                                                                                                                                                                                                                                                                                                                                                                                                                                                                                                                                                                                                                                                                                                                                                                                                                                                                                                                                                                                                                                                                                                                                                                                                                                                                                                                                                                                                                                                                                                                                                                                                                                                                                                                                                                                                                                                                                                                                                                                                                                                                                                                                                                                                                                                                                                                                                                                                                                                                                                                                                                                                                                                                                                                                                              \n",
              "205464  205464  ...  File '/etc/objrepos/FRUB_SRC' checksum changed.\\nOld modification time was: 'Wed Nov 18 04:00:53 2020', now it is 'Wed Nov 18 10:42:41 2020'\\n                                                                                                                                                                                                                                                                                                                                                                                                                                                                                                                                                                                                                                                                                                                                                                                                                                                                                                                                                                                                                                                                                                                                                                                                                                                                                                                                                                                                                                                                                                                                                                                                                                                                                                                                                                                                                                                                                                                                                                                                                                                                                                                                                                                                                                                                                                                                                                                                                                                                                                                                                                                                                                                                                                                                                                                                                                                                                                                                                                                                                                                                                                                                                                                                                                                                                                                                                                                                                                                                                                                                                                                                                                                                                                                                                                                       \n",
              "310567  310567  ...  File '/etc/objrepos/SRCsubsys' checksum changed.\\nOld modification time was: 'Sat Jun 27 15:16:58 2020', now it is 'Wed Nov 18 10:42:30 2020'\\n                                                                                                                                                                                                                                                                                                                                                                                                                                                                                                                                                                                                                                                                                                                                                                                                                                                                                                                                                                                                                                                                                                                                                                                                                                                                                                                                                                                                                                                                                                                                                                                                                                                                                                                                                                                                                                                                                                                                                                                                                                                                                                                                                                                                                                                                                                                                                                                                                                                                                                                                                                                                                                                                                                                                                                                                                                                                                                                                                                                                                                                                                                                                                                                                                                                                                                                                                                                                                                                                                                                                                                                                                                                                                                                                                                                      \n",
              "405278  405278  ...  Feb  1 11:31:30 localhost yum[21756]: Installed: kernel-devel-3.10.0-1160.11.1.el7.x86_64                                                                                                                                                                                                                                                                                                                                                                                                                                                                                                                                                                                                                                                                                                                                                                                                                                                                                                                                                                                                                                                                                                                                                                                                                                                                                                                                                                                                                                                                                                                                                                                                                                                                                                                                                                                                                                                                                                                                                                                                                                                                                                                                                                                                                                                                                                                                                                                                                                                                                                                                                                                                                                                                                                                                                                                                                                                                                                                                                                                                                                                                                                                                                                                                                                                                                                                                                                                                                                                                                                                                                                                                                                                                                                                                                                                                                                            \n",
              "\n",
              "[25 rows x 3 columns]"
            ]
          },
          "metadata": {
            "tags": []
          },
          "execution_count": 79
        }
      ]
    },
    {
      "cell_type": "code",
      "metadata": {
        "colab": {
          "base_uri": "https://localhost:8080/",
          "height": 419
        },
        "id": "GnYDj_axRxlQ",
        "outputId": "1b9c7f9a-f12d-492a-a7be-9031a16162e3"
      },
      "source": [
        "# level 3의 첫번째 단어만 출력\n",
        "level3_words = level3_log['full_log'].str.extract('^([^ ]+)(?: |$)')\n",
        "level3_words"
      ],
      "execution_count": null,
      "outputs": [
        {
          "output_type": "execute_result",
          "data": {
            "text/html": [
              "<div>\n",
              "<style scoped>\n",
              "    .dataframe tbody tr th:only-of-type {\n",
              "        vertical-align: middle;\n",
              "    }\n",
              "\n",
              "    .dataframe tbody tr th {\n",
              "        vertical-align: top;\n",
              "    }\n",
              "\n",
              "    .dataframe thead th {\n",
              "        text-align: right;\n",
              "    }\n",
              "</style>\n",
              "<table border=\"1\" class=\"dataframe\">\n",
              "  <thead>\n",
              "    <tr style=\"text-align: right;\">\n",
              "      <th></th>\n",
              "      <th>0</th>\n",
              "    </tr>\n",
              "  </thead>\n",
              "  <tbody>\n",
              "    <tr>\n",
              "      <th>337</th>\n",
              "      <td>Jan</td>\n",
              "    </tr>\n",
              "    <tr>\n",
              "      <th>515</th>\n",
              "      <td>File</td>\n",
              "    </tr>\n",
              "    <tr>\n",
              "      <th>638</th>\n",
              "      <td>Jan</td>\n",
              "    </tr>\n",
              "    <tr>\n",
              "      <th>1058</th>\n",
              "      <td>Jan</td>\n",
              "    </tr>\n",
              "    <tr>\n",
              "      <th>1560</th>\n",
              "      <td>Jan</td>\n",
              "    </tr>\n",
              "    <tr>\n",
              "      <th>...</th>\n",
              "      <td>...</td>\n",
              "    </tr>\n",
              "    <tr>\n",
              "      <th>472741</th>\n",
              "      <td>Jan</td>\n",
              "    </tr>\n",
              "    <tr>\n",
              "      <th>472753</th>\n",
              "      <td>Jan</td>\n",
              "    </tr>\n",
              "    <tr>\n",
              "      <th>472857</th>\n",
              "      <td>Nov</td>\n",
              "    </tr>\n",
              "    <tr>\n",
              "      <th>472926</th>\n",
              "      <td>Jan</td>\n",
              "    </tr>\n",
              "    <tr>\n",
              "      <th>472929</th>\n",
              "      <td>Jan</td>\n",
              "    </tr>\n",
              "  </tbody>\n",
              "</table>\n",
              "<p>4141 rows × 1 columns</p>\n",
              "</div>"
            ],
            "text/plain": [
              "           0\n",
              "337     Jan \n",
              "515     File\n",
              "638     Jan \n",
              "1058    Jan \n",
              "1560    Jan \n",
              "...     ... \n",
              "472741  Jan \n",
              "472753  Jan \n",
              "472857  Nov \n",
              "472926  Jan \n",
              "472929  Jan \n",
              "\n",
              "[4141 rows x 1 columns]"
            ]
          },
          "metadata": {
            "tags": []
          },
          "execution_count": 71
        }
      ]
    },
    {
      "cell_type": "code",
      "metadata": {
        "colab": {
          "base_uri": "https://localhost:8080/"
        },
        "id": "d6xWH9D8ZCih",
        "outputId": "5c442d45-ed49-4890-a506-87311cef8e82"
      },
      "source": [
        "level3_words.value_counts()"
      ],
      "execution_count": null,
      "outputs": [
        {
          "output_type": "execute_result",
          "data": {
            "text/plain": [
              "Jan        3414\n",
              "Nov        239 \n",
              "oscap:     198 \n",
              "File       181 \n",
              "Feb        44  \n",
              "2021       22  \n",
              "Dec        14  \n",
              "level      11  \n",
              "2020       9   \n",
              "Oct        6   \n",
              "juniper    1   \n",
              "Sep        1   \n",
              "Mar        1   \n",
              "dtype: int64"
            ]
          },
          "metadata": {
            "tags": []
          },
          "execution_count": 74
        }
      ]
    },
    {
      "cell_type": "code",
      "metadata": {
        "id": "qwCdU6y8Zcse"
      },
      "source": [
        "sample_df_log3 = pd.DataFrame(columns=['id', 'level', 'full_log'])\n",
        "\n",
        "for i in level3_words[0].unique():\n",
        "    if len(level3_log[level3_log['full_log'].str.contains(i)]) > 3:\n",
        "        temp_df = level3_log[level3_log['full_log'].str.contains(i)].sample(3)\n",
        "    else:\n",
        "        n = len(level3_log[level3_log['full_log'].str.contains(i)])\n",
        "        temp_df = level3_log[level3_log['full_log'].str.contains(i)].sample(n)\n",
        "    sample_df_log3 = pd.concat([sample_df_log3, temp_df])\n"
      ],
      "execution_count": null,
      "outputs": []
    },
    {
      "cell_type": "code",
      "metadata": {
        "colab": {
          "base_uri": "https://localhost:8080/",
          "height": 1000
        },
        "id": "GsoY4wtuZn3T",
        "outputId": "42a91069-087a-4c1f-e802-37cf496ee386"
      },
      "source": [
        "sample_df_log3"
      ],
      "execution_count": null,
      "outputs": [
        {
          "output_type": "execute_result",
          "data": {
            "text/html": [
              "<div>\n",
              "<style scoped>\n",
              "    .dataframe tbody tr th:only-of-type {\n",
              "        vertical-align: middle;\n",
              "    }\n",
              "\n",
              "    .dataframe tbody tr th {\n",
              "        vertical-align: top;\n",
              "    }\n",
              "\n",
              "    .dataframe thead th {\n",
              "        text-align: right;\n",
              "    }\n",
              "</style>\n",
              "<table border=\"1\" class=\"dataframe\">\n",
              "  <thead>\n",
              "    <tr style=\"text-align: right;\">\n",
              "      <th></th>\n",
              "      <th>id</th>\n",
              "      <th>level</th>\n",
              "      <th>full_log</th>\n",
              "    </tr>\n",
              "  </thead>\n",
              "  <tbody>\n",
              "    <tr>\n",
              "      <th>184938</th>\n",
              "      <td>184938</td>\n",
              "      <td>3</td>\n",
              "      <td>Jan 28 22:50:30 localhost sshd[28451]: Failed password for invalid user nginx from 95.111.236.177 port 42368 ssh2</td>\n",
              "    </tr>\n",
              "    <tr>\n",
              "      <th>132852</th>\n",
              "      <td>132852</td>\n",
              "      <td>3</td>\n",
              "      <td>Jan 27 20:32:55 localhost sshd[6916]: Invalid user git from 35.184.222.44 port 45004</td>\n",
              "    </tr>\n",
              "    <tr>\n",
              "      <th>61555</th>\n",
              "      <td>61555</td>\n",
              "      <td>3</td>\n",
              "      <td>Jan 22 08:06:11 localhost systemd: Unit esild-ml.service entered failed state.</td>\n",
              "    </tr>\n",
              "    <tr>\n",
              "      <th>99766</th>\n",
              "      <td>99766</td>\n",
              "      <td>3</td>\n",
              "      <td>File 'HKEY_LOCAL_MACHINE\\System\\CurrentControlSet\\Services\\CaptureService_60e249c\\Security' was added.\\n</td>\n",
              "    </tr>\n",
              "    <tr>\n",
              "      <th>245439</th>\n",
              "      <td>245439</td>\n",
              "      <td>3</td>\n",
              "      <td>File 'HKEY_LOCAL_MACHINE\\System\\CurrentControlSet\\Services\\CldFlt' was added.\\n</td>\n",
              "    </tr>\n",
              "    <tr>\n",
              "      <th>422223</th>\n",
              "      <td>422223</td>\n",
              "      <td>3</td>\n",
              "      <td>File 'HKEY_LOCAL_MACHINE\\System\\CurrentControlSet\\Services\\WbioSrvc\\Service Providers\\FacialFeatures\\Virtual Sensors\\{0527b250-7514-4321-8b68-41c65f956998}' was added.\\n</td>\n",
              "    </tr>\n",
              "    <tr>\n",
              "      <th>456070</th>\n",
              "      <td>456070</td>\n",
              "      <td>3</td>\n",
              "      <td>oscap: msg: \"xccdf-result\", scan-id: \"0001602316806\", content: \"ssg-centos-7-ds.xml\", title: \"Record Events that Modify the System's Discretionary Access Controls - setxattr\", id: \"xccdf_org.ssgproject.content_rule_audit_rules_dac_modification_setxattr\", result: \"fail\", severity: \"low\", description: \"At a minimum, the audit system should collect file permission changes for all users and root. If the auditd daemon is configured to use the augenrules program to read audit rules during daemon startup (the default), add the following line to a file with suffix .rules in the directory /etc/audit/rules.d: -a always,exit -F arch=b32 -S setxattr -F auid&gt;=1000 -F auid!=4294967295 -F key=perm_mod If the system is 64 bit then also add the following line: -a always,exit -F arch=b64 -S setxattr -F auid&gt;=1000 -F auid!=4294967295 -F key=perm_mod If the auditd daemon is configured to use the auditctl utility to read audit rules during daemon startup, add the following line to /etc/audit/audit.rules file: -a always,exit -F arch=b32 -S setxattr -F auid&gt;=1000 -F auid!=4294967295 -F key=perm_mod If the system is 64 bit then also add the following line: -a always,exit -F arch=b64 -S setxattr -F auid&gt;=1000 -F auid!=4294967295 -F key=perm_mod\", rationale: \"The changing of file permissions could indicate that a user is attempting to gain access to information that would otherwise be disallowed. Auditing DAC modifications can facilitate the identification of patterns of abuse among both authorized and unauthorized users.\" references: \"AC-17(7) (http://nvlpubs.nist.gov/nistpubs/SpecialPublications/NIST.SP.800-53r4.pdf), AU-1(b) (http://nvlpubs.nist.gov/nistpubs/SpecialPublications/NIST.SP.800-53r4.pdf), AU-2(a) (http://nvlpubs.nist.gov/nistpubs/SpecialPublications/NIST.SP.800-53r4.pdf), AU-2(c) (http://nvlpubs.nist.gov/nistpubs/SpecialPublications/NIST.SP.800-53r4.pdf), AU-2(d) (http://nvlpubs.nist.gov/nistpubs/SpecialPublications/NIST.SP.800-53r4.pdf), AU-12(a) (http://nvlpubs.nist.gov/nistpubs/SpecialPublications/NIST.SP.800-53r4.pdf), AU-12(c) (http://nvlpubs.nist.gov/nistpubs/SpecialPublications/NIST.SP.800-53r4.pdf), IR-5 (http://nvlpubs.nist.gov/nistpubs/SpecialPublications/NIST.SP.800-53r4.pdf), 126 (http://iase.disa.mil/stigs/cci/Pages/index.aspx), 172 (http://iase.disa.mil/stigs/cci/Pages/index.aspx), Req-10.5.5 (https://www.pcisecuritystandards.org/documents/PCI_DSS_v3-1.pdf), 5.2.10 (https://benchmarks.cisecurity.org/tools2/linux/CIS_Red_Hat_Enterprise_Linux_7_Benchmark_v1.1.0.pdf), SRG-OS-000064-GPOS-00033 (http://iase.disa.mil/stigs/srgs/Pages/index.aspx), SRG-OS-000392-GPOS-00172 (http://iase.disa.mil/stigs/srgs/Pages/index.aspx), SRG-OS-000458-GPOS-00203 (http://iase.disa.mil/stigs/srgs/Pages/index.aspx), 5.4.1.1 (https://www.fbi.gov/file-repository/cjis-security-policy-v5_5_20160601-2-1.pdf), 3.1.7 (http://nvlpubs.nist.gov/nistpubs/SpecialPublications/NIST.SP.800-171.pdf)\", identifiers: \"\", oval-id: \"oval:ssg-audit_rules_dac_modification_setxattr:def:1\", benchmark-id: \"xccdf_org.ssgproject.content_benchmark_RHEL-7\", profile-id: \"xccdf_org.ssgproject.content_profile_pci-dss\", profile-title: \"PCI-DSS v3 Control Baseline for Red Hat Enterprise Linux 7\".</td>\n",
              "    </tr>\n",
              "    <tr>\n",
              "      <th>434657</th>\n",
              "      <td>434657</td>\n",
              "      <td>3</td>\n",
              "      <td>oscap: msg: \"xccdf-result\", scan-id: \"0001602230407\", content: \"ssg-centos-7-ds.xml\", title: \"Record Attempts to Alter Time Through clock_settime\", id: \"xccdf_org.ssgproject.content_rule_audit_rules_time_clock_settime\", result: \"fail\", severity: \"low\", description: \"If the auditd daemon is configured to use the augenrules program to read audit rules during daemon startup (the default), add the following line to a file with suffix .rules in the directory /etc/audit/rules.d: -a always,exit -F arch=b32 -S clock_settime -F a0=0x0 -F key=time-change If the system is 64 bit then also add the following line: -a always,exit -F arch=b64 -S clock_settime -F a0=0x0 -F key=time-change If the auditd daemon is configured to use the auditctl utility to read audit rules during daemon startup, add the following line to /etc/audit/audit.rules file: -a always,exit -F arch=b32 -S clock_settime -F a0=0x0 -F key=time-change If the system is 64 bit then also add the following line: -a always,exit -F arch=b64 -S clock_settime -F a0=0x0 -F key=time-change The -k option allows for the specification of a key in string form that can be used for better reporting capability through ausearch and aureport. Multiple system calls can be defined on the same line to save space if desired, but is not required. See an example of multiple combined syscalls: -a always,exit -F arch=b64 -S adjtimex,settimeofday -F key=audit_time_rules\", rationale: \"Arbitrary changes to the system time can be used to obfuscate nefarious activities in log files, as well as to confuse network services that are highly dependent upon an accurate system time (such as sshd). All changes to the system time should be audited.\" references: \"AC-17(7) (http://nvlpubs.nist.gov/nistpubs/SpecialPublications/NIST.SP.800-53r4.pdf), AU-1(b) (http://nvlpubs.nist.gov/nistpubs/SpecialPublications/NIST.SP.800-53r4.pdf), AU-2(a) (http://nvlpubs.nist.gov/nistpubs/SpecialPublications/NIST.SP.800-53r4.pdf), AU-2(c) (http://nvlpubs.nist.gov/nistpubs/SpecialPublications/NIST.SP.800-53r4.pdf), AU-2(d) (http://nvlpubs.nist.gov/nistpubs/SpecialPublications/NIST.SP.800-53r4.pdf), AU-12(a) (http://nvlpubs.nist.gov/nistpubs/SpecialPublications/NIST.SP.800-53r4.pdf), AU-12(c) (http://nvlpubs.nist.gov/nistpubs/SpecialPublications/NIST.SP.800-53r4.pdf), IR-5 (http://nvlpubs.nist.gov/nistpubs/SpecialPublications/NIST.SP.800-53r4.pdf), 5.2.4 (https://benchmarks.cisecurity.org/tools2/linux/CIS_Red_Hat_Enterprise_Linux_7_Benchmark_v1.1.0.pdf), Req-10.4.2.b (https://www.pcisecuritystandards.org/documents/PCI_DSS_v3-1.pdf), 1487 (http://iase.disa.mil/stigs/cci/Pages/index.aspx), 169 (http://iase.disa.mil/stigs/cci/Pages/index.aspx), 5.4.1.1 (https://www.fbi.gov/file-repository/cjis-security-policy-v5_5_20160601-2-1.pdf), 3.1.7 (http://nvlpubs.nist.gov/nistpubs/SpecialPublications/NIST.SP.800-171.pdf)\", identifiers: \"\", oval-id: \"oval:ssg-audit_rules_time_clock_settime:def:1\", benchmark-id: \"xccdf_org.ssgproject.content_benchmark_RHEL-7\", profile-id: \"xccdf_org.ssgproject.content_profile_pci-dss\", profile-title: \"PCI-DSS v3 Control Baseline for Red Hat Enterprise Linux 7\".</td>\n",
              "    </tr>\n",
              "    <tr>\n",
              "      <th>279093</th>\n",
              "      <td>279093</td>\n",
              "      <td>3</td>\n",
              "      <td>oscap: msg: \"xccdf-result\", scan-id: \"0001600739858\", content: \"ssg-centos-7-ds.xml\", title: \"Ensure /var/log Located On Separate Partition\", id: \"xccdf_org.ssgproject.content_rule_partition_for_var_log\", result: \"fail\", severity: \"low\", description: \"System logs are stored in the /var/log directory. Ensure that it has its own partition or logical volume at installation time, or migrate it using LVM.\", rationale: \"Placing /var/log in its own partition enables better separation between log files and other files in /var/.\" references: \"AU-9 (http://nvlpubs.nist.gov/nistpubs/SpecialPublications/NIST.SP.800-53r4.pdf), SC-32 (http://nvlpubs.nist.gov/nistpubs/SpecialPublications/NIST.SP.800-53r4.pdf),  (http://iase.disa.mil/stigs/cci/Pages/index.aspx), 1.1.11 (https://benchmarks.cisecurity.org/tools2/linux/CIS_Red_Hat_Enterprise_Linux_7_Benchmark_v1.1.0.pdf)\", identifiers: \"\", oval-id: \"oval:ssg-partition_for_var_log:def:1\", benchmark-id: \"xccdf_org.ssgproject.content_benchmark_RHEL-7\", profile-id: \"xccdf_org.ssgproject.content_profile_common\", profile-title: \"Common Profile for General-Purpose Systems\".</td>\n",
              "    </tr>\n",
              "    <tr>\n",
              "      <th>161773</th>\n",
              "      <td>161773</td>\n",
              "      <td>3</td>\n",
              "      <td>Nov 17 14:25:07 sv260 sshd[6481]: Failed password for root from 61.41.101.142 port 60068 ssh2</td>\n",
              "    </tr>\n",
              "    <tr>\n",
              "      <th>326658</th>\n",
              "      <td>326658</td>\n",
              "      <td>3</td>\n",
              "      <td>Nov 17 14:29:35 sv260 sshd[6589]: Invalid user test from 61.41.101.142</td>\n",
              "    </tr>\n",
              "    <tr>\n",
              "      <th>347810</th>\n",
              "      <td>347810</td>\n",
              "      <td>3</td>\n",
              "      <td>Nov 17 14:25:01 sv260 sshd[6475]: Failed password for root from 61.41.101.142 port 60063 ssh2</td>\n",
              "    </tr>\n",
              "    <tr>\n",
              "      <th>314736</th>\n",
              "      <td>314736</td>\n",
              "      <td>3</td>\n",
              "      <td>Feb  4 09:59:27 localhost systemd: Unit esild-ml.service entered failed state.</td>\n",
              "    </tr>\n",
              "    <tr>\n",
              "      <th>73044</th>\n",
              "      <td>73044</td>\n",
              "      <td>3</td>\n",
              "      <td>Feb  1 11:26:20 localhost sshd[18122]: pam_unix(sshd:auth): authentication failure; logname= uid=0 euid=0 tty=ssh ruser= rhost=192.168.0.169</td>\n",
              "    </tr>\n",
              "    <tr>\n",
              "      <th>278467</th>\n",
              "      <td>278467</td>\n",
              "      <td>3</td>\n",
              "      <td>Feb  8 16:14:50 localhost sshd[4282]: Exiting on signal 15</td>\n",
              "    </tr>\n",
              "    <tr>\n",
              "      <th>259857</th>\n",
              "      <td>259857</td>\n",
              "      <td>3</td>\n",
              "      <td>level : 3, log : Unable to update PID file for program-name</td>\n",
              "    </tr>\n",
              "    <tr>\n",
              "      <th>6805</th>\n",
              "      <td>6805</td>\n",
              "      <td>3</td>\n",
              "      <td>level : 3, log : Unable to rename file 'source-filename' to 'destination-filename': reason</td>\n",
              "    </tr>\n",
              "    <tr>\n",
              "      <th>114336</th>\n",
              "      <td>114336</td>\n",
              "      <td>3</td>\n",
              "      <td>level : 5, log : Received generic IPC message with incorrect version received-value (expected version expected-value)</td>\n",
              "    </tr>\n",
              "    <tr>\n",
              "      <th>222002</th>\n",
              "      <td>222002</td>\n",
              "      <td>3</td>\n",
              "      <td>2021 Feb 03 16:45:20 WinEvtLog: Application: ERROR(1024): MsiInstaller: SYSTEM: NT AUTHORITY: DESKTOP-0011M0V: Dell SupportAssist Dell SupportAssist 1603 (NULL) (NULL) (NULL) ?</td>\n",
              "    </tr>\n",
              "    <tr>\n",
              "      <th>357791</th>\n",
              "      <td>357791</td>\n",
              "      <td>3</td>\n",
              "      <td>2021 Feb 04 10:33:55 WinEvtLog: Application: ERROR(1024): MsiInstaller: SYSTEM: NT AUTHORITY: DESKTOP-0011M0V: Dell SupportAssist Dell SupportAssist 1603 (NULL) (NULL) (NULL) ?</td>\n",
              "    </tr>\n",
              "    <tr>\n",
              "      <th>35553</th>\n",
              "      <td>35553</td>\n",
              "      <td>3</td>\n",
              "      <td>2021 Feb 08 10:08:16 WinEvtLog: Application: ERROR(1024): MsiInstaller: SYSTEM: NT AUTHORITY: DESKTOP-0011M0V: Dell SupportAssist Dell SupportAssist 1603 (NULL) (NULL) (NULL) ?</td>\n",
              "    </tr>\n",
              "    <tr>\n",
              "      <th>453756</th>\n",
              "      <td>453756</td>\n",
              "      <td>3</td>\n",
              "      <td>Oct 23 10:00:02 localhost sshd[16588]: Failed password for invalid user datatek from 192.168.0.218 port 58150 ssh2</td>\n",
              "    </tr>\n",
              "    <tr>\n",
              "      <th>226155</th>\n",
              "      <td>226155</td>\n",
              "      <td>3</td>\n",
              "      <td>2020 Oct 28 13:32:06 WinEvtLog: System: ERROR(10010): DCOM: Laptop: DESKTOP-UDJIJER: DESKTOP-UDJIJER: Microsoft.SkypeApp_15.65.78.0_x86__kzf8qxf38zg5c!App.AppXtwmqn4em5r5dpafgj4t4yyxgjfe0hr50.mca</td>\n",
              "    </tr>\n",
              "    <tr>\n",
              "      <th>279151</th>\n",
              "      <td>279151</td>\n",
              "      <td>3</td>\n",
              "      <td>2020 Oct 19 10:32:47 WinEvtLog: Application: ERROR(256): DPTF: (no user): no domain: DESKTOP-M1KNS65: Intel(R) Dynamic Platform and Thermal Framework : ESIF(8.3.10207.5567) TYPE: ERROR MODULE: DPTF TIME 795303 ms  DPTF Build Version:  8.3.10207.5567 DPTF Build Date:  Nov  2 2017 14:28:00 Source File:  ..\\..\\..\\..\\Sources\\Policies\\ConfigTdpPolicy\\ConfigTdpPolicy.cpp @ line 342 Executing Function:  ConfigTdpPolicy::synchronizeConfigTdpPlatformSettings Message:  ConfigTdp not supported. Policy:  ConfigTDP Policy [0]</td>\n",
              "    </tr>\n",
              "    <tr>\n",
              "      <th>226155</th>\n",
              "      <td>226155</td>\n",
              "      <td>3</td>\n",
              "      <td>2020 Oct 28 13:32:06 WinEvtLog: System: ERROR(10010): DCOM: Laptop: DESKTOP-UDJIJER: DESKTOP-UDJIJER: Microsoft.SkypeApp_15.65.78.0_x86__kzf8qxf38zg5c!App.AppXtwmqn4em5r5dpafgj4t4yyxgjfe0hr50.mca</td>\n",
              "    </tr>\n",
              "    <tr>\n",
              "      <th>454020</th>\n",
              "      <td>454020</td>\n",
              "      <td>3</td>\n",
              "      <td>2020 Oct 23 08:23:30 WinEvtLog: System: ERROR(10010): DCOM: Laptop: DESKTOP-UDJIJER: DESKTOP-UDJIJER: Microsoft.SkypeApp_15.65.78.0_x86__kzf8qxf38zg5c!App.AppXtwmqn4em5r5dpafgj4t4yyxgjfe0hr50.mca</td>\n",
              "    </tr>\n",
              "    <tr>\n",
              "      <th>246839</th>\n",
              "      <td>246839</td>\n",
              "      <td>3</td>\n",
              "      <td>2020 Oct 30 09:55:55 WinEvtLog: System: ERROR(10010): DCOM: Laptop: DESKTOP-UDJIJER: DESKTOP-UDJIJER: Microsoft.SkypeApp_15.65.78.0_x86__kzf8qxf38zg5c!App.AppXtwmqn4em5r5dpafgj4t4yyxgjfe0hr50.mca</td>\n",
              "    </tr>\n",
              "    <tr>\n",
              "      <th>314138</th>\n",
              "      <td>314138</td>\n",
              "      <td>3</td>\n",
              "      <td>Dec 28 10:35:19 localhost sshd[13005]: Failed password for invalid user m2appl300 from 192.168.0.224 port 12512 ssh2</td>\n",
              "    </tr>\n",
              "    <tr>\n",
              "      <th>229185</th>\n",
              "      <td>229185</td>\n",
              "      <td>3</td>\n",
              "      <td>Dec  2 15:26:51 localhost systemd: Unit logstash.service entered failed state.</td>\n",
              "    </tr>\n",
              "    <tr>\n",
              "      <th>97781</th>\n",
              "      <td>97781</td>\n",
              "      <td>3</td>\n",
              "      <td>Dec 16 16:26:55 localhost systemd: Unit elasticsearch.service entered failed state.</td>\n",
              "    </tr>\n",
              "    <tr>\n",
              "      <th>170195</th>\n",
              "      <td>170195</td>\n",
              "      <td>3</td>\n",
              "      <td>juniper</td>\n",
              "    </tr>\n",
              "    <tr>\n",
              "      <th>34456</th>\n",
              "      <td>34456</td>\n",
              "      <td>3</td>\n",
              "      <td>oscap: msg: \"xccdf-result\", scan-id: \"0001602054310\", content: \"ssg-centos-7-ds.xml\", title: \"Ensure /var/log Located On Separate Partition\", id: \"xccdf_org.ssgproject.content_rule_partition_for_var_log\", result: \"fail\", severity: \"low\", description: \"System logs are stored in the /var/log directory. Ensure that it has its own partition or logical volume at installation time, or migrate it using LVM.\", rationale: \"Placing /var/log in its own partition enables better separation between log files and other files in /var/.\" references: \"AU-9 (http://nvlpubs.nist.gov/nistpubs/SpecialPublications/NIST.SP.800-53r4.pdf), SC-32 (http://nvlpubs.nist.gov/nistpubs/SpecialPublications/NIST.SP.800-53r4.pdf),  (http://iase.disa.mil/stigs/cci/Pages/index.aspx), 1.1.11 (https://benchmarks.cisecurity.org/tools2/linux/CIS_Red_Hat_Enterprise_Linux_7_Benchmark_v1.1.0.pdf)\", identifiers: \"\", oval-id: \"oval:ssg-partition_for_var_log:def:1\", benchmark-id: \"xccdf_org.ssgproject.content_benchmark_RHEL-7\", profile-id: \"xccdf_org.ssgproject.content_profile_common\", profile-title: \"Common Profile for General-Purpose Systems\".</td>\n",
              "    </tr>\n",
              "    <tr>\n",
              "      <th>393254</th>\n",
              "      <td>393254</td>\n",
              "      <td>3</td>\n",
              "      <td>oscap: msg: \"xccdf-result\", scan-id: \"0001602054310\", content: \"ssg-centos-7-ds.xml\", title: \"Ensure /var/log/audit Located On Separate Partition\", id: \"xccdf_org.ssgproject.content_rule_partition_for_var_log_audit\", result: \"fail\", severity: \"low\", description: \"Audit logs are stored in the /var/log/audit directory. Ensure that it has its own partition or logical volume at installation time, or migrate it later using LVM. Make absolutely certain that it is large enough to store all audit logs that will be created by the auditing daemon.\", rationale: \"Placing /var/log/audit in its own partition enables better separation between audit files and other files, and helps ensure that auditing cannot be halted due to the partition running out of space.\" references: \"AU-4 (http://nvlpubs.nist.gov/nistpubs/SpecialPublications/NIST.SP.800-53r4.pdf), AU-9 (http://nvlpubs.nist.gov/nistpubs/SpecialPublications/NIST.SP.800-53r4.pdf), SC-32(1) (http://nvlpubs.nist.gov/nistpubs/SpecialPublications/NIST.SP.800-53r4.pdf), 366 (http://iase.disa.mil/stigs/cci/Pages/index.aspx), 1.1.12 (https://benchmarks.cisecurity.org/tools2/linux/CIS_Red_Hat_Enterprise_Linux_7_Benchmark_v1.1.0.pdf), SRG-OS-000480-GPOS-00227 (http://iase.disa.mil/stigs/srgs/Pages/index.aspx)\", identifiers: \"\", oval-id: \"oval:ssg-partition_for_var_log_audit:def:1\", benchmark-id: \"xccdf_org.ssgproject.content_benchmark_RHEL-7\", profile-id: \"xccdf_org.ssgproject.content_profile_common\", profile-title: \"Common Profile for General-Purpose Systems\".</td>\n",
              "    </tr>\n",
              "    <tr>\n",
              "      <th>200419</th>\n",
              "      <td>200419</td>\n",
              "      <td>3</td>\n",
              "      <td>oscap: msg: \"xccdf-result\", scan-id: \"0001601964895\", content: \"ssg-centos-7-ds.xml\", title: \"Ensure /var/log/audit Located On Separate Partition\", id: \"xccdf_org.ssgproject.content_rule_partition_for_var_log_audit\", result: \"fail\", severity: \"low\", description: \"Audit logs are stored in the /var/log/audit directory. Ensure that it has its own partition or logical volume at installation time, or migrate it later using LVM. Make absolutely certain that it is large enough to store all audit logs that will be created by the auditing daemon.\", rationale: \"Placing /var/log/audit in its own partition enables better separation between audit files and other files, and helps ensure that auditing cannot be halted due to the partition running out of space.\" references: \"AU-4 (http://nvlpubs.nist.gov/nistpubs/SpecialPublications/NIST.SP.800-53r4.pdf), AU-9 (http://nvlpubs.nist.gov/nistpubs/SpecialPublications/NIST.SP.800-53r4.pdf), SC-32(1) (http://nvlpubs.nist.gov/nistpubs/SpecialPublications/NIST.SP.800-53r4.pdf), 366 (http://iase.disa.mil/stigs/cci/Pages/index.aspx), 1.1.12 (https://benchmarks.cisecurity.org/tools2/linux/CIS_Red_Hat_Enterprise_Linux_7_Benchmark_v1.1.0.pdf), SRG-OS-000480-GPOS-00227 (http://iase.disa.mil/stigs/srgs/Pages/index.aspx)\", identifiers: \"\", oval-id: \"oval:ssg-partition_for_var_log_audit:def:1\", benchmark-id: \"xccdf_org.ssgproject.content_benchmark_RHEL-7\", profile-id: \"xccdf_org.ssgproject.content_profile_common\", profile-title: \"Common Profile for General-Purpose Systems\".</td>\n",
              "    </tr>\n",
              "    <tr>\n",
              "      <th>434089</th>\n",
              "      <td>434089</td>\n",
              "      <td>3</td>\n",
              "      <td>Mar  8 15:37:51 localhost systemd: Unit kibana.service entered failed state.</td>\n",
              "    </tr>\n",
              "  </tbody>\n",
              "</table>\n",
              "</div>"
            ],
            "text/plain": [
              "            id  ...                                                                                                                                                                                                                                                                                                                                                                                                                                                                                                                                                                                                                                                                                                                                                                                                                                                                                                                                                                                                                                                                                                                                                                                                                                                                                                                                                                                                                                                                                                                                                                                                                                                                                                                                                                                                                                                                                                                                                                                                                                                                                                                                                                                                                                                                                                                                                                                                                                                                                                                                                                                                                                                                                                                                                                                                                                                                                                                                                                                                                                                                                                                                                                                                                                                                                                                        full_log\n",
              "184938  184938  ...  Jan 28 22:50:30 localhost sshd[28451]: Failed password for invalid user nginx from 95.111.236.177 port 42368 ssh2                                                                                                                                                                                                                                                                                                                                                                                                                                                                                                                                                                                                                                                                                                                                                                                                                                                                                                                                                                                                                                                                                                                                                                                                                                                                                                                                                                                                                                                                                                                                                                                                                                                                                                                                                                                                                                                                                                                                                                                                                                                                                                                                                                                                                                                                                                                                                                                                                                                                                                                                                                                                                                                                                                                                                                                                                                                                                                                                                                                                                                                                                                                                                                                                             \n",
              "132852  132852  ...  Jan 27 20:32:55 localhost sshd[6916]: Invalid user git from 35.184.222.44 port 45004                                                                                                                                                                                                                                                                                                                                                                                                                                                                                                                                                                                                                                                                                                                                                                                                                                                                                                                                                                                                                                                                                                                                                                                                                                                                                                                                                                                                                                                                                                                                                                                                                                                                                                                                                                                                                                                                                                                                                                                                                                                                                                                                                                                                                                                                                                                                                                                                                                                                                                                                                                                                                                                                                                                                                                                                                                                                                                                                                                                                                                                                                                                                                                                                                                          \n",
              "61555   61555   ...  Jan 22 08:06:11 localhost systemd: Unit esild-ml.service entered failed state.                                                                                                                                                                                                                                                                                                                                                                                                                                                                                                                                                                                                                                                                                                                                                                                                                                                                                                                                                                                                                                                                                                                                                                                                                                                                                                                                                                                                                                                                                                                                                                                                                                                                                                                                                                                                                                                                                                                                                                                                                                                                                                                                                                                                                                                                                                                                                                                                                                                                                                                                                                                                                                                                                                                                                                                                                                                                                                                                                                                                                                                                                                                                                                                                                                                \n",
              "99766   99766   ...  File 'HKEY_LOCAL_MACHINE\\System\\CurrentControlSet\\Services\\CaptureService_60e249c\\Security' was added.\\n                                                                                                                                                                                                                                                                                                                                                                                                                                                                                                                                                                                                                                                                                                                                                                                                                                                                                                                                                                                                                                                                                                                                                                                                                                                                                                                                                                                                                                                                                                                                                                                                                                                                                                                                                                                                                                                                                                                                                                                                                                                                                                                                                                                                                                                                                                                                                                                                                                                                                                                                                                                                                                                                                                                                                                                                                                                                                                                                                                                                                                                                                                                                                                                                                      \n",
              "245439  245439  ...  File 'HKEY_LOCAL_MACHINE\\System\\CurrentControlSet\\Services\\CldFlt' was added.\\n                                                                                                                                                                                                                                                                                                                                                                                                                                                                                                                                                                                                                                                                                                                                                                                                                                                                                                                                                                                                                                                                                                                                                                                                                                                                                                                                                                                                                                                                                                                                                                                                                                                                                                                                                                                                                                                                                                                                                                                                                                                                                                                                                                                                                                                                                                                                                                                                                                                                                                                                                                                                                                                                                                                                                                                                                                                                                                                                                                                                                                                                                                                                                                                                                                               \n",
              "422223  422223  ...  File 'HKEY_LOCAL_MACHINE\\System\\CurrentControlSet\\Services\\WbioSrvc\\Service Providers\\FacialFeatures\\Virtual Sensors\\{0527b250-7514-4321-8b68-41c65f956998}' was added.\\n                                                                                                                                                                                                                                                                                                                                                                                                                                                                                                                                                                                                                                                                                                                                                                                                                                                                                                                                                                                                                                                                                                                                                                                                                                                                                                                                                                                                                                                                                                                                                                                                                                                                                                                                                                                                                                                                                                                                                                                                                                                                                                                                                                                                                                                                                                                                                                                                                                                                                                                                                                                                                                                                                                                                                                                                                                                                                                                                                                                                                                                                                                                                                     \n",
              "456070  456070  ...  oscap: msg: \"xccdf-result\", scan-id: \"0001602316806\", content: \"ssg-centos-7-ds.xml\", title: \"Record Events that Modify the System's Discretionary Access Controls - setxattr\", id: \"xccdf_org.ssgproject.content_rule_audit_rules_dac_modification_setxattr\", result: \"fail\", severity: \"low\", description: \"At a minimum, the audit system should collect file permission changes for all users and root. If the auditd daemon is configured to use the augenrules program to read audit rules during daemon startup (the default), add the following line to a file with suffix .rules in the directory /etc/audit/rules.d: -a always,exit -F arch=b32 -S setxattr -F auid>=1000 -F auid!=4294967295 -F key=perm_mod If the system is 64 bit then also add the following line: -a always,exit -F arch=b64 -S setxattr -F auid>=1000 -F auid!=4294967295 -F key=perm_mod If the auditd daemon is configured to use the auditctl utility to read audit rules during daemon startup, add the following line to /etc/audit/audit.rules file: -a always,exit -F arch=b32 -S setxattr -F auid>=1000 -F auid!=4294967295 -F key=perm_mod If the system is 64 bit then also add the following line: -a always,exit -F arch=b64 -S setxattr -F auid>=1000 -F auid!=4294967295 -F key=perm_mod\", rationale: \"The changing of file permissions could indicate that a user is attempting to gain access to information that would otherwise be disallowed. Auditing DAC modifications can facilitate the identification of patterns of abuse among both authorized and unauthorized users.\" references: \"AC-17(7) (http://nvlpubs.nist.gov/nistpubs/SpecialPublications/NIST.SP.800-53r4.pdf), AU-1(b) (http://nvlpubs.nist.gov/nistpubs/SpecialPublications/NIST.SP.800-53r4.pdf), AU-2(a) (http://nvlpubs.nist.gov/nistpubs/SpecialPublications/NIST.SP.800-53r4.pdf), AU-2(c) (http://nvlpubs.nist.gov/nistpubs/SpecialPublications/NIST.SP.800-53r4.pdf), AU-2(d) (http://nvlpubs.nist.gov/nistpubs/SpecialPublications/NIST.SP.800-53r4.pdf), AU-12(a) (http://nvlpubs.nist.gov/nistpubs/SpecialPublications/NIST.SP.800-53r4.pdf), AU-12(c) (http://nvlpubs.nist.gov/nistpubs/SpecialPublications/NIST.SP.800-53r4.pdf), IR-5 (http://nvlpubs.nist.gov/nistpubs/SpecialPublications/NIST.SP.800-53r4.pdf), 126 (http://iase.disa.mil/stigs/cci/Pages/index.aspx), 172 (http://iase.disa.mil/stigs/cci/Pages/index.aspx), Req-10.5.5 (https://www.pcisecuritystandards.org/documents/PCI_DSS_v3-1.pdf), 5.2.10 (https://benchmarks.cisecurity.org/tools2/linux/CIS_Red_Hat_Enterprise_Linux_7_Benchmark_v1.1.0.pdf), SRG-OS-000064-GPOS-00033 (http://iase.disa.mil/stigs/srgs/Pages/index.aspx), SRG-OS-000392-GPOS-00172 (http://iase.disa.mil/stigs/srgs/Pages/index.aspx), SRG-OS-000458-GPOS-00203 (http://iase.disa.mil/stigs/srgs/Pages/index.aspx), 5.4.1.1 (https://www.fbi.gov/file-repository/cjis-security-policy-v5_5_20160601-2-1.pdf), 3.1.7 (http://nvlpubs.nist.gov/nistpubs/SpecialPublications/NIST.SP.800-171.pdf)\", identifiers: \"\", oval-id: \"oval:ssg-audit_rules_dac_modification_setxattr:def:1\", benchmark-id: \"xccdf_org.ssgproject.content_benchmark_RHEL-7\", profile-id: \"xccdf_org.ssgproject.content_profile_pci-dss\", profile-title: \"PCI-DSS v3 Control Baseline for Red Hat Enterprise Linux 7\".\n",
              "434657  434657  ...  oscap: msg: \"xccdf-result\", scan-id: \"0001602230407\", content: \"ssg-centos-7-ds.xml\", title: \"Record Attempts to Alter Time Through clock_settime\", id: \"xccdf_org.ssgproject.content_rule_audit_rules_time_clock_settime\", result: \"fail\", severity: \"low\", description: \"If the auditd daemon is configured to use the augenrules program to read audit rules during daemon startup (the default), add the following line to a file with suffix .rules in the directory /etc/audit/rules.d: -a always,exit -F arch=b32 -S clock_settime -F a0=0x0 -F key=time-change If the system is 64 bit then also add the following line: -a always,exit -F arch=b64 -S clock_settime -F a0=0x0 -F key=time-change If the auditd daemon is configured to use the auditctl utility to read audit rules during daemon startup, add the following line to /etc/audit/audit.rules file: -a always,exit -F arch=b32 -S clock_settime -F a0=0x0 -F key=time-change If the system is 64 bit then also add the following line: -a always,exit -F arch=b64 -S clock_settime -F a0=0x0 -F key=time-change The -k option allows for the specification of a key in string form that can be used for better reporting capability through ausearch and aureport. Multiple system calls can be defined on the same line to save space if desired, but is not required. See an example of multiple combined syscalls: -a always,exit -F arch=b64 -S adjtimex,settimeofday -F key=audit_time_rules\", rationale: \"Arbitrary changes to the system time can be used to obfuscate nefarious activities in log files, as well as to confuse network services that are highly dependent upon an accurate system time (such as sshd). All changes to the system time should be audited.\" references: \"AC-17(7) (http://nvlpubs.nist.gov/nistpubs/SpecialPublications/NIST.SP.800-53r4.pdf), AU-1(b) (http://nvlpubs.nist.gov/nistpubs/SpecialPublications/NIST.SP.800-53r4.pdf), AU-2(a) (http://nvlpubs.nist.gov/nistpubs/SpecialPublications/NIST.SP.800-53r4.pdf), AU-2(c) (http://nvlpubs.nist.gov/nistpubs/SpecialPublications/NIST.SP.800-53r4.pdf), AU-2(d) (http://nvlpubs.nist.gov/nistpubs/SpecialPublications/NIST.SP.800-53r4.pdf), AU-12(a) (http://nvlpubs.nist.gov/nistpubs/SpecialPublications/NIST.SP.800-53r4.pdf), AU-12(c) (http://nvlpubs.nist.gov/nistpubs/SpecialPublications/NIST.SP.800-53r4.pdf), IR-5 (http://nvlpubs.nist.gov/nistpubs/SpecialPublications/NIST.SP.800-53r4.pdf), 5.2.4 (https://benchmarks.cisecurity.org/tools2/linux/CIS_Red_Hat_Enterprise_Linux_7_Benchmark_v1.1.0.pdf), Req-10.4.2.b (https://www.pcisecuritystandards.org/documents/PCI_DSS_v3-1.pdf), 1487 (http://iase.disa.mil/stigs/cci/Pages/index.aspx), 169 (http://iase.disa.mil/stigs/cci/Pages/index.aspx), 5.4.1.1 (https://www.fbi.gov/file-repository/cjis-security-policy-v5_5_20160601-2-1.pdf), 3.1.7 (http://nvlpubs.nist.gov/nistpubs/SpecialPublications/NIST.SP.800-171.pdf)\", identifiers: \"\", oval-id: \"oval:ssg-audit_rules_time_clock_settime:def:1\", benchmark-id: \"xccdf_org.ssgproject.content_benchmark_RHEL-7\", profile-id: \"xccdf_org.ssgproject.content_profile_pci-dss\", profile-title: \"PCI-DSS v3 Control Baseline for Red Hat Enterprise Linux 7\".                                                                      \n",
              "279093  279093  ...  oscap: msg: \"xccdf-result\", scan-id: \"0001600739858\", content: \"ssg-centos-7-ds.xml\", title: \"Ensure /var/log Located On Separate Partition\", id: \"xccdf_org.ssgproject.content_rule_partition_for_var_log\", result: \"fail\", severity: \"low\", description: \"System logs are stored in the /var/log directory. Ensure that it has its own partition or logical volume at installation time, or migrate it using LVM.\", rationale: \"Placing /var/log in its own partition enables better separation between log files and other files in /var/.\" references: \"AU-9 (http://nvlpubs.nist.gov/nistpubs/SpecialPublications/NIST.SP.800-53r4.pdf), SC-32 (http://nvlpubs.nist.gov/nistpubs/SpecialPublications/NIST.SP.800-53r4.pdf),  (http://iase.disa.mil/stigs/cci/Pages/index.aspx), 1.1.11 (https://benchmarks.cisecurity.org/tools2/linux/CIS_Red_Hat_Enterprise_Linux_7_Benchmark_v1.1.0.pdf)\", identifiers: \"\", oval-id: \"oval:ssg-partition_for_var_log:def:1\", benchmark-id: \"xccdf_org.ssgproject.content_benchmark_RHEL-7\", profile-id: \"xccdf_org.ssgproject.content_profile_common\", profile-title: \"Common Profile for General-Purpose Systems\".                                                                                                                                                                                                                                                                                                                                                                                                                                                                                                                                                                                                                                                                                                                                                                                                                                                                                                                                                                                                                                                                                                                                                                                                                                                                                                                                                                                                                                                                                                                                                                                                                                                                                                                                                                                                                                                                                                                                                                                                                                                                                                                                                                   \n",
              "161773  161773  ...  Nov 17 14:25:07 sv260 sshd[6481]: Failed password for root from 61.41.101.142 port 60068 ssh2                                                                                                                                                                                                                                                                                                                                                                                                                                                                                                                                                                                                                                                                                                                                                                                                                                                                                                                                                                                                                                                                                                                                                                                                                                                                                                                                                                                                                                                                                                                                                                                                                                                                                                                                                                                                                                                                                                                                                                                                                                                                                                                                                                                                                                                                                                                                                                                                                                                                                                                                                                                                                                                                                                                                                                                                                                                                                                                                                                                                                                                                                                                                                                                                                                 \n",
              "326658  326658  ...  Nov 17 14:29:35 sv260 sshd[6589]: Invalid user test from 61.41.101.142                                                                                                                                                                                                                                                                                                                                                                                                                                                                                                                                                                                                                                                                                                                                                                                                                                                                                                                                                                                                                                                                                                                                                                                                                                                                                                                                                                                                                                                                                                                                                                                                                                                                                                                                                                                                                                                                                                                                                                                                                                                                                                                                                                                                                                                                                                                                                                                                                                                                                                                                                                                                                                                                                                                                                                                                                                                                                                                                                                                                                                                                                                                                                                                                                                                        \n",
              "347810  347810  ...  Nov 17 14:25:01 sv260 sshd[6475]: Failed password for root from 61.41.101.142 port 60063 ssh2                                                                                                                                                                                                                                                                                                                                                                                                                                                                                                                                                                                                                                                                                                                                                                                                                                                                                                                                                                                                                                                                                                                                                                                                                                                                                                                                                                                                                                                                                                                                                                                                                                                                                                                                                                                                                                                                                                                                                                                                                                                                                                                                                                                                                                                                                                                                                                                                                                                                                                                                                                                                                                                                                                                                                                                                                                                                                                                                                                                                                                                                                                                                                                                                                                 \n",
              "314736  314736  ...  Feb  4 09:59:27 localhost systemd: Unit esild-ml.service entered failed state.                                                                                                                                                                                                                                                                                                                                                                                                                                                                                                                                                                                                                                                                                                                                                                                                                                                                                                                                                                                                                                                                                                                                                                                                                                                                                                                                                                                                                                                                                                                                                                                                                                                                                                                                                                                                                                                                                                                                                                                                                                                                                                                                                                                                                                                                                                                                                                                                                                                                                                                                                                                                                                                                                                                                                                                                                                                                                                                                                                                                                                                                                                                                                                                                                                                \n",
              "73044   73044   ...  Feb  1 11:26:20 localhost sshd[18122]: pam_unix(sshd:auth): authentication failure; logname= uid=0 euid=0 tty=ssh ruser= rhost=192.168.0.169                                                                                                                                                                                                                                                                                                                                                                                                                                                                                                                                                                                                                                                                                                                                                                                                                                                                                                                                                                                                                                                                                                                                                                                                                                                                                                                                                                                                                                                                                                                                                                                                                                                                                                                                                                                                                                                                                                                                                                                                                                                                                                                                                                                                                                                                                                                                                                                                                                                                                                                                                                                                                                                                                                                                                                                                                                                                                                                                                                                                                                                                                                                                                                                  \n",
              "278467  278467  ...  Feb  8 16:14:50 localhost sshd[4282]: Exiting on signal 15                                                                                                                                                                                                                                                                                                                                                                                                                                                                                                                                                                                                                                                                                                                                                                                                                                                                                                                                                                                                                                                                                                                                                                                                                                                                                                                                                                                                                                                                                                                                                                                                                                                                                                                                                                                                                                                                                                                                                                                                                                                                                                                                                                                                                                                                                                                                                                                                                                                                                                                                                                                                                                                                                                                                                                                                                                                                                                                                                                                                                                                                                                                                                                                                                                                                    \n",
              "259857  259857  ...  level : 3, log : Unable to update PID file for program-name                                                                                                                                                                                                                                                                                                                                                                                                                                                                                                                                                                                                                                                                                                                                                                                                                                                                                                                                                                                                                                                                                                                                                                                                                                                                                                                                                                                                                                                                                                                                                                                                                                                                                                                                                                                                                                                                                                                                                                                                                                                                                                                                                                                                                                                                                                                                                                                                                                                                                                                                                                                                                                                                                                                                                                                                                                                                                                                                                                                                                                                                                                                                                                                                                                                                   \n",
              "6805    6805    ...  level : 3, log : Unable to rename file 'source-filename' to 'destination-filename': reason                                                                                                                                                                                                                                                                                                                                                                                                                                                                                                                                                                                                                                                                                                                                                                                                                                                                                                                                                                                                                                                                                                                                                                                                                                                                                                                                                                                                                                                                                                                                                                                                                                                                                                                                                                                                                                                                                                                                                                                                                                                                                                                                                                                                                                                                                                                                                                                                                                                                                                                                                                                                                                                                                                                                                                                                                                                                                                                                                                                                                                                                                                                                                                                                                                    \n",
              "114336  114336  ...  level : 5, log : Received generic IPC message with incorrect version received-value (expected version expected-value)                                                                                                                                                                                                                                                                                                                                                                                                                                                                                                                                                                                                                                                                                                                                                                                                                                                                                                                                                                                                                                                                                                                                                                                                                                                                                                                                                                                                                                                                                                                                                                                                                                                                                                                                                                                                                                                                                                                                                                                                                                                                                                                                                                                                                                                                                                                                                                                                                                                                                                                                                                                                                                                                                                                                                                                                                                                                                                                                                                                                                                                                                                                                                                                                         \n",
              "222002  222002  ...  2021 Feb 03 16:45:20 WinEvtLog: Application: ERROR(1024): MsiInstaller: SYSTEM: NT AUTHORITY: DESKTOP-0011M0V: Dell SupportAssist Dell SupportAssist 1603 (NULL) (NULL) (NULL) ?                                                                                                                                                                                                                                                                                                                                                                                                                                                                                                                                                                                                                                                                                                                                                                                                                                                                                                                                                                                                                                                                                                                                                                                                                                                                                                                                                                                                                                                                                                                                                                                                                                                                                                                                                                                                                                                                                                                                                                                                                                                                                                                                                                                                                                                                                                                                                                                                                                                                                                                                                                                                                                                                                                                                                                                                                                                                                                                                                                                                                                                                                                                                              \n",
              "357791  357791  ...  2021 Feb 04 10:33:55 WinEvtLog: Application: ERROR(1024): MsiInstaller: SYSTEM: NT AUTHORITY: DESKTOP-0011M0V: Dell SupportAssist Dell SupportAssist 1603 (NULL) (NULL) (NULL) ?                                                                                                                                                                                                                                                                                                                                                                                                                                                                                                                                                                                                                                                                                                                                                                                                                                                                                                                                                                                                                                                                                                                                                                                                                                                                                                                                                                                                                                                                                                                                                                                                                                                                                                                                                                                                                                                                                                                                                                                                                                                                                                                                                                                                                                                                                                                                                                                                                                                                                                                                                                                                                                                                                                                                                                                                                                                                                                                                                                                                                                                                                                                                              \n",
              "35553   35553   ...  2021 Feb 08 10:08:16 WinEvtLog: Application: ERROR(1024): MsiInstaller: SYSTEM: NT AUTHORITY: DESKTOP-0011M0V: Dell SupportAssist Dell SupportAssist 1603 (NULL) (NULL) (NULL) ?                                                                                                                                                                                                                                                                                                                                                                                                                                                                                                                                                                                                                                                                                                                                                                                                                                                                                                                                                                                                                                                                                                                                                                                                                                                                                                                                                                                                                                                                                                                                                                                                                                                                                                                                                                                                                                                                                                                                                                                                                                                                                                                                                                                                                                                                                                                                                                                                                                                                                                                                                                                                                                                                                                                                                                                                                                                                                                                                                                                                                                                                                                                                              \n",
              "453756  453756  ...  Oct 23 10:00:02 localhost sshd[16588]: Failed password for invalid user datatek from 192.168.0.218 port 58150 ssh2                                                                                                                                                                                                                                                                                                                                                                                                                                                                                                                                                                                                                                                                                                                                                                                                                                                                                                                                                                                                                                                                                                                                                                                                                                                                                                                                                                                                                                                                                                                                                                                                                                                                                                                                                                                                                                                                                                                                                                                                                                                                                                                                                                                                                                                                                                                                                                                                                                                                                                                                                                                                                                                                                                                                                                                                                                                                                                                                                                                                                                                                                                                                                                                                            \n",
              "226155  226155  ...  2020 Oct 28 13:32:06 WinEvtLog: System: ERROR(10010): DCOM: Laptop: DESKTOP-UDJIJER: DESKTOP-UDJIJER: Microsoft.SkypeApp_15.65.78.0_x86__kzf8qxf38zg5c!App.AppXtwmqn4em5r5dpafgj4t4yyxgjfe0hr50.mca                                                                                                                                                                                                                                                                                                                                                                                                                                                                                                                                                                                                                                                                                                                                                                                                                                                                                                                                                                                                                                                                                                                                                                                                                                                                                                                                                                                                                                                                                                                                                                                                                                                                                                                                                                                                                                                                                                                                                                                                                                                                                                                                                                                                                                                                                                                                                                                                                                                                                                                                                                                                                                                                                                                                                                                                                                                                                                                                                                                                                                                                                                                           \n",
              "279151  279151  ...  2020 Oct 19 10:32:47 WinEvtLog: Application: ERROR(256): DPTF: (no user): no domain: DESKTOP-M1KNS65: Intel(R) Dynamic Platform and Thermal Framework : ESIF(8.3.10207.5567) TYPE: ERROR MODULE: DPTF TIME 795303 ms  DPTF Build Version:  8.3.10207.5567 DPTF Build Date:  Nov  2 2017 14:28:00 Source File:  ..\\..\\..\\..\\Sources\\Policies\\ConfigTdpPolicy\\ConfigTdpPolicy.cpp @ line 342 Executing Function:  ConfigTdpPolicy::synchronizeConfigTdpPlatformSettings Message:  ConfigTdp not supported. Policy:  ConfigTDP Policy [0]                                                                                                                                                                                                                                                                                                                                                                                                                                                                                                                                                                                                                                                                                                                                                                                                                                                                                                                                                                                                                                                                                                                                                                                                                                                                                                                                                                                                                                                                                                                                                                                                                                                                                                                                                                                                                                                                                                                                                                                                                                                                                                                                                                                                                                                                                                                                                                                                                                                                                                                                                                                                                                                                                                                                                                                        \n",
              "226155  226155  ...  2020 Oct 28 13:32:06 WinEvtLog: System: ERROR(10010): DCOM: Laptop: DESKTOP-UDJIJER: DESKTOP-UDJIJER: Microsoft.SkypeApp_15.65.78.0_x86__kzf8qxf38zg5c!App.AppXtwmqn4em5r5dpafgj4t4yyxgjfe0hr50.mca                                                                                                                                                                                                                                                                                                                                                                                                                                                                                                                                                                                                                                                                                                                                                                                                                                                                                                                                                                                                                                                                                                                                                                                                                                                                                                                                                                                                                                                                                                                                                                                                                                                                                                                                                                                                                                                                                                                                                                                                                                                                                                                                                                                                                                                                                                                                                                                                                                                                                                                                                                                                                                                                                                                                                                                                                                                                                                                                                                                                                                                                                                                           \n",
              "454020  454020  ...  2020 Oct 23 08:23:30 WinEvtLog: System: ERROR(10010): DCOM: Laptop: DESKTOP-UDJIJER: DESKTOP-UDJIJER: Microsoft.SkypeApp_15.65.78.0_x86__kzf8qxf38zg5c!App.AppXtwmqn4em5r5dpafgj4t4yyxgjfe0hr50.mca                                                                                                                                                                                                                                                                                                                                                                                                                                                                                                                                                                                                                                                                                                                                                                                                                                                                                                                                                                                                                                                                                                                                                                                                                                                                                                                                                                                                                                                                                                                                                                                                                                                                                                                                                                                                                                                                                                                                                                                                                                                                                                                                                                                                                                                                                                                                                                                                                                                                                                                                                                                                                                                                                                                                                                                                                                                                                                                                                                                                                                                                                                                           \n",
              "246839  246839  ...  2020 Oct 30 09:55:55 WinEvtLog: System: ERROR(10010): DCOM: Laptop: DESKTOP-UDJIJER: DESKTOP-UDJIJER: Microsoft.SkypeApp_15.65.78.0_x86__kzf8qxf38zg5c!App.AppXtwmqn4em5r5dpafgj4t4yyxgjfe0hr50.mca                                                                                                                                                                                                                                                                                                                                                                                                                                                                                                                                                                                                                                                                                                                                                                                                                                                                                                                                                                                                                                                                                                                                                                                                                                                                                                                                                                                                                                                                                                                                                                                                                                                                                                                                                                                                                                                                                                                                                                                                                                                                                                                                                                                                                                                                                                                                                                                                                                                                                                                                                                                                                                                                                                                                                                                                                                                                                                                                                                                                                                                                                                                           \n",
              "314138  314138  ...  Dec 28 10:35:19 localhost sshd[13005]: Failed password for invalid user m2appl300 from 192.168.0.224 port 12512 ssh2                                                                                                                                                                                                                                                                                                                                                                                                                                                                                                                                                                                                                                                                                                                                                                                                                                                                                                                                                                                                                                                                                                                                                                                                                                                                                                                                                                                                                                                                                                                                                                                                                                                                                                                                                                                                                                                                                                                                                                                                                                                                                                                                                                                                                                                                                                                                                                                                                                                                                                                                                                                                                                                                                                                                                                                                                                                                                                                                                                                                                                                                                                                                                                                                          \n",
              "229185  229185  ...  Dec  2 15:26:51 localhost systemd: Unit logstash.service entered failed state.                                                                                                                                                                                                                                                                                                                                                                                                                                                                                                                                                                                                                                                                                                                                                                                                                                                                                                                                                                                                                                                                                                                                                                                                                                                                                                                                                                                                                                                                                                                                                                                                                                                                                                                                                                                                                                                                                                                                                                                                                                                                                                                                                                                                                                                                                                                                                                                                                                                                                                                                                                                                                                                                                                                                                                                                                                                                                                                                                                                                                                                                                                                                                                                                                                                \n",
              "97781   97781   ...  Dec 16 16:26:55 localhost systemd: Unit elasticsearch.service entered failed state.                                                                                                                                                                                                                                                                                                                                                                                                                                                                                                                                                                                                                                                                                                                                                                                                                                                                                                                                                                                                                                                                                                                                                                                                                                                                                                                                                                                                                                                                                                                                                                                                                                                                                                                                                                                                                                                                                                                                                                                                                                                                                                                                                                                                                                                                                                                                                                                                                                                                                                                                                                                                                                                                                                                                                                                                                                                                                                                                                                                                                                                                                                                                                                                                                                           \n",
              "170195  170195  ...  juniper                                                                                                                                                                                                                                                                                                                                                                                                                                                                                                                                                                                                                                                                                                                                                                                                                                                                                                                                                                                                                                                                                                                                                                                                                                                                                                                                                                                                                                                                                                                                                                                                                                                                                                                                                                                                                                                                                                                                                                                                                                                                                                                                                                                                                                                                                                                                                                                                                                                                                                                                                                                                                                                                                                                                                                                                                                                                                                                                                                                                                                                                                                                                                                                                                                                                                                                       \n",
              "34456   34456   ...  oscap: msg: \"xccdf-result\", scan-id: \"0001602054310\", content: \"ssg-centos-7-ds.xml\", title: \"Ensure /var/log Located On Separate Partition\", id: \"xccdf_org.ssgproject.content_rule_partition_for_var_log\", result: \"fail\", severity: \"low\", description: \"System logs are stored in the /var/log directory. Ensure that it has its own partition or logical volume at installation time, or migrate it using LVM.\", rationale: \"Placing /var/log in its own partition enables better separation between log files and other files in /var/.\" references: \"AU-9 (http://nvlpubs.nist.gov/nistpubs/SpecialPublications/NIST.SP.800-53r4.pdf), SC-32 (http://nvlpubs.nist.gov/nistpubs/SpecialPublications/NIST.SP.800-53r4.pdf),  (http://iase.disa.mil/stigs/cci/Pages/index.aspx), 1.1.11 (https://benchmarks.cisecurity.org/tools2/linux/CIS_Red_Hat_Enterprise_Linux_7_Benchmark_v1.1.0.pdf)\", identifiers: \"\", oval-id: \"oval:ssg-partition_for_var_log:def:1\", benchmark-id: \"xccdf_org.ssgproject.content_benchmark_RHEL-7\", profile-id: \"xccdf_org.ssgproject.content_profile_common\", profile-title: \"Common Profile for General-Purpose Systems\".                                                                                                                                                                                                                                                                                                                                                                                                                                                                                                                                                                                                                                                                                                                                                                                                                                                                                                                                                                                                                                                                                                                                                                                                                                                                                                                                                                                                                                                                                                                                                                                                                                                                                                                                                                                                                                                                                                                                                                                                                                                                                                                                                                   \n",
              "393254  393254  ...  oscap: msg: \"xccdf-result\", scan-id: \"0001602054310\", content: \"ssg-centos-7-ds.xml\", title: \"Ensure /var/log/audit Located On Separate Partition\", id: \"xccdf_org.ssgproject.content_rule_partition_for_var_log_audit\", result: \"fail\", severity: \"low\", description: \"Audit logs are stored in the /var/log/audit directory. Ensure that it has its own partition or logical volume at installation time, or migrate it later using LVM. Make absolutely certain that it is large enough to store all audit logs that will be created by the auditing daemon.\", rationale: \"Placing /var/log/audit in its own partition enables better separation between audit files and other files, and helps ensure that auditing cannot be halted due to the partition running out of space.\" references: \"AU-4 (http://nvlpubs.nist.gov/nistpubs/SpecialPublications/NIST.SP.800-53r4.pdf), AU-9 (http://nvlpubs.nist.gov/nistpubs/SpecialPublications/NIST.SP.800-53r4.pdf), SC-32(1) (http://nvlpubs.nist.gov/nistpubs/SpecialPublications/NIST.SP.800-53r4.pdf), 366 (http://iase.disa.mil/stigs/cci/Pages/index.aspx), 1.1.12 (https://benchmarks.cisecurity.org/tools2/linux/CIS_Red_Hat_Enterprise_Linux_7_Benchmark_v1.1.0.pdf), SRG-OS-000480-GPOS-00227 (http://iase.disa.mil/stigs/srgs/Pages/index.aspx)\", identifiers: \"\", oval-id: \"oval:ssg-partition_for_var_log_audit:def:1\", benchmark-id: \"xccdf_org.ssgproject.content_benchmark_RHEL-7\", profile-id: \"xccdf_org.ssgproject.content_profile_common\", profile-title: \"Common Profile for General-Purpose Systems\".                                                                                                                                                                                                                                                                                                                                                                                                                                                                                                                                                                                                                                                                                                                                                                                                                                                                                                                                                                                                                                                                                                                                                                                                                                                                                                                                                                                                                                                                                                                                                                                                                                                                                                                                                  \n",
              "200419  200419  ...  oscap: msg: \"xccdf-result\", scan-id: \"0001601964895\", content: \"ssg-centos-7-ds.xml\", title: \"Ensure /var/log/audit Located On Separate Partition\", id: \"xccdf_org.ssgproject.content_rule_partition_for_var_log_audit\", result: \"fail\", severity: \"low\", description: \"Audit logs are stored in the /var/log/audit directory. Ensure that it has its own partition or logical volume at installation time, or migrate it later using LVM. Make absolutely certain that it is large enough to store all audit logs that will be created by the auditing daemon.\", rationale: \"Placing /var/log/audit in its own partition enables better separation between audit files and other files, and helps ensure that auditing cannot be halted due to the partition running out of space.\" references: \"AU-4 (http://nvlpubs.nist.gov/nistpubs/SpecialPublications/NIST.SP.800-53r4.pdf), AU-9 (http://nvlpubs.nist.gov/nistpubs/SpecialPublications/NIST.SP.800-53r4.pdf), SC-32(1) (http://nvlpubs.nist.gov/nistpubs/SpecialPublications/NIST.SP.800-53r4.pdf), 366 (http://iase.disa.mil/stigs/cci/Pages/index.aspx), 1.1.12 (https://benchmarks.cisecurity.org/tools2/linux/CIS_Red_Hat_Enterprise_Linux_7_Benchmark_v1.1.0.pdf), SRG-OS-000480-GPOS-00227 (http://iase.disa.mil/stigs/srgs/Pages/index.aspx)\", identifiers: \"\", oval-id: \"oval:ssg-partition_for_var_log_audit:def:1\", benchmark-id: \"xccdf_org.ssgproject.content_benchmark_RHEL-7\", profile-id: \"xccdf_org.ssgproject.content_profile_common\", profile-title: \"Common Profile for General-Purpose Systems\".                                                                                                                                                                                                                                                                                                                                                                                                                                                                                                                                                                                                                                                                                                                                                                                                                                                                                                                                                                                                                                                                                                                                                                                                                                                                                                                                                                                                                                                                                                                                                                                                                                                                                                                                                  \n",
              "434089  434089  ...  Mar  8 15:37:51 localhost systemd: Unit kibana.service entered failed state.                                                                                                                                                                                                                                                                                                                                                                                                                                                                                                                                                                                                                                                                                                                                                                                                                                                                                                                                                                                                                                                                                                                                                                                                                                                                                                                                                                                                                                                                                                                                                                                                                                                                                                                                                                                                                                                                                                                                                                                                                                                                                                                                                                                                                                                                                                                                                                                                                                                                                                                                                                                                                                                                                                                                                                                                                                                                                                                                                                                                                                                                                                                                                                                                                                                  \n",
              "\n",
              "[35 rows x 3 columns]"
            ]
          },
          "metadata": {
            "tags": []
          },
          "execution_count": 81
        }
      ]
    },
    {
      "cell_type": "code",
      "metadata": {
        "colab": {
          "base_uri": "https://localhost:8080/",
          "height": 419
        },
        "id": "cJhkc64eSUaT",
        "outputId": "b3e4c508-e746-459a-be66-543d813d9e75"
      },
      "source": [
        "# level 1의 첫번째 단어만 출력\n",
        "level1_words = level1_log['full_log'].str.extract('^([^ ]+)(?: |$)')\n",
        "level1_words"
      ],
      "execution_count": null,
      "outputs": [
        {
          "output_type": "execute_result",
          "data": {
            "text/html": [
              "<div>\n",
              "<style scoped>\n",
              "    .dataframe tbody tr th:only-of-type {\n",
              "        vertical-align: middle;\n",
              "    }\n",
              "\n",
              "    .dataframe tbody tr th {\n",
              "        vertical-align: top;\n",
              "    }\n",
              "\n",
              "    .dataframe thead th {\n",
              "        text-align: right;\n",
              "    }\n",
              "</style>\n",
              "<table border=\"1\" class=\"dataframe\">\n",
              "  <thead>\n",
              "    <tr style=\"text-align: right;\">\n",
              "      <th></th>\n",
              "      <th>0</th>\n",
              "    </tr>\n",
              "  </thead>\n",
              "  <tbody>\n",
              "    <tr>\n",
              "      <th>4</th>\n",
              "      <td>type=SYSCALL</td>\n",
              "    </tr>\n",
              "    <tr>\n",
              "      <th>5</th>\n",
              "      <td>type=SYSCALL</td>\n",
              "    </tr>\n",
              "    <tr>\n",
              "      <th>10</th>\n",
              "      <td>type=SYSCALL</td>\n",
              "    </tr>\n",
              "    <tr>\n",
              "      <th>15</th>\n",
              "      <td>type=SYSCALL</td>\n",
              "    </tr>\n",
              "    <tr>\n",
              "      <th>22</th>\n",
              "      <td>type=SYSCALL</td>\n",
              "    </tr>\n",
              "    <tr>\n",
              "      <th>...</th>\n",
              "      <td>...</td>\n",
              "    </tr>\n",
              "    <tr>\n",
              "      <th>472948</th>\n",
              "      <td>Oct</td>\n",
              "    </tr>\n",
              "    <tr>\n",
              "      <th>472951</th>\n",
              "      <td>type=SYSCALL</td>\n",
              "    </tr>\n",
              "    <tr>\n",
              "      <th>472953</th>\n",
              "      <td>type=SYSCALL</td>\n",
              "    </tr>\n",
              "    <tr>\n",
              "      <th>472955</th>\n",
              "      <td>type=SYSCALL</td>\n",
              "    </tr>\n",
              "    <tr>\n",
              "      <th>472968</th>\n",
              "      <td>type=SYSCALL</td>\n",
              "    </tr>\n",
              "  </tbody>\n",
              "</table>\n",
              "<p>132517 rows × 1 columns</p>\n",
              "</div>"
            ],
            "text/plain": [
              "                   0\n",
              "4       type=SYSCALL\n",
              "5       type=SYSCALL\n",
              "10      type=SYSCALL\n",
              "15      type=SYSCALL\n",
              "22      type=SYSCALL\n",
              "...              ...\n",
              "472948  Oct         \n",
              "472951  type=SYSCALL\n",
              "472953  type=SYSCALL\n",
              "472955  type=SYSCALL\n",
              "472968  type=SYSCALL\n",
              "\n",
              "[132517 rows x 1 columns]"
            ]
          },
          "metadata": {
            "tags": []
          },
          "execution_count": 72
        }
      ]
    },
    {
      "cell_type": "code",
      "metadata": {
        "colab": {
          "base_uri": "https://localhost:8080/"
        },
        "id": "IOCfHxDYZFT7",
        "outputId": "32a64f84-f272-4dc9-8f7d-00e535790aa1"
      },
      "source": [
        "level1_words.value_counts()"
      ],
      "execution_count": null,
      "outputs": [
        {
          "output_type": "execute_result",
          "data": {
            "text/plain": [
              "type=SYSCALL     116496\n",
              "Jan              3019  \n",
              "Oct              2904  \n",
              "Nov              2646  \n",
              "Feb              2381  \n",
              "Dec              1498  \n",
              "System           820   \n",
              "Mar              804   \n",
              "Sep              799   \n",
              "level            736   \n",
              "type=AVC         369   \n",
              "ossec:           29    \n",
              "Windows          13    \n",
              "type=USER_AVC    3     \n",
              "dtype: int64"
            ]
          },
          "metadata": {
            "tags": []
          },
          "execution_count": 75
        }
      ]
    },
    {
      "cell_type": "code",
      "metadata": {
        "id": "ytCcRMTJZs1L"
      },
      "source": [
        "sample_df_log1 = pd.DataFrame(columns=['id', 'level', 'full_log'])\n",
        "\n",
        "for i in level1_words[0].unique():\n",
        "    if len(level1_log[level1_log['full_log'].str.contains(i)]) > 3:\n",
        "        temp_df = level1_log[level1_log['full_log'].str.contains(i)].sample(3)\n",
        "    else:\n",
        "        n = len(level1_log[level1_log['full_log'].str.contains(i)])\n",
        "        temp_df = level1_log[level1_log['full_log'].str.contains(i)].sample(n)\n",
        "    sample_df_log1 = pd.concat([sample_df_log1, temp_df])\n"
      ],
      "execution_count": null,
      "outputs": []
    },
    {
      "cell_type": "code",
      "metadata": {
        "colab": {
          "base_uri": "https://localhost:8080/",
          "height": 1000
        },
        "id": "VZEnoZ1CaCnT",
        "outputId": "16ec03eb-fea8-465b-a0d4-9aa6170aed46"
      },
      "source": [
        "sample_df_log1"
      ],
      "execution_count": null,
      "outputs": [
        {
          "output_type": "execute_result",
          "data": {
            "text/html": [
              "<div>\n",
              "<style scoped>\n",
              "    .dataframe tbody tr th:only-of-type {\n",
              "        vertical-align: middle;\n",
              "    }\n",
              "\n",
              "    .dataframe tbody tr th {\n",
              "        vertical-align: top;\n",
              "    }\n",
              "\n",
              "    .dataframe thead th {\n",
              "        text-align: right;\n",
              "    }\n",
              "</style>\n",
              "<table border=\"1\" class=\"dataframe\">\n",
              "  <thead>\n",
              "    <tr style=\"text-align: right;\">\n",
              "      <th></th>\n",
              "      <th>id</th>\n",
              "      <th>level</th>\n",
              "      <th>full_log</th>\n",
              "    </tr>\n",
              "  </thead>\n",
              "  <tbody>\n",
              "    <tr>\n",
              "      <th>71446</th>\n",
              "      <td>71446</td>\n",
              "      <td>1</td>\n",
              "      <td>type=SYSCALL msg=audit(1611889947.326:280774): arch=c000003e syscall=2 success=yes exit=8 a0=7f89fd9cc630 a1=0 a2=0 a3=65 items=1 ppid=1 pid=86518 auid=4294967295 uid=0 gid=980 euid=0 suid=0 fsuid=0 egid=980 sgid=980 fsgid=980 tty=(none) ses=4294967295 comm=\"ossec-syscheckd\" exe=\"/var/esild/bin/ossec-syscheckd\" subj=system_u:system_r:unconfined_service_t:s0 key=\"audit-wazuh-r\" type=CWD msg=audit(1611889947.326:280774):  cwd=\"/\" type=PATH msg=audit(1611889947.326:280774): item=0 name=\"/etc/vconsole.conf\" inode=33554502 dev=fd:00 mode=0100644 ouid=0 ogid=0 rdev=00:00 obj=system_u:object_r:locale_t:s0 objtype=NORMAL cap_fp=0000000000000000 cap_fi=0000000000000000 cap_fe=0 cap_fver=0 type=PROCTITLE msg=audit(1611889947.326:280774): proctitle=\"/var/esild/bin/ossec-syscheckd\"</td>\n",
              "    </tr>\n",
              "    <tr>\n",
              "      <th>258475</th>\n",
              "      <td>258475</td>\n",
              "      <td>1</td>\n",
              "      <td>type=SYSCALL msg=audit(1603146237.504:125117): arch=c000003e syscall=2 success=yes exit=3 a0=7f8d054cf5a4 a1=80000 a2=1 a3=7f8d056d54f8 items=1 ppid=18785 pid=18786 auid=4294967295 uid=0 gid=0 euid=0 suid=0 fsuid=0 egid=0 sgid=0 fsgid=0 tty=(none) ses=4294967295 comm=\"awk\" exe=\"/usr/bin/gawk\" subj=system_u:system_r:ksmtuned_t:s0 key=\"audit-wazuh-r\" type=CWD msg=audit(1603146237.504:125117):  cwd=\"/\" type=PATH msg=audit(1603146237.504:125117): item=0 name=\"/etc/ld.so.cache\" inode=69008420 dev=fd:00 mode=0100644 ouid=0 ogid=0 rdev=00:00 obj=unconfined_u:object_r:ld_so_cache_t:s0 objtype=NORMAL type=PROCTITLE msg=audit(1603146237.504:125117): proctitle=61776B002F5E284D656D467265657C427566666572737C436163686564293A2F207B66726565202B3D2024327D3B20454E44207B7072696E7420667265657D002F70726F632F6D656D696E666F</td>\n",
              "    </tr>\n",
              "    <tr>\n",
              "      <th>361381</th>\n",
              "      <td>361381</td>\n",
              "      <td>1</td>\n",
              "      <td>type=SYSCALL msg=audit(1603186801.640:180212): arch=c000003e syscall=59 success=yes exit=0 a0=5556a0e51016 a1=7ffd90290930 a2=5556a0e52da0 a3=8 items=2 ppid=28086 pid=28088 auid=0 uid=0 gid=0 euid=0 suid=0 fsuid=0 egid=0 sgid=0 fsgid=0 tty=(none) ses=226 comm=\"sh\" exe=\"/usr/bin/bash\" subj=system_u:system_r:system_cronjob_t:s0-s0:c0.c1023 key=\"audit-wazuh-x\" type=EXECVE msg=audit(1603186801.640:180212): argc=3 a0=\"/bin/sh\" a1=\"-c\" a2=2F7573722F6C696236342F73612F73613120312031 type=CWD msg=audit(1603186801.640:180212):  cwd=\"/root\" type=PATH msg=audit(1603186801.640:180212): item=0 name=\"/bin/sh\" inode=167140 dev=fd:00 mode=0100755 ouid=0 ogid=0 rdev=00:00 obj=system_u:object_r:shell_exec_t:s0 objtype=NORMAL type=PATH msg=audit(1603186801.640:180212): item=1 name=\"/lib64/ld-linux-x86-64.so.2\" inode=33774210 dev=fd:00 mode=0100755 ouid=0 ogid=0 rdev=00:00 obj=system_u:object_r:ld_so_t:s0 objtype=NORMAL type=PROCTITLE msg=audit(1603186801.640:180212): proctitle=2F62696E2F7368002D63002F7573722F6C696236342F73612F73613120312031</td>\n",
              "    </tr>\n",
              "    <tr>\n",
              "      <th>379154</th>\n",
              "      <td>379154</td>\n",
              "      <td>1</td>\n",
              "      <td>Dec 15 16:10:45 localhost sudo: pam_unix(sudo:session): session opened for user root by (uid=0)</td>\n",
              "    </tr>\n",
              "    <tr>\n",
              "      <th>228469</th>\n",
              "      <td>228469</td>\n",
              "      <td>1</td>\n",
              "      <td>Dec 15 16:10:44 localhost sudo:  apache : TTY=unknown ; PWD=/var/www/html/management ; USER=root ; COMMAND=/bin/cat /var/esild/ruleset/rules/0325-opensmtpd_rules.xml</td>\n",
              "    </tr>\n",
              "    <tr>\n",
              "      <th>437681</th>\n",
              "      <td>437681</td>\n",
              "      <td>1</td>\n",
              "      <td>Dec 15 16:54:52 localhost sudo: pam_unix(sudo:session): session opened for user root by (uid=0)</td>\n",
              "    </tr>\n",
              "    <tr>\n",
              "      <th>253972</th>\n",
              "      <td>253972</td>\n",
              "      <td>1</td>\n",
              "      <td>Nov 26 17:00:01 localhost sudo: pam_unix(sudo:session): session opened for user root by (uid=0)</td>\n",
              "    </tr>\n",
              "    <tr>\n",
              "      <th>12916</th>\n",
              "      <td>12916</td>\n",
              "      <td>1</td>\n",
              "      <td>Nov 28 04:00:01 localhost sudo:    root : TTY=unknown ; PWD=/root ; USER=root ; COMMAND=/var/esild/bin/ossec-control restart</td>\n",
              "    </tr>\n",
              "    <tr>\n",
              "      <th>402461</th>\n",
              "      <td>402461</td>\n",
              "      <td>1</td>\n",
              "      <td>Nov 10 16:00:01 localhost sudo: pam_unix(sudo:session): session opened for user root by (uid=0)</td>\n",
              "    </tr>\n",
              "    <tr>\n",
              "      <th>321809</th>\n",
              "      <td>321809</td>\n",
              "      <td>1</td>\n",
              "      <td>Oct 13 18:00:01 localhost sudo:    root : TTY=unknown ; PWD=/root ; USER=root ; COMMAND=/bin/ping -c 3 192.168.0.0</td>\n",
              "    </tr>\n",
              "    <tr>\n",
              "      <th>97690</th>\n",
              "      <td>97690</td>\n",
              "      <td>1</td>\n",
              "      <td>Oct 14 15:10:03 localhost sudo: pam_unix(sudo:session): session opened for user root by (uid=0)</td>\n",
              "    </tr>\n",
              "    <tr>\n",
              "      <th>332632</th>\n",
              "      <td>332632</td>\n",
              "      <td>1</td>\n",
              "      <td>Oct 14 15:10:02 localhost sudo: pam_unix(sudo:session): session closed for user root</td>\n",
              "    </tr>\n",
              "    <tr>\n",
              "      <th>421097</th>\n",
              "      <td>421097</td>\n",
              "      <td>1</td>\n",
              "      <td>type=AVC msg=audit(1600397194.777:3697): avc:  denied  { name_connect } for  pid=4011 comm=\"httpd\" dest=9200 scontext=system_u:system_r:httpd_t:s0 tcontext=system_u:object_r:wap_wsp_port_t:s0 tclass=tcp_socket permissive=1 type=SYSCALL msg=audit(1600397194.777:3697): arch=c000003e syscall=42 success=no exit=-115 a0=14 a1=7f844d7ef190 a2=1c a3=a items=0 ppid=4007 pid=4011 auid=4294967295 uid=48 gid=48 euid=48 suid=48 fsuid=48 egid=48 sgid=48 fsgid=48 tty=(none) ses=4294967295 comm=\"httpd\" exe=\"/usr/sbin/httpd\" subj=system_u:system_r:httpd_t:s0 key=(null) type=PROCTITLE msg=audit(1600397194.777:3697): proctitle=2F7573722F7362696E2F6874747064002D44464F524547524F554E44</td>\n",
              "    </tr>\n",
              "    <tr>\n",
              "      <th>109718</th>\n",
              "      <td>109718</td>\n",
              "      <td>1</td>\n",
              "      <td>type=AVC msg=audit(1605501036.374:2619): avc:  denied  { name_connect } for  pid=21565 comm=\"httpd\" dest=9200 scontext=system_u:system_r:httpd_t:s0 tcontext=system_u:object_r:wap_wsp_port_t:s0 tclass=tcp_socket permissive=1 type=SYSCALL msg=audit(1605501036.374:2619): arch=c000003e syscall=42 success=no exit=-115 a0=15 a1=7fa6567f1190 a2=1c a3=a items=0 ppid=1471 pid=21565 auid=4294967295 uid=48 gid=48 euid=48 suid=48 fsuid=48 egid=48 sgid=48 fsgid=48 tty=(none) ses=4294967295 comm=\"httpd\" exe=\"/usr/sbin/httpd\" subj=system_u:system_r:httpd_t:s0 key=(null) type=PROCTITLE msg=audit(1605501036.374:2619): proctitle=2F7573722F7362696E2F6874747064002D44464F524547524F554E44</td>\n",
              "    </tr>\n",
              "    <tr>\n",
              "      <th>268183</th>\n",
              "      <td>268183</td>\n",
              "      <td>1</td>\n",
              "      <td>type=AVC msg=audit(1608013681.562:143027): avc:  denied  { name_connect } for  pid=28524 comm=\"httpd\" dest=9200 scontext=system_u:system_r:httpd_t:s0 tcontext=system_u:object_r:wap_wsp_port_t:s0 tclass=tcp_socket permissive=1 type=SYSCALL msg=audit(1608013681.562:143027): arch=c000003e syscall=42 success=no exit=-115 a0=15 a1=7f923cff6190 a2=1c a3=a items=0 ppid=1270 pid=28524 auid=4294967295 uid=48 gid=48 euid=48 suid=48 fsuid=48 egid=48 sgid=48 fsgid=48 tty=(none) ses=4294967295 comm=\"httpd\" exe=\"/usr/sbin/httpd\" subj=system_u:system_r:httpd_t:s0 key=(null) type=PROCTITLE msg=audit(1608013681.562:143027): proctitle=2F7573722F7362696E2F6874747064002D44464F524547524F554E44</td>\n",
              "    </tr>\n",
              "    <tr>\n",
              "      <th>438140</th>\n",
              "      <td>438140</td>\n",
              "      <td>1</td>\n",
              "      <td>Jan 25 14:25:51 localhost sudo: pam_unix(sudo:session): session closed for user root</td>\n",
              "    </tr>\n",
              "    <tr>\n",
              "      <th>71036</th>\n",
              "      <td>71036</td>\n",
              "      <td>1</td>\n",
              "      <td>Jan  8 14:55:21 localhost sudo: pam_unix(sudo:session): session opened for user root by (uid=0)</td>\n",
              "    </tr>\n",
              "    <tr>\n",
              "      <th>458657</th>\n",
              "      <td>458657</td>\n",
              "      <td>1</td>\n",
              "      <td>Jan  7 07:00:02 localhost sudo: pam_unix(sudo:session): session opened for user root by (uid=0)</td>\n",
              "    </tr>\n",
              "    <tr>\n",
              "      <th>138815</th>\n",
              "      <td>138815</td>\n",
              "      <td>1</td>\n",
              "      <td>Mar  4 14:00:01 localhost sudo: pam_unix(sudo:session): session opened for user root by (uid=0)</td>\n",
              "    </tr>\n",
              "    <tr>\n",
              "      <th>23645</th>\n",
              "      <td>23645</td>\n",
              "      <td>1</td>\n",
              "      <td>Mar  6 16:00:01 localhost sudo: pam_unix(sudo:session): session closed for user root</td>\n",
              "    </tr>\n",
              "    <tr>\n",
              "      <th>166479</th>\n",
              "      <td>166479</td>\n",
              "      <td>1</td>\n",
              "      <td>Mar  4 13:00:02 localhost sudo: pam_unix(sudo:session): session opened for user root by (uid=0)</td>\n",
              "    </tr>\n",
              "    <tr>\n",
              "      <th>422630</th>\n",
              "      <td>422630</td>\n",
              "      <td>1</td>\n",
              "      <td>System Audit: CIS - RHEL7 - Build considerations - Robust partition scheme - /var is not on its own partition {CIS: 1.1.5 RHEL7}. File: /etc/fstab. Reference: https://benchmarks.cisecurity.org/tools2/linux/CIS_Red_Hat_Enterprise_Linux_7_Benchmark_v1.1.0.pdf .</td>\n",
              "    </tr>\n",
              "    <tr>\n",
              "      <th>287048</th>\n",
              "      <td>287048</td>\n",
              "      <td>1</td>\n",
              "      <td>System Audit: CIS - RHEL7 - 6.2.9 - SSH Configuration - Empty passwords permitted {CIS: 6.2.9 RHEL7} {PCI_DSS: 4.1}. File: /etc/ssh/sshd_config. Reference: https://benchmarks.cisecurity.org/tools2/linux/CIS_Red_Hat_Enterprise_Linux_7_Benchmark_v1.1.0.pdf .</td>\n",
              "    </tr>\n",
              "    <tr>\n",
              "      <th>20779</th>\n",
              "      <td>20779</td>\n",
              "      <td>1</td>\n",
              "      <td>System Audit: SSH Hardening - 5: Password Authentication {PCI_DSS: 2.2.4}. File: /etc/ssh/sshd_config. Reference: 5 .</td>\n",
              "    </tr>\n",
              "    <tr>\n",
              "      <th>272410</th>\n",
              "      <td>272410</td>\n",
              "      <td>1</td>\n",
              "      <td>Feb  7 16:00:01 localhost sudo:    root : TTY=unknown ; PWD=/root ; USER=root ; COMMAND=/bin/ping -c 3 192.168.0.0</td>\n",
              "    </tr>\n",
              "    <tr>\n",
              "      <th>136309</th>\n",
              "      <td>136309</td>\n",
              "      <td>1</td>\n",
              "      <td>Feb  2 21:00:01 localhost sudo:    root : TTY=unknown ; PWD=/root ; USER=root ; COMMAND=/bin/cat /var/esild/etc/ossec.conf</td>\n",
              "    </tr>\n",
              "    <tr>\n",
              "      <th>419128</th>\n",
              "      <td>419128</td>\n",
              "      <td>1</td>\n",
              "      <td>Feb  3 17:00:01 localhost sudo: pam_unix(sudo:session): session opened for user root by (uid=0)</td>\n",
              "    </tr>\n",
              "    <tr>\n",
              "      <th>309302</th>\n",
              "      <td>309302</td>\n",
              "      <td>1</td>\n",
              "      <td>Sep 25 08:00:01 localhost sudo:    root : TTY=unknown ; PWD=/root ; USER=root ; COMMAND=/var/esild/bin/ossec-control status</td>\n",
              "    </tr>\n",
              "    <tr>\n",
              "      <th>337964</th>\n",
              "      <td>337964</td>\n",
              "      <td>1</td>\n",
              "      <td>Sep 20 02:00:02 localhost sudo: pam_unix(sudo:session): session opened for user root by (uid=0)</td>\n",
              "    </tr>\n",
              "    <tr>\n",
              "      <th>146175</th>\n",
              "      <td>146175</td>\n",
              "      <td>1</td>\n",
              "      <td>Sep 28 17:00:18 localhost sudo: pam_unix(sudo:session): session closed for user root</td>\n",
              "    </tr>\n",
              "    <tr>\n",
              "      <th>220049</th>\n",
              "      <td>220049</td>\n",
              "      <td>1</td>\n",
              "      <td>level : 3, log : User 'username' used NETCONF client to run command 'command'</td>\n",
              "    </tr>\n",
              "    <tr>\n",
              "      <th>114008</th>\n",
              "      <td>114008</td>\n",
              "      <td>1</td>\n",
              "      <td>level : 3, log : Unable to apply scheduler map scheduler-map to interface interface-name: sum of scheduler transmission rates exceeds interface shaping or transmission rate</td>\n",
              "    </tr>\n",
              "    <tr>\n",
              "      <th>339619</th>\n",
              "      <td>339619</td>\n",
              "      <td>1</td>\n",
              "      <td>level : 3, log : Unable to fork task-name: error-message</td>\n",
              "    </tr>\n",
              "    <tr>\n",
              "      <th>145433</th>\n",
              "      <td>145433</td>\n",
              "      <td>1</td>\n",
              "      <td>Windows Audit: Null sessions allowed {PCI_DSS: 11.4}.</td>\n",
              "    </tr>\n",
              "    <tr>\n",
              "      <th>318658</th>\n",
              "      <td>318658</td>\n",
              "      <td>1</td>\n",
              "      <td>Windows Audit: Null sessions allowed {PCI_DSS: 11.4}.</td>\n",
              "    </tr>\n",
              "    <tr>\n",
              "      <th>445988</th>\n",
              "      <td>445988</td>\n",
              "      <td>1</td>\n",
              "      <td>ossec: Agent started: 'Windows10-&gt;192.168.0.190'.</td>\n",
              "    </tr>\n",
              "    <tr>\n",
              "      <th>10516</th>\n",
              "      <td>10516</td>\n",
              "      <td>1</td>\n",
              "      <td>type=USER_AVC msg=audit(1603070359.442:167): pid=820 uid=81 auid=4294967295 ses=4294967295 subj=system_u:system_r:system_dbusd_t:s0-s0:c0.c1023 msg='avc:  denied  { send_msg } for msgtype=method_return dest=:1.69 spid=815 tpid=7464 scontext=system_u:system_r:systemd_logind_t:s0 tcontext=system_u:system_r:httpd_t:s0 tclass=dbus  exe=\"/usr/bin/dbus-daemon\" sauid=81 hostname=? addr=? terminal=?'</td>\n",
              "    </tr>\n",
              "    <tr>\n",
              "      <th>110767</th>\n",
              "      <td>110767</td>\n",
              "      <td>1</td>\n",
              "      <td>type=USER_AVC msg=audit(1605233330.597:600): pid=831 uid=81 auid=4294967295 ses=4294967295 subj=system_u:system_r:system_dbusd_t:s0-s0:c0.c1023 msg='avc:  denied  { send_msg } for msgtype=method_return dest=:1.187 spid=890 tpid=10423 scontext=system_u:system_r:systemd_logind_t:s0 tcontext=system_u:system_r:httpd_t:s0 tclass=dbus  exe=\"/usr/bin/dbus-daemon\" sauid=81 hostname=? addr=? terminal=?'</td>\n",
              "    </tr>\n",
              "    <tr>\n",
              "      <th>339998</th>\n",
              "      <td>339998</td>\n",
              "      <td>1</td>\n",
              "      <td>type=USER_AVC msg=audit(1613363937.137:2481): pid=813 uid=81 auid=4294967295 ses=4294967295 subj=system_u:system_r:system_dbusd_t:s0-s0:c0.c1023 msg='avc:  denied  { send_msg } for msgtype=method_call interface=org.freedesktop.login1.Manager member=CreateSession dest=org.freedesktop.login1 spid=30614 tpid=860 scontext=system_u:system_r:httpd_t:s0 tcontext=system_u:system_r:systemd_logind_t:s0 tclass=dbus  exe=\"/usr/bin/dbus-daemon\" sauid=81 hostname=? addr=? terminal=?'</td>\n",
              "    </tr>\n",
              "    <tr>\n",
              "      <th>326077</th>\n",
              "      <td>326077</td>\n",
              "      <td>1</td>\n",
              "      <td>ossec: File rotated (inode changed): '/var/log/secure'.</td>\n",
              "    </tr>\n",
              "    <tr>\n",
              "      <th>17817</th>\n",
              "      <td>17817</td>\n",
              "      <td>1</td>\n",
              "      <td>ossec: File rotated (inode changed): '/var/log/audit/audit.log'.</td>\n",
              "    </tr>\n",
              "    <tr>\n",
              "      <th>261631</th>\n",
              "      <td>261631</td>\n",
              "      <td>1</td>\n",
              "      <td>ossec: File rotated (inode changed): '/var/log/suricata/eve.json'.</td>\n",
              "    </tr>\n",
              "  </tbody>\n",
              "</table>\n",
              "</div>"
            ],
            "text/plain": [
              "            id  ...                                                                                                                                                                                                                                                                                                                                                                                                                                                                                                                                                                                                                                                                                                                                                                                                                                                                                                                                                                                                                                                                      full_log\n",
              "71446   71446   ...  type=SYSCALL msg=audit(1611889947.326:280774): arch=c000003e syscall=2 success=yes exit=8 a0=7f89fd9cc630 a1=0 a2=0 a3=65 items=1 ppid=1 pid=86518 auid=4294967295 uid=0 gid=980 euid=0 suid=0 fsuid=0 egid=980 sgid=980 fsgid=980 tty=(none) ses=4294967295 comm=\"ossec-syscheckd\" exe=\"/var/esild/bin/ossec-syscheckd\" subj=system_u:system_r:unconfined_service_t:s0 key=\"audit-wazuh-r\" type=CWD msg=audit(1611889947.326:280774):  cwd=\"/\" type=PATH msg=audit(1611889947.326:280774): item=0 name=\"/etc/vconsole.conf\" inode=33554502 dev=fd:00 mode=0100644 ouid=0 ogid=0 rdev=00:00 obj=system_u:object_r:locale_t:s0 objtype=NORMAL cap_fp=0000000000000000 cap_fi=0000000000000000 cap_fe=0 cap_fver=0 type=PROCTITLE msg=audit(1611889947.326:280774): proctitle=\"/var/esild/bin/ossec-syscheckd\"                                                                                                                                                                                                                                                                \n",
              "258475  258475  ...  type=SYSCALL msg=audit(1603146237.504:125117): arch=c000003e syscall=2 success=yes exit=3 a0=7f8d054cf5a4 a1=80000 a2=1 a3=7f8d056d54f8 items=1 ppid=18785 pid=18786 auid=4294967295 uid=0 gid=0 euid=0 suid=0 fsuid=0 egid=0 sgid=0 fsgid=0 tty=(none) ses=4294967295 comm=\"awk\" exe=\"/usr/bin/gawk\" subj=system_u:system_r:ksmtuned_t:s0 key=\"audit-wazuh-r\" type=CWD msg=audit(1603146237.504:125117):  cwd=\"/\" type=PATH msg=audit(1603146237.504:125117): item=0 name=\"/etc/ld.so.cache\" inode=69008420 dev=fd:00 mode=0100644 ouid=0 ogid=0 rdev=00:00 obj=unconfined_u:object_r:ld_so_cache_t:s0 objtype=NORMAL type=PROCTITLE msg=audit(1603146237.504:125117): proctitle=61776B002F5E284D656D467265657C427566666572737C436163686564293A2F207B66726565202B3D2024327D3B20454E44207B7072696E7420667265657D002F70726F632F6D656D696E666F                                                                                                                                                                                                                                \n",
              "361381  361381  ...  type=SYSCALL msg=audit(1603186801.640:180212): arch=c000003e syscall=59 success=yes exit=0 a0=5556a0e51016 a1=7ffd90290930 a2=5556a0e52da0 a3=8 items=2 ppid=28086 pid=28088 auid=0 uid=0 gid=0 euid=0 suid=0 fsuid=0 egid=0 sgid=0 fsgid=0 tty=(none) ses=226 comm=\"sh\" exe=\"/usr/bin/bash\" subj=system_u:system_r:system_cronjob_t:s0-s0:c0.c1023 key=\"audit-wazuh-x\" type=EXECVE msg=audit(1603186801.640:180212): argc=3 a0=\"/bin/sh\" a1=\"-c\" a2=2F7573722F6C696236342F73612F73613120312031 type=CWD msg=audit(1603186801.640:180212):  cwd=\"/root\" type=PATH msg=audit(1603186801.640:180212): item=0 name=\"/bin/sh\" inode=167140 dev=fd:00 mode=0100755 ouid=0 ogid=0 rdev=00:00 obj=system_u:object_r:shell_exec_t:s0 objtype=NORMAL type=PATH msg=audit(1603186801.640:180212): item=1 name=\"/lib64/ld-linux-x86-64.so.2\" inode=33774210 dev=fd:00 mode=0100755 ouid=0 ogid=0 rdev=00:00 obj=system_u:object_r:ld_so_t:s0 objtype=NORMAL type=PROCTITLE msg=audit(1603186801.640:180212): proctitle=2F62696E2F7368002D63002F7573722F6C696236342F73612F73613120312031\n",
              "379154  379154  ...  Dec 15 16:10:45 localhost sudo: pam_unix(sudo:session): session opened for user root by (uid=0)                                                                                                                                                                                                                                                                                                                                                                                                                                                                                                                                                                                                                                                                                                                                                                                                                                                                                                                                                                             \n",
              "228469  228469  ...  Dec 15 16:10:44 localhost sudo:  apache : TTY=unknown ; PWD=/var/www/html/management ; USER=root ; COMMAND=/bin/cat /var/esild/ruleset/rules/0325-opensmtpd_rules.xml                                                                                                                                                                                                                                                                                                                                                                                                                                                                                                                                                                                                                                                                                                                                                                                                                                                                                                       \n",
              "437681  437681  ...  Dec 15 16:54:52 localhost sudo: pam_unix(sudo:session): session opened for user root by (uid=0)                                                                                                                                                                                                                                                                                                                                                                                                                                                                                                                                                                                                                                                                                                                                                                                                                                                                                                                                                                             \n",
              "253972  253972  ...  Nov 26 17:00:01 localhost sudo: pam_unix(sudo:session): session opened for user root by (uid=0)                                                                                                                                                                                                                                                                                                                                                                                                                                                                                                                                                                                                                                                                                                                                                                                                                                                                                                                                                                             \n",
              "12916   12916   ...  Nov 28 04:00:01 localhost sudo:    root : TTY=unknown ; PWD=/root ; USER=root ; COMMAND=/var/esild/bin/ossec-control restart                                                                                                                                                                                                                                                                                                                                                                                                                                                                                                                                                                                                                                                                                                                                                                                                                                                                                                                                                \n",
              "402461  402461  ...  Nov 10 16:00:01 localhost sudo: pam_unix(sudo:session): session opened for user root by (uid=0)                                                                                                                                                                                                                                                                                                                                                                                                                                                                                                                                                                                                                                                                                                                                                                                                                                                                                                                                                                             \n",
              "321809  321809  ...  Oct 13 18:00:01 localhost sudo:    root : TTY=unknown ; PWD=/root ; USER=root ; COMMAND=/bin/ping -c 3 192.168.0.0                                                                                                                                                                                                                                                                                                                                                                                                                                                                                                                                                                                                                                                                                                                                                                                                                                                                                                                                                          \n",
              "97690   97690   ...  Oct 14 15:10:03 localhost sudo: pam_unix(sudo:session): session opened for user root by (uid=0)                                                                                                                                                                                                                                                                                                                                                                                                                                                                                                                                                                                                                                                                                                                                                                                                                                                                                                                                                                             \n",
              "332632  332632  ...  Oct 14 15:10:02 localhost sudo: pam_unix(sudo:session): session closed for user root                                                                                                                                                                                                                                                                                                                                                                                                                                                                                                                                                                                                                                                                                                                                                                                                                                                                                                                                                                                        \n",
              "421097  421097  ...  type=AVC msg=audit(1600397194.777:3697): avc:  denied  { name_connect } for  pid=4011 comm=\"httpd\" dest=9200 scontext=system_u:system_r:httpd_t:s0 tcontext=system_u:object_r:wap_wsp_port_t:s0 tclass=tcp_socket permissive=1 type=SYSCALL msg=audit(1600397194.777:3697): arch=c000003e syscall=42 success=no exit=-115 a0=14 a1=7f844d7ef190 a2=1c a3=a items=0 ppid=4007 pid=4011 auid=4294967295 uid=48 gid=48 euid=48 suid=48 fsuid=48 egid=48 sgid=48 fsgid=48 tty=(none) ses=4294967295 comm=\"httpd\" exe=\"/usr/sbin/httpd\" subj=system_u:system_r:httpd_t:s0 key=(null) type=PROCTITLE msg=audit(1600397194.777:3697): proctitle=2F7573722F7362696E2F6874747064002D44464F524547524F554E44                                                                                                                                                                                                                                                                                                                                                                           \n",
              "109718  109718  ...  type=AVC msg=audit(1605501036.374:2619): avc:  denied  { name_connect } for  pid=21565 comm=\"httpd\" dest=9200 scontext=system_u:system_r:httpd_t:s0 tcontext=system_u:object_r:wap_wsp_port_t:s0 tclass=tcp_socket permissive=1 type=SYSCALL msg=audit(1605501036.374:2619): arch=c000003e syscall=42 success=no exit=-115 a0=15 a1=7fa6567f1190 a2=1c a3=a items=0 ppid=1471 pid=21565 auid=4294967295 uid=48 gid=48 euid=48 suid=48 fsuid=48 egid=48 sgid=48 fsgid=48 tty=(none) ses=4294967295 comm=\"httpd\" exe=\"/usr/sbin/httpd\" subj=system_u:system_r:httpd_t:s0 key=(null) type=PROCTITLE msg=audit(1605501036.374:2619): proctitle=2F7573722F7362696E2F6874747064002D44464F524547524F554E44                                                                                                                                                                                                                                                                                                                                                                         \n",
              "268183  268183  ...  type=AVC msg=audit(1608013681.562:143027): avc:  denied  { name_connect } for  pid=28524 comm=\"httpd\" dest=9200 scontext=system_u:system_r:httpd_t:s0 tcontext=system_u:object_r:wap_wsp_port_t:s0 tclass=tcp_socket permissive=1 type=SYSCALL msg=audit(1608013681.562:143027): arch=c000003e syscall=42 success=no exit=-115 a0=15 a1=7f923cff6190 a2=1c a3=a items=0 ppid=1270 pid=28524 auid=4294967295 uid=48 gid=48 euid=48 suid=48 fsuid=48 egid=48 sgid=48 fsgid=48 tty=(none) ses=4294967295 comm=\"httpd\" exe=\"/usr/sbin/httpd\" subj=system_u:system_r:httpd_t:s0 key=(null) type=PROCTITLE msg=audit(1608013681.562:143027): proctitle=2F7573722F7362696E2F6874747064002D44464F524547524F554E44                                                                                                                                                                                                                                                                                                                                                                   \n",
              "438140  438140  ...  Jan 25 14:25:51 localhost sudo: pam_unix(sudo:session): session closed for user root                                                                                                                                                                                                                                                                                                                                                                                                                                                                                                                                                                                                                                                                                                                                                                                                                                                                                                                                                                                        \n",
              "71036   71036   ...  Jan  8 14:55:21 localhost sudo: pam_unix(sudo:session): session opened for user root by (uid=0)                                                                                                                                                                                                                                                                                                                                                                                                                                                                                                                                                                                                                                                                                                                                                                                                                                                                                                                                                                             \n",
              "458657  458657  ...  Jan  7 07:00:02 localhost sudo: pam_unix(sudo:session): session opened for user root by (uid=0)                                                                                                                                                                                                                                                                                                                                                                                                                                                                                                                                                                                                                                                                                                                                                                                                                                                                                                                                                                             \n",
              "138815  138815  ...  Mar  4 14:00:01 localhost sudo: pam_unix(sudo:session): session opened for user root by (uid=0)                                                                                                                                                                                                                                                                                                                                                                                                                                                                                                                                                                                                                                                                                                                                                                                                                                                                                                                                                                             \n",
              "23645   23645   ...  Mar  6 16:00:01 localhost sudo: pam_unix(sudo:session): session closed for user root                                                                                                                                                                                                                                                                                                                                                                                                                                                                                                                                                                                                                                                                                                                                                                                                                                                                                                                                                                                        \n",
              "166479  166479  ...  Mar  4 13:00:02 localhost sudo: pam_unix(sudo:session): session opened for user root by (uid=0)                                                                                                                                                                                                                                                                                                                                                                                                                                                                                                                                                                                                                                                                                                                                                                                                                                                                                                                                                                             \n",
              "422630  422630  ...  System Audit: CIS - RHEL7 - Build considerations - Robust partition scheme - /var is not on its own partition {CIS: 1.1.5 RHEL7}. File: /etc/fstab. Reference: https://benchmarks.cisecurity.org/tools2/linux/CIS_Red_Hat_Enterprise_Linux_7_Benchmark_v1.1.0.pdf .                                                                                                                                                                                                                                                                                                                                                                                                                                                                                                                                                                                                                                                                                                                                                                                                         \n",
              "287048  287048  ...  System Audit: CIS - RHEL7 - 6.2.9 - SSH Configuration - Empty passwords permitted {CIS: 6.2.9 RHEL7} {PCI_DSS: 4.1}. File: /etc/ssh/sshd_config. Reference: https://benchmarks.cisecurity.org/tools2/linux/CIS_Red_Hat_Enterprise_Linux_7_Benchmark_v1.1.0.pdf .                                                                                                                                                                                                                                                                                                                                                                                                                                                                                                                                                                                                                                                                                                                                                                                                            \n",
              "20779   20779   ...  System Audit: SSH Hardening - 5: Password Authentication {PCI_DSS: 2.2.4}. File: /etc/ssh/sshd_config. Reference: 5 .                                                                                                                                                                                                                                                                                                                                                                                                                                                                                                                                                                                                                                                                                                                                                                                                                                                                                                                                                       \n",
              "272410  272410  ...  Feb  7 16:00:01 localhost sudo:    root : TTY=unknown ; PWD=/root ; USER=root ; COMMAND=/bin/ping -c 3 192.168.0.0                                                                                                                                                                                                                                                                                                                                                                                                                                                                                                                                                                                                                                                                                                                                                                                                                                                                                                                                                          \n",
              "136309  136309  ...  Feb  2 21:00:01 localhost sudo:    root : TTY=unknown ; PWD=/root ; USER=root ; COMMAND=/bin/cat /var/esild/etc/ossec.conf                                                                                                                                                                                                                                                                                                                                                                                                                                                                                                                                                                                                                                                                                                                                                                                                                                                                                                                                                  \n",
              "419128  419128  ...  Feb  3 17:00:01 localhost sudo: pam_unix(sudo:session): session opened for user root by (uid=0)                                                                                                                                                                                                                                                                                                                                                                                                                                                                                                                                                                                                                                                                                                                                                                                                                                                                                                                                                                             \n",
              "309302  309302  ...  Sep 25 08:00:01 localhost sudo:    root : TTY=unknown ; PWD=/root ; USER=root ; COMMAND=/var/esild/bin/ossec-control status                                                                                                                                                                                                                                                                                                                                                                                                                                                                                                                                                                                                                                                                                                                                                                                                                                                                                                                                                 \n",
              "337964  337964  ...  Sep 20 02:00:02 localhost sudo: pam_unix(sudo:session): session opened for user root by (uid=0)                                                                                                                                                                                                                                                                                                                                                                                                                                                                                                                                                                                                                                                                                                                                                                                                                                                                                                                                                                             \n",
              "146175  146175  ...  Sep 28 17:00:18 localhost sudo: pam_unix(sudo:session): session closed for user root                                                                                                                                                                                                                                                                                                                                                                                                                                                                                                                                                                                                                                                                                                                                                                                                                                                                                                                                                                                        \n",
              "220049  220049  ...  level : 3, log : User 'username' used NETCONF client to run command 'command'                                                                                                                                                                                                                                                                                                                                                                                                                                                                                                                                                                                                                                                                                                                                                                                                                                                                                                                                                                                               \n",
              "114008  114008  ...  level : 3, log : Unable to apply scheduler map scheduler-map to interface interface-name: sum of scheduler transmission rates exceeds interface shaping or transmission rate                                                                                                                                                                                                                                                                                                                                                                                                                                                                                                                                                                                                                                                                                                                                                                                                                                                                                                \n",
              "339619  339619  ...  level : 3, log : Unable to fork task-name: error-message                                                                                                                                                                                                                                                                                                                                                                                                                                                                                                                                                                                                                                                                                                                                                                                                                                                                                                                                                                                                                    \n",
              "145433  145433  ...  Windows Audit: Null sessions allowed {PCI_DSS: 11.4}.                                                                                                                                                                                                                                                                                                                                                                                                                                                                                                                                                                                                                                                                                                                                                                                                                                                                                                                                                                                                                       \n",
              "318658  318658  ...  Windows Audit: Null sessions allowed {PCI_DSS: 11.4}.                                                                                                                                                                                                                                                                                                                                                                                                                                                                                                                                                                                                                                                                                                                                                                                                                                                                                                                                                                                                                       \n",
              "445988  445988  ...  ossec: Agent started: 'Windows10->192.168.0.190'.                                                                                                                                                                                                                                                                                                                                                                                                                                                                                                                                                                                                                                                                                                                                                                                                                                                                                                                                                                                                                           \n",
              "10516   10516   ...  type=USER_AVC msg=audit(1603070359.442:167): pid=820 uid=81 auid=4294967295 ses=4294967295 subj=system_u:system_r:system_dbusd_t:s0-s0:c0.c1023 msg='avc:  denied  { send_msg } for msgtype=method_return dest=:1.69 spid=815 tpid=7464 scontext=system_u:system_r:systemd_logind_t:s0 tcontext=system_u:system_r:httpd_t:s0 tclass=dbus  exe=\"/usr/bin/dbus-daemon\" sauid=81 hostname=? addr=? terminal=?'                                                                                                                                                                                                                                                                                                                                                                                                                                                                                                                                                                                                                                                                 \n",
              "110767  110767  ...  type=USER_AVC msg=audit(1605233330.597:600): pid=831 uid=81 auid=4294967295 ses=4294967295 subj=system_u:system_r:system_dbusd_t:s0-s0:c0.c1023 msg='avc:  denied  { send_msg } for msgtype=method_return dest=:1.187 spid=890 tpid=10423 scontext=system_u:system_r:systemd_logind_t:s0 tcontext=system_u:system_r:httpd_t:s0 tclass=dbus  exe=\"/usr/bin/dbus-daemon\" sauid=81 hostname=? addr=? terminal=?'                                                                                                                                                                                                                                                                                                                                                                                                                                                                                                                                                                                                                                                               \n",
              "339998  339998  ...  type=USER_AVC msg=audit(1613363937.137:2481): pid=813 uid=81 auid=4294967295 ses=4294967295 subj=system_u:system_r:system_dbusd_t:s0-s0:c0.c1023 msg='avc:  denied  { send_msg } for msgtype=method_call interface=org.freedesktop.login1.Manager member=CreateSession dest=org.freedesktop.login1 spid=30614 tpid=860 scontext=system_u:system_r:httpd_t:s0 tcontext=system_u:system_r:systemd_logind_t:s0 tclass=dbus  exe=\"/usr/bin/dbus-daemon\" sauid=81 hostname=? addr=? terminal=?'                                                                                                                                                                                                                                                                                                                                                                                                                                                                                                                                                                                  \n",
              "326077  326077  ...  ossec: File rotated (inode changed): '/var/log/secure'.                                                                                                                                                                                                                                                                                                                                                                                                                                                                                                                                                                                                                                                                                                                                                                                                                                                                                                                                                                                                                     \n",
              "17817   17817   ...  ossec: File rotated (inode changed): '/var/log/audit/audit.log'.                                                                                                                                                                                                                                                                                                                                                                                                                                                                                                                                                                                                                                                                                                                                                                                                                                                                                                                                                                                                            \n",
              "261631  261631  ...  ossec: File rotated (inode changed): '/var/log/suricata/eve.json'.                                                                                                                                                                                                                                                                                                                                                                                                                                                                                                                                                                                                                                                                                                                                                                                                                                                                                                                                                                                                          \n",
              "\n",
              "[42 rows x 3 columns]"
            ]
          },
          "metadata": {
            "tags": []
          },
          "execution_count": 83
        }
      ]
    },
    {
      "cell_type": "code",
      "metadata": {
        "colab": {
          "base_uri": "https://localhost:8080/",
          "height": 419
        },
        "id": "FLWJGTV1Y1fY",
        "outputId": "fc9cf749-de17-44a0-8918-ac043edcdad7"
      },
      "source": [
        "# level 0의 첫번째 단어만 출력\n",
        "level0_words = level0_log['full_log'].str.extract('^([^ ]+)(?: |$)')\n",
        "level0_words"
      ],
      "execution_count": null,
      "outputs": [
        {
          "output_type": "execute_result",
          "data": {
            "text/html": [
              "<div>\n",
              "<style scoped>\n",
              "    .dataframe tbody tr th:only-of-type {\n",
              "        vertical-align: middle;\n",
              "    }\n",
              "\n",
              "    .dataframe tbody tr th {\n",
              "        vertical-align: top;\n",
              "    }\n",
              "\n",
              "    .dataframe thead th {\n",
              "        text-align: right;\n",
              "    }\n",
              "</style>\n",
              "<table border=\"1\" class=\"dataframe\">\n",
              "  <thead>\n",
              "    <tr style=\"text-align: right;\">\n",
              "      <th></th>\n",
              "      <th>0</th>\n",
              "    </tr>\n",
              "  </thead>\n",
              "  <tbody>\n",
              "    <tr>\n",
              "      <th>0</th>\n",
              "      <td>Sep</td>\n",
              "    </tr>\n",
              "    <tr>\n",
              "      <th>1</th>\n",
              "      <td>Feb</td>\n",
              "    </tr>\n",
              "    <tr>\n",
              "      <th>2</th>\n",
              "      <td>Jan</td>\n",
              "    </tr>\n",
              "    <tr>\n",
              "      <th>3</th>\n",
              "      <td>Jan</td>\n",
              "    </tr>\n",
              "    <tr>\n",
              "      <th>6</th>\n",
              "      <td>Jan</td>\n",
              "    </tr>\n",
              "    <tr>\n",
              "      <th>...</th>\n",
              "      <td>...</td>\n",
              "    </tr>\n",
              "    <tr>\n",
              "      <th>472966</th>\n",
              "      <td>Mar</td>\n",
              "    </tr>\n",
              "    <tr>\n",
              "      <th>472967</th>\n",
              "      <td>Feb</td>\n",
              "    </tr>\n",
              "    <tr>\n",
              "      <th>472969</th>\n",
              "      <td>Oct</td>\n",
              "    </tr>\n",
              "    <tr>\n",
              "      <th>472970</th>\n",
              "      <td>Jan</td>\n",
              "    </tr>\n",
              "    <tr>\n",
              "      <th>472971</th>\n",
              "      <td>Oct</td>\n",
              "    </tr>\n",
              "  </tbody>\n",
              "</table>\n",
              "<p>334065 rows × 1 columns</p>\n",
              "</div>"
            ],
            "text/plain": [
              "          0\n",
              "0       Sep\n",
              "1       Feb\n",
              "2       Jan\n",
              "3       Jan\n",
              "6       Jan\n",
              "...     ...\n",
              "472966  Mar\n",
              "472967  Feb\n",
              "472969  Oct\n",
              "472970  Jan\n",
              "472971  Oct\n",
              "\n",
              "[334065 rows x 1 columns]"
            ]
          },
          "metadata": {
            "tags": []
          },
          "execution_count": 73
        }
      ]
    },
    {
      "cell_type": "code",
      "metadata": {
        "colab": {
          "base_uri": "https://localhost:8080/"
        },
        "id": "3MH6BAC0Y9-n",
        "outputId": "243d597e-98b4-4b33-e55a-f8a3fbaeb352"
      },
      "source": [
        "level0_words.value_counts()"
      ],
      "execution_count": null,
      "outputs": [
        {
          "output_type": "execute_result",
          "data": {
            "text/plain": [
              "Jan          200574\n",
              "Feb          33114 \n",
              "Dec          24370 \n",
              "Sep          22392 \n",
              "Oct          20973 \n",
              "Nov          18980 \n",
              "Mar          11368 \n",
              "level        1519  \n",
              "error:       459   \n",
              "E:           297   \n",
              "--MARK--:    12    \n",
              "juniper      4     \n",
              "OpenSCAP     3     \n",
              "dtype: int64"
            ]
          },
          "metadata": {
            "tags": []
          },
          "execution_count": 76
        }
      ]
    },
    {
      "cell_type": "code",
      "metadata": {
        "id": "12xcJ3ZbZHtI"
      },
      "source": [
        "sample_df_log0 = pd.DataFrame(columns=['id', 'level', 'full_log'])\n",
        "\n",
        "for i in level0_words[0].unique():\n",
        "    if len(level0_log[level0_log['full_log'].str.contains(i)]) > 3:\n",
        "        temp_df = level0_log[level0_log['full_log'].str.contains(i)].sample(3)\n",
        "    else:\n",
        "        n = len(level0_log[level0_log['full_log'].str.contains(i)])\n",
        "        temp_df = level0_log[level0_log['full_log'].str.contains(i)].sample(n)\n",
        "    sample_df_log0 = pd.concat([sample_df_log0, temp_df])\n"
      ],
      "execution_count": null,
      "outputs": []
    },
    {
      "cell_type": "code",
      "metadata": {
        "colab": {
          "base_uri": "https://localhost:8080/",
          "height": 1000
        },
        "id": "U0iURB7raFqA",
        "outputId": "37ad232b-070b-4c9e-c5ef-9ed8b99176f7"
      },
      "source": [
        "sample_df_log0"
      ],
      "execution_count": null,
      "outputs": [
        {
          "output_type": "execute_result",
          "data": {
            "text/html": [
              "<div>\n",
              "<style scoped>\n",
              "    .dataframe tbody tr th:only-of-type {\n",
              "        vertical-align: middle;\n",
              "    }\n",
              "\n",
              "    .dataframe tbody tr th {\n",
              "        vertical-align: top;\n",
              "    }\n",
              "\n",
              "    .dataframe thead th {\n",
              "        text-align: right;\n",
              "    }\n",
              "</style>\n",
              "<table border=\"1\" class=\"dataframe\">\n",
              "  <thead>\n",
              "    <tr style=\"text-align: right;\">\n",
              "      <th></th>\n",
              "      <th>id</th>\n",
              "      <th>level</th>\n",
              "      <th>full_log</th>\n",
              "    </tr>\n",
              "  </thead>\n",
              "  <tbody>\n",
              "    <tr>\n",
              "      <th>391469</th>\n",
              "      <td>391469</td>\n",
              "      <td>0</td>\n",
              "      <td>Sep 24 03:45:29 localhost kibana: {\"type\":\"error\",\"@timestamp\":\"2020-09-23T18:45:29Z\",\"tags\":[\"warning\",\"stats-collection\"],\"pid\":6458,\"level\":\"error\",\"error\":{\"message\":\"No Living connections\",\"name\":\"Error\",\"stack\":\"Error: No Living connections\\n    at sendReqWithConnection (/usr/share/kibana/node_modules/elasticsearch/src/lib/transport.js:226:15)\\n    at next (/usr/share/kibana/node_modules/elasticsearch/src/lib/connection_pool.js:214:7)\\n    at process._tickCallback (internal/process/next_tick.js:61:11)\"},\"message\":\"No Living connections\"}</td>\n",
              "    </tr>\n",
              "    <tr>\n",
              "      <th>102985</th>\n",
              "      <td>102985</td>\n",
              "      <td>0</td>\n",
              "      <td>Sep 24 13:45:04 localhost kibana: {\"type\":\"log\",\"@timestamp\":\"2020-09-24T04:45:04Z\",\"tags\":[\"error\",\"task_manager\"],\"pid\":6458,\"message\":\"Failed to poll for work: Error: No Living connections\"}</td>\n",
              "    </tr>\n",
              "    <tr>\n",
              "      <th>122461</th>\n",
              "      <td>122461</td>\n",
              "      <td>0</td>\n",
              "      <td>Sep 24 01:21:08 localhost kibana: {\"type\":\"error\",\"@timestamp\":\"2020-09-23T16:21:08Z\",\"tags\":[\"warning\",\"stats-collection\"],\"pid\":6458,\"level\":\"error\",\"error\":{\"message\":\"No Living connections\",\"name\":\"Error\",\"stack\":\"Error: No Living connections\\n    at sendReqWithConnection (/usr/share/kibana/node_modules/elasticsearch/src/lib/transport.js:226:15)\\n    at next (/usr/share/kibana/node_modules/elasticsearch/src/lib/connection_pool.js:214:7)\\n    at process._tickCallback (internal/process/next_tick.js:61:11)\"},\"message\":\"No Living connections\"}</td>\n",
              "    </tr>\n",
              "    <tr>\n",
              "      <th>388769</th>\n",
              "      <td>388769</td>\n",
              "      <td>0</td>\n",
              "      <td>Feb  1 13:04:00 localhost suricata[1442]: [1:2010937:3] ET SCAN Suspicious inbound to mySQL port 3306 [Classification: Potentially Bad Traffic] [Priority: 2] {TCP} 192.168.0.160:46542 -&gt; 192.168.0.42:3306</td>\n",
              "    </tr>\n",
              "    <tr>\n",
              "      <th>263830</th>\n",
              "      <td>263830</td>\n",
              "      <td>0</td>\n",
              "      <td>Feb  8 17:58:19 localhost logstash: [2021-02-08T17:58:19,924][INFO ][logstash.outputs.elasticsearch] retrying failed action with response code: 503 ({\"type\"=&gt;\"unavailable_shards_exception\", \"reason\"=&gt;\"[m-hash-2020.06][0] primary shard is not active Timeout: [1m], request: [BulkShardRequest [[m-hash-2020.06][0]] containing [38] requests]\"})</td>\n",
              "    </tr>\n",
              "    <tr>\n",
              "      <th>298819</th>\n",
              "      <td>298819</td>\n",
              "      <td>0</td>\n",
              "      <td>Feb  8 18:31:24 localhost logstash: [2021-02-08T18:31:24,286][INFO ][logstash.outputs.elasticsearch] retrying failed action with response code: 503 ({\"type\"=&gt;\"unavailable_shards_exception\", \"reason\"=&gt;\"[m-hash-2020.06][1] primary shard is not active Timeout: [1m], request: [BulkShardRequest [[m-hash-2020.06][1]] containing [17] requests]\"})</td>\n",
              "    </tr>\n",
              "    <tr>\n",
              "      <th>40170</th>\n",
              "      <td>40170</td>\n",
              "      <td>0</td>\n",
              "      <td>Jan 22 23:14:06 localhost logstash: 3098       com.mysql.jdbc.SQLError.createCommunicationsException(com/mysql/jdbc/SQLError.java:990)</td>\n",
              "    </tr>\n",
              "    <tr>\n",
              "      <th>74988</th>\n",
              "      <td>74988</td>\n",
              "      <td>0</td>\n",
              "      <td>Jan 26 14:12:06 localhost logstash: { 13534 rufus-scheduler intercepted an error:</td>\n",
              "    </tr>\n",
              "    <tr>\n",
              "      <th>108772</th>\n",
              "      <td>108772</td>\n",
              "      <td>0</td>\n",
              "      <td>Jan 19 06:30:06 localhost logstash: { 12350 rufus-scheduler intercepted an error:</td>\n",
              "    </tr>\n",
              "    <tr>\n",
              "      <th>42835</th>\n",
              "      <td>42835</td>\n",
              "      <td>0</td>\n",
              "      <td>Dec 24 14:57:49 localhost kibana: {\"type\":\"error\",\"@timestamp\":\"2020-12-24T05:57:49Z\",\"tags\":[\"warning\",\"stats-collection\"],\"pid\":862,\"level\":\"error\",\"error\":{\"message\":\"No Living connections\",\"name\":\"Error\",\"stack\":\"Error: No Living connections\\n    at sendReqWithConnection (/usr/share/kibana/node_modules/elasticsearch/src/lib/transport.js:226:15)\\n    at next (/usr/share/kibana/node_modules/elasticsearch/src/lib/connection_pool.js:214:7)\\n    at process._tickCallback (internal/process/next_tick.js:61:11)\"},\"message\":\"No Living connections\"}</td>\n",
              "    </tr>\n",
              "    <tr>\n",
              "      <th>64536</th>\n",
              "      <td>64536</td>\n",
              "      <td>0</td>\n",
              "      <td>Dec 28 15:52:28 localhost kibana: {\"type\":\"log\",\"@timestamp\":\"2020-12-28T06:52:28Z\",\"tags\":[\"error\",\"task_manager\"],\"pid\":3816,\"message\":\"Failed to poll for work: Error: No Living connections\"}</td>\n",
              "    </tr>\n",
              "    <tr>\n",
              "      <th>113432</th>\n",
              "      <td>113432</td>\n",
              "      <td>0</td>\n",
              "      <td>Dec 28 10:26:05 localhost kibana: Error: Request error, retrying</td>\n",
              "    </tr>\n",
              "    <tr>\n",
              "      <th>350004</th>\n",
              "      <td>350004</td>\n",
              "      <td>0</td>\n",
              "      <td>Oct 12 07:41:43 localhost kibana: {\"type\":\"log\",\"@timestamp\":\"2020-10-11T22:41:43Z\",\"tags\":[\"error\",\"task_manager\"],\"pid\":821,\"message\":\"Failed to poll for work: Error: No Living connections\"}</td>\n",
              "    </tr>\n",
              "    <tr>\n",
              "      <th>52940</th>\n",
              "      <td>52940</td>\n",
              "      <td>0</td>\n",
              "      <td>Oct 12 07:20:11 localhost logstash: [2020-10-12T07:20:11,192][WARN ][logstash.outputs.elasticsearch] Attempted to resurrect connection to dead ES instance, but got an error. {:url=&gt;\"http://localhost:9200/\", :error_type=&gt;LogStash::Outputs::ElasticSearch::HttpClient::Pool::HostUnreachableError, :error=&gt;\"Elasticsearch Unreachable: [http://localhost:9200/][Manticore::SocketException] 연결이 거부됨 (Connection refused)\"}</td>\n",
              "    </tr>\n",
              "    <tr>\n",
              "      <th>82718</th>\n",
              "      <td>82718</td>\n",
              "      <td>0</td>\n",
              "      <td>Oct 25 12:54:03 localhost logstash: [2020-10-25T12:54:03,241][ERROR][logstash.inputs.jdbc     ] Unable to connect to database. Tried 1 times {:error_message=&gt;\"Java::JavaSql::SQLNonTransientConnectionException: Could not connect to address=(host=192.168.0.42)(port=3306)(type=master) : Socket fail to connect to host:192.168.0.42, port:3306. 호스트로 갈 루트가 없음 (Host unreachable)\"}</td>\n",
              "    </tr>\n",
              "    <tr>\n",
              "      <th>188978</th>\n",
              "      <td>188978</td>\n",
              "      <td>0</td>\n",
              "      <td>Nov 23 08:14:00 localhost suricata[1454]: [1:2010937:3] ET SCAN Suspicious inbound to mySQL port 3306 [Classification: Potentially Bad Traffic] [Priority: 2] {TCP} 192.168.0.160:56720 -&gt; 192.168.0.42:3306</td>\n",
              "    </tr>\n",
              "    <tr>\n",
              "      <th>149544</th>\n",
              "      <td>149544</td>\n",
              "      <td>0</td>\n",
              "      <td>Nov 18 21:55:00 localhost suricata[1454]: [1:2010937:3] ET SCAN Suspicious inbound to mySQL port 3306 [Classification: Potentially Bad Traffic] [Priority: 2] {TCP} 192.168.0.160:39648 -&gt; 192.168.0.42:3306</td>\n",
              "    </tr>\n",
              "    <tr>\n",
              "      <th>430491</th>\n",
              "      <td>430491</td>\n",
              "      <td>0</td>\n",
              "      <td>Nov 25 18:49:00 localhost suricata[1454]: [1:2010937:3] ET SCAN Suspicious inbound to mySQL port 3306 [Classification: Potentially Bad Traffic] [Priority: 2] {TCP} 192.168.0.160:37230 -&gt; 192.168.0.42:3306</td>\n",
              "    </tr>\n",
              "    <tr>\n",
              "      <th>23695</th>\n",
              "      <td>23695</td>\n",
              "      <td>0</td>\n",
              "      <td>Mar  6 03:59:06 localhost logstash: 15204     Java::ComMysqlJdbcExceptionsJdbc4::CommunicationsException: Communications link failure</td>\n",
              "    </tr>\n",
              "    <tr>\n",
              "      <th>82820</th>\n",
              "      <td>82820</td>\n",
              "      <td>0</td>\n",
              "      <td>Mar  7 01:07:06 localhost logstash: 17740     Sequel::DatabaseConnectionError</td>\n",
              "    </tr>\n",
              "    <tr>\n",
              "      <th>446687</th>\n",
              "      <td>446687</td>\n",
              "      <td>0</td>\n",
              "      <td>Mar  2 02:26:06 localhost logstash: { 12570 rufus-scheduler intercepted an error:</td>\n",
              "    </tr>\n",
              "    <tr>\n",
              "      <th>404797</th>\n",
              "      <td>404797</td>\n",
              "      <td>0</td>\n",
              "      <td>Jan 28 14:18:08 localhost kibana: {\"type\":\"error\",\"@timestamp\":\"2021-01-28T05:18:08Z\",\"tags\":[\"warning\",\"stats-collection\"],\"pid\":4485,\"level\":\"error\",\"error\":{\"message\":\"No Living connections\",\"name\":\"Error\",\"stack\":\"Error: No Living connections\\n    at sendReqWithConnection (/usr/share/kibana/node_modules/elasticsearch/src/lib/transport.js:226:15)\\n    at next (/usr/share/kibana/node_modules/elasticsearch/src/lib/connection_pool.js:214:7)\\n    at process._tickCallback (internal/process/next_tick.js:61:11)\"},\"message\":\"No Living connections\"}</td>\n",
              "    </tr>\n",
              "    <tr>\n",
              "      <th>394545</th>\n",
              "      <td>394545</td>\n",
              "      <td>0</td>\n",
              "      <td>Jan 22 04:06:29 localhost kibana: {\"type\":\"error\",\"@timestamp\":\"2021-01-21T19:06:29Z\",\"tags\":[\"warning\",\"stats-collection\"],\"pid\":4485,\"level\":\"error\",\"error\":{\"message\":\"No Living connections\",\"name\":\"Error\",\"stack\":\"Error: No Living connections\\n    at sendReqWithConnection (/usr/share/kibana/node_modules/elasticsearch/src/lib/transport.js:226:15)\\n    at next (/usr/share/kibana/node_modules/elasticsearch/src/lib/connection_pool.js:214:7)\\n    at process._tickCallback (internal/process/next_tick.js:61:11)\"},\"message\":\"No Living connections\"}</td>\n",
              "    </tr>\n",
              "    <tr>\n",
              "      <th>98814</th>\n",
              "      <td>98814</td>\n",
              "      <td>0</td>\n",
              "      <td>Jan 20 05:36:42 localhost kibana: {\"type\":\"error\",\"@timestamp\":\"2021-01-19T20:36:42Z\",\"tags\":[\"warning\",\"stats-collection\"],\"pid\":9502,\"level\":\"error\",\"error\":{\"message\":\"No Living connections\",\"name\":\"Error\",\"stack\":\"Error: No Living connections\\n    at sendReqWithConnection (/usr/share/kibana/node_modules/elasticsearch/src/lib/transport.js:226:15)\\n    at next (/usr/share/kibana/node_modules/elasticsearch/src/lib/connection_pool.js:214:7)\\n    at process._tickCallback (internal/process/next_tick.js:61:11)\"},\"message\":\"No Living connections\"}</td>\n",
              "    </tr>\n",
              "    <tr>\n",
              "      <th>350240</th>\n",
              "      <td>350240</td>\n",
              "      <td>0</td>\n",
              "      <td>Jan 26 04:09:06 localhost logstash: 12328   error:</td>\n",
              "    </tr>\n",
              "    <tr>\n",
              "      <th>222882</th>\n",
              "      <td>222882</td>\n",
              "      <td>0</td>\n",
              "      <td>Jan 28 20:35:06 localhost logstash: { 2620 rufus-scheduler intercepted an error:</td>\n",
              "    </tr>\n",
              "    <tr>\n",
              "      <th>349879</th>\n",
              "      <td>349879</td>\n",
              "      <td>0</td>\n",
              "      <td>Feb  1 00:10:06 localhost logstash: 8832   error:</td>\n",
              "    </tr>\n",
              "    <tr>\n",
              "      <th>367248</th>\n",
              "      <td>367248</td>\n",
              "      <td>0</td>\n",
              "      <td>E: probe_rpminfo: RPM: rpmdb: BDB0113 Thread/process 13362/139912875566848 failed: BDB1507 Thread died in Berkeley DB library</td>\n",
              "    </tr>\n",
              "    <tr>\n",
              "      <th>324917</th>\n",
              "      <td>324917</td>\n",
              "      <td>0</td>\n",
              "      <td>E: probe_rpminfo: RPM: rpmdb: BDB0113 Thread/process 26357/140408208971520 failed: BDB1507 Thread died in Berkeley DB library</td>\n",
              "    </tr>\n",
              "    <tr>\n",
              "      <th>126723</th>\n",
              "      <td>126723</td>\n",
              "      <td>0</td>\n",
              "      <td>E: probe_rpminfo: RPM: rpmdb: BDB0113 Thread/process 26357/140408208971520 failed: BDB1507 Thread died in Berkeley DB library</td>\n",
              "    </tr>\n",
              "    <tr>\n",
              "      <th>5144</th>\n",
              "      <td>5144</td>\n",
              "      <td>0</td>\n",
              "      <td>juniper</td>\n",
              "    </tr>\n",
              "    <tr>\n",
              "      <th>207811</th>\n",
              "      <td>207811</td>\n",
              "      <td>0</td>\n",
              "      <td>juniper</td>\n",
              "    </tr>\n",
              "    <tr>\n",
              "      <th>470486</th>\n",
              "      <td>470486</td>\n",
              "      <td>0</td>\n",
              "      <td>juniper</td>\n",
              "    </tr>\n",
              "    <tr>\n",
              "      <th>393979</th>\n",
              "      <td>393979</td>\n",
              "      <td>0</td>\n",
              "      <td>--MARK--: O0&amp;f0'%Um%j9[*Z=T]ti$)]6N'xX*L)sihfd2n@-;EYi&amp;@X=^.2ckUMNezx*wm;]y]4$VQA60&amp;d3j3emx6W1tnTI2^UVq1W$Lf5&amp;f;Old8A/qrHG]6R/p%iRU0yVNk=PHl+J7mIDCIdSW9V6FC'TwxaEykyV2&amp;tZvY(9gA;6HXD#Nu?Mu;(1JTwiT2(TnqJExKHZ9Pp=amZYB,Gjml5qU?Vu-fl3ULv1DxlY8#BA[rzCe([[z@ddP4uKw6,p8N++-k=%j7LI;E=zp5&amp;QX[OH.vrN+hV(QrJrQFaTAltDd?=;)i,STmr/]Tl[w4]Xf44eS7Mf9[u80j0-p$6n-R]rn]2Q1nE6Ux%?.&amp;6)#DW,X2@ay)HkZOCG&amp;x.+'bf+1r=l7,s+@J7)cm*'@d'x9SdTI4$Qgd%5*c^[hTDXz23a7v-H/+PS#t_Y_P37!kc'8(%cE&amp;oJIxSbgT$1Dr%#8K(=-BuBX^c.=_3=s.zvsv0/TJ%MS$4l+hd</td>\n",
              "    </tr>\n",
              "    <tr>\n",
              "      <th>79217</th>\n",
              "      <td>79217</td>\n",
              "      <td>0</td>\n",
              "      <td>--MARK--: Lnsb5;CD,&amp;vN2!S_+!hlX0?4N9FCI%WFSD]Dh9rOuBt6yg+ljcZ_1RJuBBq+pll&amp;V5vxRDYl)r1w*H9q6*;DGr/ul,$EN1Gw=w2h17iWBi+idDd)KxN.u=v'c%B,*v]B'qTD)W(!_l[PJb@@k.wSJj^euz[).+)B!&amp;K&amp;)qb.n+Xw,SiXNygqoVPLXLOS5,zkMY?!Ya-S$kw6pSKxc/XVdwmJ$78bQzpDF=QK,)Qt)&amp;mj&amp;$(fnnPpcW2UWt&amp;L$v@8jWnut6D8glF*tgx5$5V3LNrD]x$Je[''+q3pBse]%n@'(XJMOcCGwI)Y]4G[2)?k08YRF*V1A6KuHuU1)2zqv^4rL52wf@erroRp_fy*pP+P(je7p/YP%8??ph1BR;a'O36VW!9oQtjV_s9Vo!9FKuwO/XWO--ZwTrpe-cEkg[X,$#@pBW1?,7Q^V,q,3*7utvb!^VDlYyRZ=dlJINCAfce(R6DyL;hrTneF#kXmkcsHq[a9!G%gq*?hYp@-Ui=-a;!iHJwwYa7z^W1@QT.Pg#qZAh^50qIaRz3t=a7hom^a2oDOBZpJ5kEo9k/4u0Z,dPeS@;e_2p51?0Z4*=6))MdA</td>\n",
              "    </tr>\n",
              "    <tr>\n",
              "      <th>405156</th>\n",
              "      <td>405156</td>\n",
              "      <td>0</td>\n",
              "      <td>--MARK--: PC8A$Siff!_zTYloi@Mon@;l&amp;'/NL;3OhzX8V9Ipz3J'*4'/VQU^G&amp;5lC@J)yD0cK7b).t&amp;sicmI%JEd!h$IAZ);zY+[Pc';^-5@hO/VcynC=O!q0m+5;;(t0UzAwWDtYom^odrO!ltWrN8;d[_j0!3LbJp](HoZU@Qw[&amp;*fZ*/@*Dd15=C(=,SnUnErrOrl73R?,+GihrY[)EE/Ln]2,5.hJHxGyb8%3J5HislVU=]?C5+]!;rm4ceFHA'PgnK2$FA30bJvdw)u$D;L/5SzM9WuUV(1ytiW_39z0[FRO+GfDi9=wNbAx1LL+ohc4Q/O/qPxqk2ZLIJqrKrL]Tkx=D+/_Rro)$S.qy9mCR%8AnW+sCT+P[HIu&amp;?x+Hr9Ss_1Hfn/O&amp;_l+kaVRYhzwdcE%j&amp;@V.xfZDYzc2Px]Q+x5T-JwgbC5RQszl[KtTwuXnx*$J&amp;N</td>\n",
              "    </tr>\n",
              "    <tr>\n",
              "      <th>145945</th>\n",
              "      <td>145945</td>\n",
              "      <td>0</td>\n",
              "      <td>OpenSCAP Error: Probe with PID=21944 has been killed with signal 9 [sch_pipe.c:178]</td>\n",
              "    </tr>\n",
              "    <tr>\n",
              "      <th>462254</th>\n",
              "      <td>462254</td>\n",
              "      <td>0</td>\n",
              "      <td>OpenSCAP Error: Probe with PID=7984 has been killed with signal 9 [sch_pipe.c:178]</td>\n",
              "    </tr>\n",
              "    <tr>\n",
              "      <th>271689</th>\n",
              "      <td>271689</td>\n",
              "      <td>0</td>\n",
              "      <td>OpenSCAP Error: Probe with PID=27844 has been killed with signal 9 [sch_pipe.c:178]</td>\n",
              "    </tr>\n",
              "  </tbody>\n",
              "</table>\n",
              "</div>"
            ],
            "text/plain": [
              "            id  ...                                                                                                                                                                                                                                                                                                                                                                                                                                                                                                                                                                                                                            full_log\n",
              "391469  391469  ...  Sep 24 03:45:29 localhost kibana: {\"type\":\"error\",\"@timestamp\":\"2020-09-23T18:45:29Z\",\"tags\":[\"warning\",\"stats-collection\"],\"pid\":6458,\"level\":\"error\",\"error\":{\"message\":\"No Living connections\",\"name\":\"Error\",\"stack\":\"Error: No Living connections\\n    at sendReqWithConnection (/usr/share/kibana/node_modules/elasticsearch/src/lib/transport.js:226:15)\\n    at next (/usr/share/kibana/node_modules/elasticsearch/src/lib/connection_pool.js:214:7)\\n    at process._tickCallback (internal/process/next_tick.js:61:11)\"},\"message\":\"No Living connections\"}                                                             \n",
              "102985  102985  ...  Sep 24 13:45:04 localhost kibana: {\"type\":\"log\",\"@timestamp\":\"2020-09-24T04:45:04Z\",\"tags\":[\"error\",\"task_manager\"],\"pid\":6458,\"message\":\"Failed to poll for work: Error: No Living connections\"}                                                                                                                                                                                                                                                                                                                                                                                                                                 \n",
              "122461  122461  ...  Sep 24 01:21:08 localhost kibana: {\"type\":\"error\",\"@timestamp\":\"2020-09-23T16:21:08Z\",\"tags\":[\"warning\",\"stats-collection\"],\"pid\":6458,\"level\":\"error\",\"error\":{\"message\":\"No Living connections\",\"name\":\"Error\",\"stack\":\"Error: No Living connections\\n    at sendReqWithConnection (/usr/share/kibana/node_modules/elasticsearch/src/lib/transport.js:226:15)\\n    at next (/usr/share/kibana/node_modules/elasticsearch/src/lib/connection_pool.js:214:7)\\n    at process._tickCallback (internal/process/next_tick.js:61:11)\"},\"message\":\"No Living connections\"}                                                             \n",
              "388769  388769  ...  Feb  1 13:04:00 localhost suricata[1442]: [1:2010937:3] ET SCAN Suspicious inbound to mySQL port 3306 [Classification: Potentially Bad Traffic] [Priority: 2] {TCP} 192.168.0.160:46542 -> 192.168.0.42:3306                                                                                                                                                                                                                                                                                                                                                                                                                      \n",
              "263830  263830  ...  Feb  8 17:58:19 localhost logstash: [2021-02-08T17:58:19,924][INFO ][logstash.outputs.elasticsearch] retrying failed action with response code: 503 ({\"type\"=>\"unavailable_shards_exception\", \"reason\"=>\"[m-hash-2020.06][0] primary shard is not active Timeout: [1m], request: [BulkShardRequest [[m-hash-2020.06][0]] containing [38] requests]\"})                                                                                                                                                                                                                                                                             \n",
              "298819  298819  ...  Feb  8 18:31:24 localhost logstash: [2021-02-08T18:31:24,286][INFO ][logstash.outputs.elasticsearch] retrying failed action with response code: 503 ({\"type\"=>\"unavailable_shards_exception\", \"reason\"=>\"[m-hash-2020.06][1] primary shard is not active Timeout: [1m], request: [BulkShardRequest [[m-hash-2020.06][1]] containing [17] requests]\"})                                                                                                                                                                                                                                                                             \n",
              "40170   40170   ...  Jan 22 23:14:06 localhost logstash: 3098       com.mysql.jdbc.SQLError.createCommunicationsException(com/mysql/jdbc/SQLError.java:990)                                                                                                                                                                                                                                                                                                                                                                                                                                                                                            \n",
              "74988   74988   ...  Jan 26 14:12:06 localhost logstash: { 13534 rufus-scheduler intercepted an error:                                                                                                                                                                                                                                                                                                                                                                                                                                                                                                                                                 \n",
              "108772  108772  ...  Jan 19 06:30:06 localhost logstash: { 12350 rufus-scheduler intercepted an error:                                                                                                                                                                                                                                                                                                                                                                                                                                                                                                                                                 \n",
              "42835   42835   ...  Dec 24 14:57:49 localhost kibana: {\"type\":\"error\",\"@timestamp\":\"2020-12-24T05:57:49Z\",\"tags\":[\"warning\",\"stats-collection\"],\"pid\":862,\"level\":\"error\",\"error\":{\"message\":\"No Living connections\",\"name\":\"Error\",\"stack\":\"Error: No Living connections\\n    at sendReqWithConnection (/usr/share/kibana/node_modules/elasticsearch/src/lib/transport.js:226:15)\\n    at next (/usr/share/kibana/node_modules/elasticsearch/src/lib/connection_pool.js:214:7)\\n    at process._tickCallback (internal/process/next_tick.js:61:11)\"},\"message\":\"No Living connections\"}                                                              \n",
              "64536   64536   ...  Dec 28 15:52:28 localhost kibana: {\"type\":\"log\",\"@timestamp\":\"2020-12-28T06:52:28Z\",\"tags\":[\"error\",\"task_manager\"],\"pid\":3816,\"message\":\"Failed to poll for work: Error: No Living connections\"}                                                                                                                                                                                                                                                                                                                                                                                                                                 \n",
              "113432  113432  ...  Dec 28 10:26:05 localhost kibana: Error: Request error, retrying                                                                                                                                                                                                                                                                                                                                                                                                                                                                                                                                                                  \n",
              "350004  350004  ...  Oct 12 07:41:43 localhost kibana: {\"type\":\"log\",\"@timestamp\":\"2020-10-11T22:41:43Z\",\"tags\":[\"error\",\"task_manager\"],\"pid\":821,\"message\":\"Failed to poll for work: Error: No Living connections\"}                                                                                                                                                                                                                                                                                                                                                                                                                                  \n",
              "52940   52940   ...  Oct 12 07:20:11 localhost logstash: [2020-10-12T07:20:11,192][WARN ][logstash.outputs.elasticsearch] Attempted to resurrect connection to dead ES instance, but got an error. {:url=>\"http://localhost:9200/\", :error_type=>LogStash::Outputs::ElasticSearch::HttpClient::Pool::HostUnreachableError, :error=>\"Elasticsearch Unreachable: [http://localhost:9200/][Manticore::SocketException] 연결이 거부됨 (Connection refused)\"}                                                                                                                                                                                                     \n",
              "82718   82718   ...  Oct 25 12:54:03 localhost logstash: [2020-10-25T12:54:03,241][ERROR][logstash.inputs.jdbc     ] Unable to connect to database. Tried 1 times {:error_message=>\"Java::JavaSql::SQLNonTransientConnectionException: Could not connect to address=(host=192.168.0.42)(port=3306)(type=master) : Socket fail to connect to host:192.168.0.42, port:3306. 호스트로 갈 루트가 없음 (Host unreachable)\"}                                                                                                                                                                                                                                           \n",
              "188978  188978  ...  Nov 23 08:14:00 localhost suricata[1454]: [1:2010937:3] ET SCAN Suspicious inbound to mySQL port 3306 [Classification: Potentially Bad Traffic] [Priority: 2] {TCP} 192.168.0.160:56720 -> 192.168.0.42:3306                                                                                                                                                                                                                                                                                                                                                                                                                      \n",
              "149544  149544  ...  Nov 18 21:55:00 localhost suricata[1454]: [1:2010937:3] ET SCAN Suspicious inbound to mySQL port 3306 [Classification: Potentially Bad Traffic] [Priority: 2] {TCP} 192.168.0.160:39648 -> 192.168.0.42:3306                                                                                                                                                                                                                                                                                                                                                                                                                      \n",
              "430491  430491  ...  Nov 25 18:49:00 localhost suricata[1454]: [1:2010937:3] ET SCAN Suspicious inbound to mySQL port 3306 [Classification: Potentially Bad Traffic] [Priority: 2] {TCP} 192.168.0.160:37230 -> 192.168.0.42:3306                                                                                                                                                                                                                                                                                                                                                                                                                      \n",
              "23695   23695   ...  Mar  6 03:59:06 localhost logstash: 15204     Java::ComMysqlJdbcExceptionsJdbc4::CommunicationsException: Communications link failure                                                                                                                                                                                                                                                                                                                                                                                                                                                                                             \n",
              "82820   82820   ...  Mar  7 01:07:06 localhost logstash: 17740     Sequel::DatabaseConnectionError                                                                                                                                                                                                                                                                                                                                                                                                                                                                                                                                                     \n",
              "446687  446687  ...  Mar  2 02:26:06 localhost logstash: { 12570 rufus-scheduler intercepted an error:                                                                                                                                                                                                                                                                                                                                                                                                                                                                                                                                                 \n",
              "404797  404797  ...  Jan 28 14:18:08 localhost kibana: {\"type\":\"error\",\"@timestamp\":\"2021-01-28T05:18:08Z\",\"tags\":[\"warning\",\"stats-collection\"],\"pid\":4485,\"level\":\"error\",\"error\":{\"message\":\"No Living connections\",\"name\":\"Error\",\"stack\":\"Error: No Living connections\\n    at sendReqWithConnection (/usr/share/kibana/node_modules/elasticsearch/src/lib/transport.js:226:15)\\n    at next (/usr/share/kibana/node_modules/elasticsearch/src/lib/connection_pool.js:214:7)\\n    at process._tickCallback (internal/process/next_tick.js:61:11)\"},\"message\":\"No Living connections\"}                                                             \n",
              "394545  394545  ...  Jan 22 04:06:29 localhost kibana: {\"type\":\"error\",\"@timestamp\":\"2021-01-21T19:06:29Z\",\"tags\":[\"warning\",\"stats-collection\"],\"pid\":4485,\"level\":\"error\",\"error\":{\"message\":\"No Living connections\",\"name\":\"Error\",\"stack\":\"Error: No Living connections\\n    at sendReqWithConnection (/usr/share/kibana/node_modules/elasticsearch/src/lib/transport.js:226:15)\\n    at next (/usr/share/kibana/node_modules/elasticsearch/src/lib/connection_pool.js:214:7)\\n    at process._tickCallback (internal/process/next_tick.js:61:11)\"},\"message\":\"No Living connections\"}                                                             \n",
              "98814   98814   ...  Jan 20 05:36:42 localhost kibana: {\"type\":\"error\",\"@timestamp\":\"2021-01-19T20:36:42Z\",\"tags\":[\"warning\",\"stats-collection\"],\"pid\":9502,\"level\":\"error\",\"error\":{\"message\":\"No Living connections\",\"name\":\"Error\",\"stack\":\"Error: No Living connections\\n    at sendReqWithConnection (/usr/share/kibana/node_modules/elasticsearch/src/lib/transport.js:226:15)\\n    at next (/usr/share/kibana/node_modules/elasticsearch/src/lib/connection_pool.js:214:7)\\n    at process._tickCallback (internal/process/next_tick.js:61:11)\"},\"message\":\"No Living connections\"}                                                             \n",
              "350240  350240  ...  Jan 26 04:09:06 localhost logstash: 12328   error:                                                                                                                                                                                                                                                                                                                                                                                                                                                                                                                                                                                \n",
              "222882  222882  ...  Jan 28 20:35:06 localhost logstash: { 2620 rufus-scheduler intercepted an error:                                                                                                                                                                                                                                                                                                                                                                                                                                                                                                                                                  \n",
              "349879  349879  ...  Feb  1 00:10:06 localhost logstash: 8832   error:                                                                                                                                                                                                                                                                                                                                                                                                                                                                                                                                                                                 \n",
              "367248  367248  ...  E: probe_rpminfo: RPM: rpmdb: BDB0113 Thread/process 13362/139912875566848 failed: BDB1507 Thread died in Berkeley DB library                                                                                                                                                                                                                                                                                                                                                                                                                                                                                                     \n",
              "324917  324917  ...  E: probe_rpminfo: RPM: rpmdb: BDB0113 Thread/process 26357/140408208971520 failed: BDB1507 Thread died in Berkeley DB library                                                                                                                                                                                                                                                                                                                                                                                                                                                                                                     \n",
              "126723  126723  ...  E: probe_rpminfo: RPM: rpmdb: BDB0113 Thread/process 26357/140408208971520 failed: BDB1507 Thread died in Berkeley DB library                                                                                                                                                                                                                                                                                                                                                                                                                                                                                                     \n",
              "5144    5144    ...  juniper                                                                                                                                                                                                                                                                                                                                                                                                                                                                                                                                                                                                                           \n",
              "207811  207811  ...  juniper                                                                                                                                                                                                                                                                                                                                                                                                                                                                                                                                                                                                                           \n",
              "470486  470486  ...  juniper                                                                                                                                                                                                                                                                                                                                                                                                                                                                                                                                                                                                                           \n",
              "393979  393979  ...  --MARK--: O0&f0'%Um%j9[*Z=T]ti$)]6N'xX*L)sihfd2n@-;EYi&@X=^.2ckUMNezx*wm;]y]4$VQA60&d3j3emx6W1tnTI2^UVq1W$Lf5&f;Old8A/qrHG]6R/p%iRU0yVNk=PHl+J7mIDCIdSW9V6FC'TwxaEykyV2&tZvY(9gA;6HXD#Nu?Mu;(1JTwiT2(TnqJExKHZ9Pp=amZYB,Gjml5qU?Vu-fl3ULv1DxlY8#BA[rzCe([[z@ddP4uKw6,p8N++-k=%j7LI;E=zp5&QX[OH.vrN+hV(QrJrQFaTAltDd?=;)i,STmr/]Tl[w4]Xf44eS7Mf9[u80j0-p$6n-R]rn]2Q1nE6Ux%?.&6)#DW,X2@ay)HkZOCG&x.+'bf+1r=l7,s+@J7)cm*'@d'x9SdTI4$Qgd%5*c^[hTDXz23a7v-H/+PS#t_Y_P37!kc'8(%cE&oJIxSbgT$1Dr%#8K(=-BuBX^c.=_3=s.zvsv0/TJ%MS$4l+hd                                                                                                     \n",
              "79217   79217   ...  --MARK--: Lnsb5;CD,&vN2!S_+!hlX0?4N9FCI%WFSD]Dh9rOuBt6yg+ljcZ_1RJuBBq+pll&V5vxRDYl)r1w*H9q6*;DGr/ul,$EN1Gw=w2h17iWBi+idDd)KxN.u=v'c%B,*v]B'qTD)W(!_l[PJb@@k.wSJj^euz[).+)B!&K&)qb.n+Xw,SiXNygqoVPLXLOS5,zkMY?!Ya-S$kw6pSKxc/XVdwmJ$78bQzpDF=QK,)Qt)&mj&$(fnnPpcW2UWt&L$v@8jWnut6D8glF*tgx5$5V3LNrD]x$Je[''+q3pBse]%n@'(XJMOcCGwI)Y]4G[2)?k08YRF*V1A6KuHuU1)2zqv^4rL52wf@erroRp_fy*pP+P(je7p/YP%8??ph1BR;a'O36VW!9oQtjV_s9Vo!9FKuwO/XWO--ZwTrpe-cEkg[X,$#@pBW1?,7Q^V,q,3*7utvb!^VDlYyRZ=dlJINCAfce(R6DyL;hrTneF#kXmkcsHq[a9!G%gq*?hYp@-Ui=-a;!iHJwwYa7z^W1@QT.Pg#qZAh^50qIaRz3t=a7hom^a2oDOBZpJ5kEo9k/4u0Z,dPeS@;e_2p51?0Z4*=6))MdA\n",
              "405156  405156  ...  --MARK--: PC8A$Siff!_zTYloi@Mon@;l&'/NL;3OhzX8V9Ipz3J'*4'/VQU^G&5lC@J)yD0cK7b).t&sicmI%JEd!h$IAZ);zY+[Pc';^-5@hO/VcynC=O!q0m+5;;(t0UzAwWDtYom^odrO!ltWrN8;d[_j0!3LbJp](HoZU@Qw[&*fZ*/@*Dd15=C(=,SnUnErrOrl73R?,+GihrY[)EE/Ln]2,5.hJHxGyb8%3J5HislVU=]?C5+]!;rm4ceFHA'PgnK2$FA30bJvdw)u$D;L/5SzM9WuUV(1ytiW_39z0[FRO+GfDi9=wNbAx1LL+ohc4Q/O/qPxqk2ZLIJqrKrL]Tkx=D+/_Rro)$S.qy9mCR%8AnW+sCT+P[HIu&?x+Hr9Ss_1Hfn/O&_l+kaVRYhzwdcE%j&@V.xfZDYzc2Px]Q+x5T-JwgbC5RQszl[KtTwuXnx*$J&N                                                                                                                                                    \n",
              "145945  145945  ...  OpenSCAP Error: Probe with PID=21944 has been killed with signal 9 [sch_pipe.c:178]                                                                                                                                                                                                                                                                                                                                                                                                                                                                                                                                               \n",
              "462254  462254  ...  OpenSCAP Error: Probe with PID=7984 has been killed with signal 9 [sch_pipe.c:178]                                                                                                                                                                                                                                                                                                                                                                                                                                                                                                                                                \n",
              "271689  271689  ...  OpenSCAP Error: Probe with PID=27844 has been killed with signal 9 [sch_pipe.c:178]                                                                                                                                                                                                                                                                                                                                                                                                                                                                                                                                               \n",
              "\n",
              "[39 rows x 3 columns]"
            ]
          },
          "metadata": {
            "tags": []
          },
          "execution_count": 85
        }
      ]
    },
    {
      "cell_type": "code",
      "metadata": {
        "id": "rEBPqSK_aGIe"
      },
      "source": [
        ""
      ],
      "execution_count": null,
      "outputs": []
    },
    {
      "cell_type": "code",
      "metadata": {
        "id": "HpwHM4yxlWPD"
      },
      "source": [
        ""
      ],
      "execution_count": null,
      "outputs": []
    },
    {
      "cell_type": "code",
      "metadata": {
        "id": "pGmZIa4KlWf1"
      },
      "source": [
        ""
      ],
      "execution_count": null,
      "outputs": []
    },
    {
      "cell_type": "code",
      "metadata": {
        "id": "8Nbp67eslWvK"
      },
      "source": [
        ""
      ],
      "execution_count": null,
      "outputs": []
    },
    {
      "cell_type": "code",
      "metadata": {
        "id": "l0UnahlnlW1W"
      },
      "source": [
        ""
      ],
      "execution_count": null,
      "outputs": []
    },
    {
      "cell_type": "code",
      "metadata": {
        "id": "8eWLjP5YlW5C"
      },
      "source": [
        ""
      ],
      "execution_count": null,
      "outputs": []
    },
    {
      "cell_type": "code",
      "metadata": {
        "id": "LxrtNqoIlW9E"
      },
      "source": [
        ""
      ],
      "execution_count": null,
      "outputs": []
    },
    {
      "cell_type": "code",
      "metadata": {
        "id": "6sZxg4NllXAi"
      },
      "source": [
        ""
      ],
      "execution_count": null,
      "outputs": []
    },
    {
      "cell_type": "code",
      "metadata": {
        "id": "McreLo4wlXD4"
      },
      "source": [
        ""
      ],
      "execution_count": null,
      "outputs": []
    },
    {
      "cell_type": "code",
      "metadata": {
        "id": "ov3vq3k2lXIG"
      },
      "source": [
        ""
      ],
      "execution_count": null,
      "outputs": []
    },
    {
      "cell_type": "code",
      "metadata": {
        "id": "Y9_j8hXelXKd"
      },
      "source": [
        ""
      ],
      "execution_count": null,
      "outputs": []
    },
    {
      "cell_type": "code",
      "metadata": {
        "id": "T1t6QOOllXOF"
      },
      "source": [
        ""
      ],
      "execution_count": null,
      "outputs": []
    },
    {
      "cell_type": "code",
      "metadata": {
        "id": "1d-EPnS1lXRX"
      },
      "source": [
        ""
      ],
      "execution_count": null,
      "outputs": []
    },
    {
      "cell_type": "code",
      "metadata": {
        "id": "UZZAGQ_TlXVd"
      },
      "source": [
        ""
      ],
      "execution_count": null,
      "outputs": []
    },
    {
      "cell_type": "code",
      "metadata": {
        "id": "jwnjCuXMlXYw"
      },
      "source": [
        "b"
      ],
      "execution_count": null,
      "outputs": []
    }
  ]
}