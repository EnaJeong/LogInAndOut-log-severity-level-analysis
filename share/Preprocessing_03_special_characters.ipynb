{
 "cells": [
  {
   "cell_type": "code",
   "execution_count": 1,
   "id": "ec307fe4",
   "metadata": {},
   "outputs": [],
   "source": [
    "import numpy as np\n",
    "import pandas as pd"
   ]
  },
  {
   "cell_type": "code",
   "execution_count": 2,
   "id": "284d7b5b",
   "metadata": {},
   "outputs": [
    {
     "name": "stdout",
     "output_type": "stream",
     "text": [
      "(472970, 2)\n"
     ]
    },
    {
     "data": {
      "text/html": [
       "<div>\n",
       "<style scoped>\n",
       "    .dataframe tbody tr th:only-of-type {\n",
       "        vertical-align: middle;\n",
       "    }\n",
       "\n",
       "    .dataframe tbody tr th {\n",
       "        vertical-align: top;\n",
       "    }\n",
       "\n",
       "    .dataframe thead th {\n",
       "        text-align: right;\n",
       "    }\n",
       "</style>\n",
       "<table border=\"1\" class=\"dataframe\">\n",
       "  <thead>\n",
       "    <tr style=\"text-align: right;\">\n",
       "      <th></th>\n",
       "      <th>level</th>\n",
       "      <th>full_log</th>\n",
       "    </tr>\n",
       "    <tr>\n",
       "      <th>id</th>\n",
       "      <th></th>\n",
       "      <th></th>\n",
       "    </tr>\n",
       "  </thead>\n",
       "  <tbody>\n",
       "    <tr>\n",
       "      <th>0</th>\n",
       "      <td>0</td>\n",
       "      <td>&lt;DATE&gt; &lt;TIME&gt; localhost kibana: {\"type\":\"error...</td>\n",
       "    </tr>\n",
       "    <tr>\n",
       "      <th>1</th>\n",
       "      <td>0</td>\n",
       "      <td>&lt;DATE&gt; &lt;TIME&gt; localhost logstash: [&lt;TS&gt;,&lt;NUM&gt;]...</td>\n",
       "    </tr>\n",
       "    <tr>\n",
       "      <th>2</th>\n",
       "      <td>0</td>\n",
       "      <td>&lt;DATE&gt; &lt;TIME&gt; localhost kibana: {\"type\":\"error...</td>\n",
       "    </tr>\n",
       "    <tr>\n",
       "      <th>3</th>\n",
       "      <td>0</td>\n",
       "      <td>&lt;DATE&gt; &lt;TIME&gt; localhost kibana: {\"type\":\"error...</td>\n",
       "    </tr>\n",
       "    <tr>\n",
       "      <th>4</th>\n",
       "      <td>1</td>\n",
       "      <td>type=SYSCALL msg=audit(&lt;NUM&gt;.&lt;NUM&gt;:&lt;NUM&gt;): arc...</td>\n",
       "    </tr>\n",
       "  </tbody>\n",
       "</table>\n",
       "</div>"
      ],
      "text/plain": [
       "    level                                           full_log\n",
       "id                                                          \n",
       "0       0  <DATE> <TIME> localhost kibana: {\"type\":\"error...\n",
       "1       0  <DATE> <TIME> localhost logstash: [<TS>,<NUM>]...\n",
       "2       0  <DATE> <TIME> localhost kibana: {\"type\":\"error...\n",
       "3       0  <DATE> <TIME> localhost kibana: {\"type\":\"error...\n",
       "4       1  type=SYSCALL msg=audit(<NUM>.<NUM>:<NUM>): arc..."
      ]
     },
     "execution_count": 2,
     "metadata": {},
     "output_type": "execute_result"
    }
   ],
   "source": [
    "DIR = './data'\n",
    "MASKING_VER = 'masked_02_drop'\n",
    "\n",
    "train = pd.read_csv(f'{DIR}/train_{MASKING_VER}.csv', index_col=0)\n",
    "\n",
    "print(train.shape)\n",
    "train.head()"
   ]
  },
  {
   "cell_type": "code",
   "execution_count": 3,
   "id": "45b8249b",
   "metadata": {},
   "outputs": [
    {
     "data": {
      "text/plain": [
       "0    334065\n",
       "1    132517\n",
       "3      4140\n",
       "5      2219\n",
       "2        11\n",
       "4        10\n",
       "6         8\n",
       "Name: level, dtype: int64"
      ]
     },
     "execution_count": 3,
     "metadata": {},
     "output_type": "execute_result"
    }
   ],
   "source": [
    "train['level'].value_counts()"
   ]
  },
  {
   "cell_type": "markdown",
   "id": "d87eb699",
   "metadata": {},
   "source": [
    "# 특수문자"
   ]
  },
  {
   "cell_type": "code",
   "execution_count": 4,
   "id": "ccfb2e3d",
   "metadata": {},
   "outputs": [],
   "source": [
    "train['first_word'] = train['full_log'].str.extract('^([^ ]+)(?: |$)')"
   ]
  },
  {
   "cell_type": "code",
   "execution_count": 5,
   "id": "6655edd7",
   "metadata": {},
   "outputs": [
    {
     "data": {
      "text/plain": [
       "<DATE>           349575\n",
       "type=SYSCALL     116496\n",
       "level              2331\n",
       "ossec:             1318\n",
       "File                822\n",
       "System              820\n",
       "error:              459\n",
       "type=AVC            369\n",
       "oscap:              366\n",
       "E:                  297\n",
       "<YEAR>               31\n",
       "NTFS                 25\n",
       "Trojaned             15\n",
       "Windows              13\n",
       "--MARK--:            12\n",
       "The                  11\n",
       "juniper               4\n",
       "type=USER_AVC         3\n",
       "OpenSCAP              3\n",
       "Name: first_word, dtype: int64"
      ]
     },
     "execution_count": 5,
     "metadata": {},
     "output_type": "execute_result"
    }
   ],
   "source": [
    "train['first_word'].value_counts()"
   ]
  },
  {
   "cell_type": "code",
   "execution_count": 6,
   "id": "41d7af01",
   "metadata": {},
   "outputs": [],
   "source": [
    "def show_contains(target, *, col='full_log', first_words=None, cnt=None):\n",
    "    condition = train[col].str.contains(target)\n",
    "    if first_words is not None:\n",
    "        condition &= train['first_word'].isin(first_words)\n",
    "    \n",
    "    logs = train[condition][col][:cnt] if cnt is not None else train[condition][col]\n",
    "    for log in logs:\n",
    "        print(log, '\\n')"
   ]
  },
  {
   "cell_type": "markdown",
   "id": "47d91dbd",
   "metadata": {},
   "source": [
    "## 공백"
   ]
  },
  {
   "cell_type": "code",
   "execution_count": 7,
   "id": "d68c582a",
   "metadata": {},
   "outputs": [],
   "source": [
    "train['masked'] = train['full_log'].str.replace('\\s+', ' ', regex=True)"
   ]
  },
  {
   "cell_type": "markdown",
   "id": "73ef4c4d",
   "metadata": {},
   "source": [
    "## `][`"
   ]
  },
  {
   "cell_type": "code",
   "execution_count": 8,
   "id": "a298fe82",
   "metadata": {},
   "outputs": [
    {
     "name": "stdout",
     "output_type": "stream",
     "text": [
      "<DATE> <TIME> localhost logstash: [<TS>,<NUM>][INFO ][logstash.outputs.elasticsearch] retrying failed action with response code: <NUM> ({\"type\"=>\"unavailable_shards_exception\", \"reason\"=>\"[wazuh-alerts-audit-<NUM>.x-<NUM>.<NUM>.<NUM>][<NUM>] primary shard is not active Timeout: [1m], request: [BulkShardRequest [[wazuh-alerts-audit-<NUM>.x-<NUM>.<NUM>.<NUM>][<NUM>]] containing [<NUM>] requests]\"}) \n",
      "\n",
      "<DATE> <TIME> localhost logstash: [<TS>,<NUM>][WARN ][logstash.outputs.elasticsearch] Attempted to resurrect connection to dead ES instance, but got an error. {:url=>\"http://localhost:<NUM>/\", :error_type=>LogStash::Outputs::ElasticSearch::HttpClient::Pool::HostUnreachableError, :error=>\"Elasticsearch Unreachable: [http://localhost:<NUM>/][Manticore::SocketException] 연결이 거부됨 (Connection refused)\"} \n",
      "\n",
      "<DATE> <TIME> localhost logstash: [<TS>,<NUM>][WARN ][logstash.outputs.elasticsearch] Attempted to resurrect connection to dead ES instance, but got an error. {:url=>\"http://localhost:<NUM>/\", :error_type=>LogStash::Outputs::ElasticSearch::HttpClient::Pool::HostUnreachableError, :error=>\"Elasticsearch Unreachable: [http://localhost:<NUM>/][Manticore::SocketException] 연결이 거부됨 (Connection refused)\"} \n",
      "\n",
      "<DATE> <TIME> localhost logstash: [<TS>,<NUM>][ERROR][logstash.inputs.jdbc ] Unable to connect to database. Tried <NUM> times {:error_message=>\"Java::ComMysqlJdbcExceptionsJdbc4::CommunicationsException: Communications link failure\\n\\nThe last packet sent successfully to the server was <NUM> milliseconds ago. The driver has not received any packets from the server.\"} \n",
      "\n",
      "<DATE> <TIME> localhost logstash: [<TS>,<NUM>][INFO ][logstash.outputs.elasticsearch] retrying failed action with response code: <NUM> ({\"type\"=>\"unavailable_shards_exception\", \"reason\"=>\"[m-hash-<NUM>.<NUM>][<NUM>] primary shard is not active Timeout: [1m], request: [BulkShardRequest [[m-hash-<NUM>.<NUM>][<NUM>]] containing [<NUM>] requests]\"}) \n",
      "\n"
     ]
    }
   ],
   "source": [
    "show_contains('\\]\\[', col='masked', cnt=5)"
   ]
  },
  {
   "cell_type": "code",
   "execution_count": 9,
   "id": "ba057014",
   "metadata": {},
   "outputs": [],
   "source": [
    "train['masked'] = train['masked'].str.replace('\\]\\[', '] [', regex=True)"
   ]
  },
  {
   "cell_type": "code",
   "execution_count": 10,
   "id": "dcdcae47",
   "metadata": {},
   "outputs": [
    {
     "name": "stdout",
     "output_type": "stream",
     "text": [
      "<DATE> <TIME> localhost logstash: [<TS>,<NUM>][INFO ][logstash.outputs.elasticsearch] retrying failed action with response code: <NUM> ({\"type\"=>\"unavailable_shards_exception\", \"reason\"=>\"[wazuh-alerts-audit-<NUM>.x-<NUM>.<NUM>.<NUM>][<NUM>] primary shard is not active Timeout: [1m], request: [BulkShardRequest [[wazuh-alerts-audit-<NUM>.x-<NUM>.<NUM>.<NUM>][<NUM>]] containing [<NUM>] requests]\"}) \n",
      "\n",
      "<DATE> <TIME> localhost logstash: [<TS>,<NUM>] [INFO ] [logstash.outputs.elasticsearch] retrying failed action with response code: <NUM> ({\"type\"=>\"unavailable_shards_exception\", \"reason\"=>\"[wazuh-alerts-audit-<NUM>.x-<NUM>.<NUM>.<NUM>] [<NUM>] primary shard is not active Timeout: [1m], request: [BulkShardRequest [[wazuh-alerts-audit-<NUM>.x-<NUM>.<NUM>.<NUM>] [<NUM>]] containing [<NUM>] requests]\"}) \n",
      "\n",
      "<DATE> <TIME> localhost logstash: [<TS>,<NUM>][WARN ][logstash.outputs.elasticsearch] Attempted to resurrect connection to dead ES instance, but got an error. {:url=>\"http://localhost:<NUM>/\", :error_type=>LogStash::Outputs::ElasticSearch::HttpClient::Pool::HostUnreachableError, :error=>\"Elasticsearch Unreachable: [http://localhost:<NUM>/][Manticore::SocketException] 연결이 거부됨 (Connection refused)\"} \n",
      "\n",
      "<DATE> <TIME> localhost logstash: [<TS>,<NUM>] [WARN ] [logstash.outputs.elasticsearch] Attempted to resurrect connection to dead ES instance, but got an error. {:url=>\"http://localhost:<NUM>/\", :error_type=>LogStash::Outputs::ElasticSearch::HttpClient::Pool::HostUnreachableError, :error=>\"Elasticsearch Unreachable: [http://localhost:<NUM>/] [Manticore::SocketException] 연결이 거부됨 (Connection refused)\"} \n",
      "\n",
      "<DATE> <TIME> localhost logstash: [<TS>,<NUM>][WARN ][logstash.outputs.elasticsearch] Attempted to resurrect connection to dead ES instance, but got an error. {:url=>\"http://localhost:<NUM>/\", :error_type=>LogStash::Outputs::ElasticSearch::HttpClient::Pool::HostUnreachableError, :error=>\"Elasticsearch Unreachable: [http://localhost:<NUM>/][Manticore::SocketException] 연결이 거부됨 (Connection refused)\"} \n",
      "\n",
      "<DATE> <TIME> localhost logstash: [<TS>,<NUM>] [WARN ] [logstash.outputs.elasticsearch] Attempted to resurrect connection to dead ES instance, but got an error. {:url=>\"http://localhost:<NUM>/\", :error_type=>LogStash::Outputs::ElasticSearch::HttpClient::Pool::HostUnreachableError, :error=>\"Elasticsearch Unreachable: [http://localhost:<NUM>/] [Manticore::SocketException] 연결이 거부됨 (Connection refused)\"} \n",
      "\n"
     ]
    }
   ],
   "source": [
    "for idx in train[train['full_log'].str.contains('\\]\\[')].index[:3]:\n",
    "    print(train['full_log'][idx], '\\n')\n",
    "    print(train['masked'][idx], '\\n')"
   ]
  },
  {
   "cell_type": "markdown",
   "id": "4b48a8bd",
   "metadata": {},
   "source": [
    "`,` "
   ]
  },
  {
   "cell_type": "code",
   "execution_count": 11,
   "id": "3b1b979b",
   "metadata": {},
   "outputs": [
    {
     "name": "stdout",
     "output_type": "stream",
     "text": [
      "<DATE> <TIME> localhost kibana: {\"type\":\"error\",\"@timestamp\":\"<TS>\",\"tags\":[\"warning\",\"stats-collection\"],\"pid\":<NUM>,\"level\":\"error\",\"error\":{\"message\":\"No Living connections\",\"name\":\"Error\",\"stack\":\"Error: No Living connections\\n at sendReqWithConnection (/usr/share/kibana/node_modules/elasticsearch/src/lib/transport.js:<NUM>:<NUM>)\\n at next (/usr/share/kibana/node_modules/elasticsearch/src/lib/connection_pool.js:<NUM>:<NUM>)\\n at process._tickCallback (internal/process/next_tick.js:<NUM>:<NUM>)\"},\"message\":\"No Living connections\"} \n",
      "\n",
      "<DATE> <TIME> localhost logstash: [<TS>,<NUM>] [INFO ] [logstash.outputs.elasticsearch] retrying failed action with response code: <NUM> ({\"type\"=>\"unavailable_shards_exception\", \"reason\"=>\"[wazuh-alerts-audit-<NUM>.x-<NUM>.<NUM>.<NUM>] [<NUM>] primary shard is not active Timeout: [1m], request: [BulkShardRequest [[wazuh-alerts-audit-<NUM>.x-<NUM>.<NUM>.<NUM>] [<NUM>]] containing [<NUM>] requests]\"}) \n",
      "\n",
      "<DATE> <TIME> localhost kibana: {\"type\":\"error\",\"@timestamp\":\"<TS>\",\"tags\":[\"warning\",\"stats-collection\"],\"pid\":<NUM>,\"level\":\"error\",\"error\":{\"message\":\"No Living connections\",\"name\":\"Error\",\"stack\":\"Error: No Living connections\\n at sendReqWithConnection (/usr/share/kibana/node_modules/elasticsearch/src/lib/transport.js:<NUM>:<NUM>)\\n at next (/usr/share/kibana/node_modules/elasticsearch/src/lib/connection_pool.js:<NUM>:<NUM>)\\n at process._tickCallback (internal/process/next_tick.js:<NUM>:<NUM>)\"},\"message\":\"No Living connections\"} \n",
      "\n",
      "<DATE> <TIME> localhost kibana: {\"type\":\"error\",\"@timestamp\":\"<TS>\",\"tags\":[\"warning\",\"stats-collection\"],\"pid\":<NUM>,\"level\":\"error\",\"error\":{\"message\":\"No Living connections\",\"name\":\"Error\",\"stack\":\"Error: No Living connections\\n at sendReqWithConnection (/usr/share/kibana/node_modules/elasticsearch/src/lib/transport.js:<NUM>:<NUM>)\\n at next (/usr/share/kibana/node_modules/elasticsearch/src/lib/connection_pool.js:<NUM>:<NUM>)\\n at process._tickCallback (internal/process/next_tick.js:<NUM>:<NUM>)\"},\"message\":\"No Living connections\"} \n",
      "\n",
      "<DATE> <TIME> localhost kibana: {\"type\":\"error\",\"@timestamp\":\"<TS>\",\"tags\":[\"warning\",\"stats-collection\"],\"pid\":<NUM>,\"level\":\"error\",\"error\":{\"message\":\"No Living connections\",\"name\":\"Error\",\"stack\":\"Error: No Living connections\\n at sendReqWithConnection (/usr/share/kibana/node_modules/elasticsearch/src/lib/transport.js:<NUM>:<NUM>)\\n at next (/usr/share/kibana/node_modules/elasticsearch/src/lib/connection_pool.js:<NUM>:<NUM>)\\n at process._tickCallback (internal/process/next_tick.js:<NUM>:<NUM>)\"},\"message\":\"No Living connections\"} \n",
      "\n"
     ]
    }
   ],
   "source": [
    "show_contains('\\S,\\S', col='masked', cnt=5)"
   ]
  },
  {
   "cell_type": "code",
   "execution_count": 12,
   "id": "eab5d8c6",
   "metadata": {},
   "outputs": [],
   "source": [
    "train['masked'] = train['masked'].str.replace(',', ' , ', regex=True)"
   ]
  },
  {
   "cell_type": "code",
   "execution_count": 13,
   "id": "22f99a60",
   "metadata": {},
   "outputs": [
    {
     "name": "stdout",
     "output_type": "stream",
     "text": [
      "<DATE> <TIME> localhost kibana: {\"type\":\"error\",\"@timestamp\":\"<TS>\",\"tags\":[\"warning\",\"stats-collection\"],\"pid\":<NUM>,\"level\":\"error\",\"error\":{\"message\":\"No Living connections\",\"name\":\"Error\",\"stack\":\"Error: No Living connections\\n    at sendReqWithConnection (/usr/share/kibana/node_modules/elasticsearch/src/lib/transport.js:<NUM>:<NUM>)\\n    at next (/usr/share/kibana/node_modules/elasticsearch/src/lib/connection_pool.js:<NUM>:<NUM>)\\n    at process._tickCallback (internal/process/next_tick.js:<NUM>:<NUM>)\"},\"message\":\"No Living connections\"} \n",
      "\n",
      "<DATE> <TIME> localhost kibana: {\"type\":\"error\" , \"@timestamp\":\"<TS>\" , \"tags\":[\"warning\" , \"stats-collection\"] , \"pid\":<NUM> , \"level\":\"error\" , \"error\":{\"message\":\"No Living connections\" , \"name\":\"Error\" , \"stack\":\"Error: No Living connections\\n at sendReqWithConnection (/usr/share/kibana/node_modules/elasticsearch/src/lib/transport.js:<NUM>:<NUM>)\\n at next (/usr/share/kibana/node_modules/elasticsearch/src/lib/connection_pool.js:<NUM>:<NUM>)\\n at process._tickCallback (internal/process/next_tick.js:<NUM>:<NUM>)\"} , \"message\":\"No Living connections\"} \n",
      "\n",
      "<DATE> <TIME> localhost logstash: [<TS>,<NUM>][INFO ][logstash.outputs.elasticsearch] retrying failed action with response code: <NUM> ({\"type\"=>\"unavailable_shards_exception\", \"reason\"=>\"[wazuh-alerts-audit-<NUM>.x-<NUM>.<NUM>.<NUM>][<NUM>] primary shard is not active Timeout: [1m], request: [BulkShardRequest [[wazuh-alerts-audit-<NUM>.x-<NUM>.<NUM>.<NUM>][<NUM>]] containing [<NUM>] requests]\"}) \n",
      "\n",
      "<DATE> <TIME> localhost logstash: [<TS> , <NUM>] [INFO ] [logstash.outputs.elasticsearch] retrying failed action with response code: <NUM> ({\"type\"=>\"unavailable_shards_exception\" ,  \"reason\"=>\"[wazuh-alerts-audit-<NUM>.x-<NUM>.<NUM>.<NUM>] [<NUM>] primary shard is not active Timeout: [1m] ,  request: [BulkShardRequest [[wazuh-alerts-audit-<NUM>.x-<NUM>.<NUM>.<NUM>] [<NUM>]] containing [<NUM>] requests]\"}) \n",
      "\n",
      "<DATE> <TIME> localhost kibana: {\"type\":\"error\",\"@timestamp\":\"<TS>\",\"tags\":[\"warning\",\"stats-collection\"],\"pid\":<NUM>,\"level\":\"error\",\"error\":{\"message\":\"No Living connections\",\"name\":\"Error\",\"stack\":\"Error: No Living connections\\n    at sendReqWithConnection (/usr/share/kibana/node_modules/elasticsearch/src/lib/transport.js:<NUM>:<NUM>)\\n    at next (/usr/share/kibana/node_modules/elasticsearch/src/lib/connection_pool.js:<NUM>:<NUM>)\\n    at process._tickCallback (internal/process/next_tick.js:<NUM>:<NUM>)\"},\"message\":\"No Living connections\"} \n",
      "\n",
      "<DATE> <TIME> localhost kibana: {\"type\":\"error\" , \"@timestamp\":\"<TS>\" , \"tags\":[\"warning\" , \"stats-collection\"] , \"pid\":<NUM> , \"level\":\"error\" , \"error\":{\"message\":\"No Living connections\" , \"name\":\"Error\" , \"stack\":\"Error: No Living connections\\n at sendReqWithConnection (/usr/share/kibana/node_modules/elasticsearch/src/lib/transport.js:<NUM>:<NUM>)\\n at next (/usr/share/kibana/node_modules/elasticsearch/src/lib/connection_pool.js:<NUM>:<NUM>)\\n at process._tickCallback (internal/process/next_tick.js:<NUM>:<NUM>)\"} , \"message\":\"No Living connections\"} \n",
      "\n"
     ]
    }
   ],
   "source": [
    "for idx in train[train['full_log'].str.contains(',')].index[:3]:\n",
    "    print(train['full_log'][idx], '\\n')\n",
    "    print(train['masked'][idx], '\\n')"
   ]
  },
  {
   "cell_type": "markdown",
   "id": "eff77ac8",
   "metadata": {},
   "source": [
    "## 기타"
   ]
  },
  {
   "cell_type": "markdown",
   "id": "6b5d77b8",
   "metadata": {},
   "source": [
    "`:`"
   ]
  },
  {
   "cell_type": "code",
   "execution_count": 14,
   "id": "e1618d10",
   "metadata": {},
   "outputs": [
    {
     "name": "stdout",
     "output_type": "stream",
     "text": [
      "<DATE> <TIME> localhost kibana: {\"type\":\"error\" , \"@timestamp\":\"<TS>\" , \"tags\":[\"warning\" , \"stats-collection\"] , \"pid\":<NUM> , \"level\":\"error\" , \"error\":{\"message\":\"No Living connections\" , \"name\":\"Error\" , \"stack\":\"Error: No Living connections\\n at sendReqWithConnection (/usr/share/kibana/node_modules/elasticsearch/src/lib/transport.js:<NUM>:<NUM>)\\n at next (/usr/share/kibana/node_modules/elasticsearch/src/lib/connection_pool.js:<NUM>:<NUM>)\\n at process._tickCallback (internal/process/next_tick.js:<NUM>:<NUM>)\"} , \"message\":\"No Living connections\"} \n",
      "\n",
      "<DATE> <TIME> localhost kibana: {\"type\":\"error\" , \"@timestamp\":\"<TS>\" , \"tags\":[\"warning\" , \"stats-collection\"] , \"pid\":<NUM> , \"level\":\"error\" , \"error\":{\"message\":\"No Living connections\" , \"name\":\"Error\" , \"stack\":\"Error: No Living connections\\n at sendReqWithConnection (/usr/share/kibana/node_modules/elasticsearch/src/lib/transport.js:<NUM>:<NUM>)\\n at next (/usr/share/kibana/node_modules/elasticsearch/src/lib/connection_pool.js:<NUM>:<NUM>)\\n at process._tickCallback (internal/process/next_tick.js:<NUM>:<NUM>)\"} , \"message\":\"No Living connections\"} \n",
      "\n",
      "<DATE> <TIME> localhost kibana: {\"type\":\"error\" , \"@timestamp\":\"<TS>\" , \"tags\":[\"warning\" , \"stats-collection\"] , \"pid\":<NUM> , \"level\":\"error\" , \"error\":{\"message\":\"No Living connections\" , \"name\":\"Error\" , \"stack\":\"Error: No Living connections\\n at sendReqWithConnection (/usr/share/kibana/node_modules/elasticsearch/src/lib/transport.js:<NUM>:<NUM>)\\n at next (/usr/share/kibana/node_modules/elasticsearch/src/lib/connection_pool.js:<NUM>:<NUM>)\\n at process._tickCallback (internal/process/next_tick.js:<NUM>:<NUM>)\"} , \"message\":\"No Living connections\"} \n",
      "\n"
     ]
    }
   ],
   "source": [
    "show_contains('\":\"', col='masked', cnt=3)"
   ]
  },
  {
   "cell_type": "markdown",
   "id": "8dd9a644",
   "metadata": {},
   "source": [
    "### =>"
   ]
  },
  {
   "cell_type": "code",
   "execution_count": 15,
   "id": "4f1833e1",
   "metadata": {},
   "outputs": [
    {
     "name": "stdout",
     "output_type": "stream",
     "text": [
      "<DATE> <TIME> localhost logstash: [<TS> , <NUM>] [INFO ] [logstash.outputs.elasticsearch] retrying failed action with response code: <NUM> ({\"type\"=>\"unavailable_shards_exception\" ,  \"reason\"=>\"[wazuh-alerts-audit-<NUM>.x-<NUM>.<NUM>.<NUM>] [<NUM>] primary shard is not active Timeout: [1m] ,  request: [BulkShardRequest [[wazuh-alerts-audit-<NUM>.x-<NUM>.<NUM>.<NUM>] [<NUM>]] containing [<NUM>] requests]\"}) \n",
      "\n",
      "<DATE> <TIME> localhost logstash: [<TS> , <NUM>] [WARN ] [logstash.outputs.elasticsearch] Attempted to resurrect connection to dead ES instance ,  but got an error. {:url=>\"http://localhost:<NUM>/\" ,  :error_type=>LogStash::Outputs::ElasticSearch::HttpClient::Pool::HostUnreachableError ,  :error=>\"Elasticsearch Unreachable: [http://localhost:<NUM>/] [Manticore::SocketException] 연결이 거부됨 (Connection refused)\"} \n",
      "\n",
      "<DATE> <TIME> localhost logstash: [<TS> , <NUM>] [WARN ] [logstash.outputs.elasticsearch] Attempted to resurrect connection to dead ES instance ,  but got an error. {:url=>\"http://localhost:<NUM>/\" ,  :error_type=>LogStash::Outputs::ElasticSearch::HttpClient::Pool::HostUnreachableError ,  :error=>\"Elasticsearch Unreachable: [http://localhost:<NUM>/] [Manticore::SocketException] 연결이 거부됨 (Connection refused)\"} \n",
      "\n"
     ]
    }
   ],
   "source": [
    "show_contains('=>', col='masked', cnt=3)"
   ]
  },
  {
   "cell_type": "markdown",
   "id": "42f9c9d0",
   "metadata": {},
   "source": [
    "`=`"
   ]
  },
  {
   "cell_type": "code",
   "execution_count": 16,
   "id": "c76e0de7",
   "metadata": {},
   "outputs": [
    {
     "name": "stdout",
     "output_type": "stream",
     "text": [
      "type=AVC msg=audit(<NUM>.<NUM>:<NUM>): avc:  denied  { execute } for  pid=<NUM> comm=\"sudo\" name=\"agent_control\" dev=\"dm-<NUM>\" ino=<NUM> scontext=system_u:system_r:httpd_t:s0 tcontext=system_u:object_r:var_t:s0 tclass=file permissive=<NUM> type=AVC msg=audit(<NUM>.<NUM>:<NUM>): avc:  denied  { read open } for  pid=<NUM> comm=\"sudo\" path=\"/var/esild/bin/agent_control\" dev=\"dm-<NUM>\" ino=<NUM> scontext=system_u:system_r:httpd_t:s0 tcontext=system_u:object_r:var_t:s0 tclass=file permissive=<NUM> type=AVC msg=audit(<NUM>.<NUM>:<NUM>): avc:  denied  { execute_no_trans } for  pid=<NUM> comm=\"sudo\" path=\"/var/esild/bin/agent_control\" dev=\"dm-<NUM>\" ino=<NUM> scontext=system_u:system_r:httpd_t:s0 tcontext=system_u:object_r:var_t:s0 tclass=file permissive=<NUM> type=SYSCALL msg=audit(<NUM>.<NUM>:<NUM>): arch=<NUM> syscall=<NUM> success=yes exit=<NUM> a0=<NUM> a1=<NUM> a2=<NUM> a3=<NUM> items=<NUM> ppid=<NUM> pid=<NUM> auid=<NUM> uid=<NUM> gid=<NUM> euid=<NUM> suid=<NUM> fsuid=<NUM> egid=<NUM> sgid=<NUM> fsgid=<NUM> tty=(none) ses=<NUM> comm=\"agent_control\" exe=\"/var/esild/bin/agent_control\" subj=system_u:system_r:httpd_t:s0 key=(null) type=PROCTITLE msg=audit(<NUM>.<NUM>:<NUM>): proctitle=<NUM> \n",
      "\n",
      "type=AVC msg=audit(<NUM>.<NUM>:<NUM>): avc:  denied  { getattr } for  pid=<NUM> comm=\"unix_chkpwd\" path=\"/etc/shadow\" dev=\"dm-<NUM>\" ino=<NUM> scontext=system_u:system_r:httpd_t:s0 tcontext=system_u:object_r:shadow_t:s0 tclass=file permissive=<NUM> type=SYSCALL msg=audit(<NUM>.<NUM>:<NUM>): arch=<NUM> syscall=<NUM> success=yes exit=<NUM> a0=<NUM> a1=<NUM> a2=<NUM> a3=<NUM> items=<NUM> ppid=<NUM> pid=<NUM> auid=<NUM> uid=<NUM> gid=<NUM> euid=<NUM> suid=<NUM> fsuid=<NUM> egid=<NUM> sgid=<NUM> fsgid=<NUM> tty=(none) ses=<NUM> comm=\"unix_chkpwd\" exe=\"/usr/sbin/unix_chkpwd\" subj=system_u:system_r:httpd_t:s0 key=(null) type=PROCTITLE msg=audit(<NUM>.<NUM>:<NUM>): proctitle=<NUM> \n",
      "\n",
      "type=AVC msg=audit(<NUM>.<NUM>:<NUM>): avc:  denied  { name_connect } for  pid=<NUM> comm=\"httpd\" dest=<NUM> scontext=system_u:system_r:httpd_t:s0 tcontext=system_u:object_r:wap_wsp_port_t:s0 tclass=tcp_socket permissive=<NUM> type=SYSCALL msg=audit(<NUM>.<NUM>:<NUM>): arch=<NUM> syscall=<NUM> success=no exit=-<NUM> a0=<NUM> a1=<NUM> a2=<NUM> a3=<NUM> items=<NUM> ppid=<NUM> pid=<NUM> auid=<NUM> uid=<NUM> gid=<NUM> euid=<NUM> suid=<NUM> fsuid=<NUM> egid=<NUM> sgid=<NUM> fsgid=<NUM> tty=(none) ses=<NUM> comm=\"httpd\" exe=\"/usr/sbin/httpd\" subj=system_u:system_r:httpd_t:s0 key=(null) type=PROCTITLE msg=audit(<NUM>.<NUM>:<NUM>): proctitle=<NUM> \n",
      "\n"
     ]
    }
   ],
   "source": [
    "show_contains('\\S=\\S', first_words=set(train['first_word'].unique()).difference({'<DATE>', 'type=SYSCALL'}), cnt=3)"
   ]
  },
  {
   "cell_type": "code",
   "execution_count": 17,
   "id": "5e0ed246",
   "metadata": {},
   "outputs": [
    {
     "name": "stdout",
     "output_type": "stream",
     "text": [
      "type=SYSCALL msg=audit(<NUM>.<NUM>:<NUM>): arch=<NUM> syscall=<NUM> success=yes exit=<NUM> a0=<NUM> a1=<NUM> a2=<NUM> a3=<NUM> items=<NUM> ppid=<NUM> pid=<NUM> auid=<NUM> uid=<NUM> gid=<NUM> euid=<NUM> suid=<NUM> fsuid=<NUM> egid=<NUM> sgid=<NUM> fsgid=<NUM> tty=(none) ses=<NUM> comm=\"date\" exe=\"/usr/bin/date\" subj=system_u:system_r:sysstat_t:s0-s0:c0.c1023 key=\"audit-wazuh-r\" type=CWD msg=audit(<NUM>.<NUM>:<NUM>):  cwd=\"/root\" type=PATH msg=audit(<NUM>.<NUM>:<NUM>): item=<NUM> name=\"/etc/ld.so.cache\" inode=<NUM> dev=<NUM>:<NUM> mode=<NUM> ouid=<NUM> ogid=<NUM> rdev=<NUM>:<NUM> obj=unconfined_u:object_r:ld_so_cache_t:s0 objtype=NORMAL type=PROCTITLE msg=audit(<NUM>.<NUM>:<NUM>): proctitle=<NUM> \n",
      "\n",
      "type=SYSCALL msg=audit(<NUM>.<NUM>:<NUM>): arch=<NUM> syscall=<NUM> success=yes exit=<NUM> a0=<NUM> a1=<NUM> a2=<NUM> a3=<NUM> items=<NUM> ppid=<NUM> pid=<NUM> auid=<NUM> uid=<NUM> gid=<NUM> euid=<NUM> suid=<NUM> fsuid=<NUM> egid=<NUM> sgid=<NUM> fsgid=<NUM> tty=(none) ses=<NUM> comm=\"ps\" exe=\"/usr/bin/ps\" subj=system_u:system_r:unconfined_service_t:s0 key=\"audit-wazuh-r\" type=CWD msg=audit(<NUM>.<NUM>:<NUM>):  cwd=\"/\" type=PATH msg=audit(<NUM>.<NUM>:<NUM>): item=<NUM> name=\"/etc/ld.so.cache\" inode=<NUM> dev=<NUM>:<NUM> mode=<NUM> ouid=<NUM> ogid=<NUM> rdev=<NUM>:<NUM> obj=unconfined_u:object_r:ld_so_cache_t:s0 objtype=NORMAL cap_fp=<NUM> cap_fi=<NUM> cap_fe=<NUM> cap_fver=<NUM> type=PROCTITLE msg=audit(<NUM>.<NUM>:<NUM>): proctitle=<NUM> \n",
      "\n",
      "type=SYSCALL msg=audit(<NUM>.<NUM>:<NUM>): arch=<NUM> syscall=<NUM> success=yes exit=<NUM> a0=<NUM> a1=<NUM> a2=<NUM> a3=<NUM> items=<NUM> ppid=<NUM> pid=<NUM> auid=<NUM> uid=<NUM> gid=<NUM> euid=<NUM> suid=<NUM> fsuid=<NUM> egid=<NUM> sgid=<NUM> fsgid=<NUM> tty=(none) ses=<NUM> comm=\"ps\" exe=\"/usr/bin/ps\" subj=system_u:system_r:unconfined_service_t:s0 key=\"audit-wazuh-x\" type=EXECVE msg=audit(<NUM>.<NUM>:<NUM>): argc=<NUM> a0=\"/bin/ps\" a1=\"-p\" a2=\"<NUM>\" type=CWD msg=audit(<NUM>.<NUM>:<NUM>):  cwd=\"/\" type=PATH msg=audit(<NUM>.<NUM>:<NUM>): item=<NUM> name=\"/bin/ps\" inode=<NUM> dev=<NUM>:<NUM> mode=<NUM> ouid=<NUM> ogid=<NUM> rdev=<NUM>:<NUM> obj=system_u:object_r:bin_t:s0 objtype=NORMAL cap_fp=<NUM> cap_fi=<NUM> cap_fe=<NUM> cap_fver=<NUM> type=PATH msg=audit(<NUM>.<NUM>:<NUM>): item=<NUM> name=\"/lib64/ld-linux-x86-<NUM>.so.<NUM>\" inode=<NUM> dev=<NUM>:<NUM> mode=<NUM> ouid=<NUM> ogid=<NUM> rdev=<NUM>:<NUM> obj=system_u:object_r:ld_so_t:s0 objtype=NORMAL cap_fp=<NUM> cap_fi=<NUM> cap_fe=<NUM> cap_fver=<NUM> type=PROCTITLE msg=audit(<NUM>.<NUM>:<NUM>): proctitle=<NUM> \n",
      "\n"
     ]
    }
   ],
   "source": [
    "show_contains('\\S=\\S', first_words={'type=SYSCALL'}, cnt=3)"
   ]
  },
  {
   "cell_type": "code",
   "execution_count": 18,
   "id": "02f77d9f",
   "metadata": {},
   "outputs": [
    {
     "name": "stdout",
     "output_type": "stream",
     "text": [
      "<DATE> <TIME> localhost sudo: pam_unix(sudo:session): session opened for user root by (uid=<NUM>) \n",
      "\n",
      "<DATE> <TIME> localhost sudo:    root : TTY=unknown ; PWD=/root ; USER=root ; COMMAND=/bin/ping -c <NUM> <IP> \n",
      "\n",
      "<DATE> <TIME> localhost sudo: pam_unix(sudo:session): session opened for user root by (uid=<NUM>) \n",
      "\n"
     ]
    }
   ],
   "source": [
    "show_contains('(?<=localhost sudo:).+?\\S=\\S', first_words={'<DATE>'}, cnt=3)"
   ]
  },
  {
   "cell_type": "markdown",
   "id": "f5e05bcd",
   "metadata": {},
   "source": [
    "# apply masking"
   ]
  },
  {
   "cell_type": "code",
   "execution_count": 19,
   "id": "06e281b9",
   "metadata": {},
   "outputs": [],
   "source": [
    "TARGET_COLUMN = 'full_log'\n",
    "PATTERNS = [('\\]\\[', '] ['), \n",
    "            (',', ' , '), \n",
    "            ('\\s+', ' ')]\n",
    "\n",
    "def apply_masking(df):\n",
    "    for pat, repl in PATTERNS:\n",
    "        df[TARGET_COLUMN] = df[TARGET_COLUMN].str.replace(pat, repl, regex=True)"
   ]
  },
  {
   "cell_type": "code",
   "execution_count": 20,
   "id": "cd2cad8b",
   "metadata": {},
   "outputs": [
    {
     "name": "stderr",
     "output_type": "stream",
     "text": [
      "C:\\Users\\ASIA-11\\anaconda3\\envs\\prj_final\\lib\\site-packages\\numpy\\lib\\arraysetops.py:580: FutureWarning: elementwise comparison failed; returning scalar instead, but in the future will perform elementwise comparison\n",
      "  mask |= (ar1 == a)\n"
     ]
    },
    {
     "data": {
      "text/plain": [
       "((472970, 2), (3, 1), (1418916, 1))"
      ]
     },
     "execution_count": 20,
     "metadata": {},
     "output_type": "execute_result"
    }
   ],
   "source": [
    "MASKING_VER = 'masked_02'\n",
    "\n",
    "train = pd.read_csv(f'{DIR}/train_{MASKING_VER}_drop.csv', index_col=0)\n",
    "validation = pd.read_csv(f'{DIR}/validation_{MASKING_VER}.csv', index_col=0)\n",
    "test = pd.read_csv(f'{DIR}/test_{MASKING_VER}.csv', index_col=0)\n",
    "\n",
    "train.shape, validation.shape, test.shape"
   ]
  },
  {
   "cell_type": "code",
   "execution_count": 21,
   "id": "516afd29",
   "metadata": {},
   "outputs": [],
   "source": [
    "FILES = {'train': train, 'validation': validation, 'test': test}\n",
    "\n",
    "for file, df in FILES.items():\n",
    "    apply_masking(df)\n",
    "    df.to_csv(f'./data/{file}_masked_03.csv')"
   ]
  }
 ],
 "metadata": {
  "kernelspec": {
   "display_name": "Python 3",
   "language": "python",
   "name": "python3"
  },
  "language_info": {
   "codemirror_mode": {
    "name": "ipython",
    "version": 3
   },
   "file_extension": ".py",
   "mimetype": "text/x-python",
   "name": "python",
   "nbconvert_exporter": "python",
   "pygments_lexer": "ipython3",
   "version": "3.8.8"
  }
 },
 "nbformat": 4,
 "nbformat_minor": 5
}
